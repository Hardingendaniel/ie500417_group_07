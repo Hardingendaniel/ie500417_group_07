{
 "cells": [
  {
   "cell_type": "code",
   "execution_count": 1,
   "metadata": {},
   "outputs": [],
   "source": [
    "import pandas as pd\n",
    "import pandasql as sql\n",
    "data = pd.read_csv('owid-co2-data.csv')\n",
    "from dash import Dash, dcc, html, Input, Output\n",
    "import plotly.express as px"
   ]
  },
  {
   "cell_type": "code",
   "execution_count": 5,
   "metadata": {},
   "outputs": [
    {
     "data": {
      "text/plain": [
       "array(['Aruba', 'Afghanistan', 'Angola', 'Anguilla', 'Albania', 'Andorra',\n",
       "       'United Arab Emirates', 'Argentina', 'Armenia', 'Antarctica',\n",
       "       'Antigua and Barbuda', 'Australia', 'Austria', 'Azerbaijan',\n",
       "       'Burundi', 'Belgium', 'Benin', 'Bonaire Sint Eustatius and Saba',\n",
       "       'Burkina Faso', 'Bangladesh', 'Bulgaria', 'Bahrain', 'Bahamas',\n",
       "       'Bosnia and Herzegovina', 'Belarus', 'Belize', 'Bermuda',\n",
       "       'Bolivia', 'Brazil', 'Barbados', 'Brunei', 'Bhutan', 'Botswana',\n",
       "       'Central African Republic', 'Canada', 'Switzerland', 'Chile',\n",
       "       'China', \"Cote d'Ivoire\", 'Cameroon',\n",
       "       'Democratic Republic of Congo', 'Congo', 'Cook Islands',\n",
       "       'Colombia', 'Comoros', 'Cape Verde', 'Costa Rica', 'Cuba',\n",
       "       'Curacao', 'Christmas Island', 'Cyprus', 'Czechia', 'Germany',\n",
       "       'Djibouti', 'Dominica', 'Denmark', 'Dominican Republic', 'Algeria',\n",
       "       'Ecuador', 'Egypt', 'Eritrea', 'Spain', 'Estonia', 'Ethiopia',\n",
       "       'Finland', 'Fiji', 'France', 'Faroe Islands',\n",
       "       'Micronesia (country)', 'Gabon', 'United Kingdom', 'Georgia',\n",
       "       'Ghana', 'Guinea', 'Gambia', 'Guinea-Bissau', 'Equatorial Guinea',\n",
       "       'Greece', 'Grenada', 'Greenland', 'Guatemala', 'Guyana',\n",
       "       'Hong Kong', 'Honduras', 'Croatia', 'Haiti', 'Hungary',\n",
       "       'Indonesia', 'India', 'Ireland', 'Iran', 'Iraq', 'Iceland',\n",
       "       'Israel', 'Italy', 'Jamaica', 'Jordan', 'Japan', 'Kazakhstan',\n",
       "       'Kenya', 'Kyrgyzstan', 'Cambodia', 'Kiribati',\n",
       "       'Saint Kitts and Nevis', 'South Korea', 'Kuwait', 'Laos',\n",
       "       'Lebanon', 'Liberia', 'Libya', 'Saint Lucia', 'Liechtenstein',\n",
       "       'Sri Lanka', 'Lesotho', 'Lithuania', 'Luxembourg', 'Latvia',\n",
       "       'Macao', 'Morocco', 'Monaco', 'Moldova', 'Madagascar', 'Maldives',\n",
       "       'Mexico', 'Marshall Islands', 'North Macedonia', 'Mali', 'Malta',\n",
       "       'Myanmar', 'Montenegro', 'Mongolia', 'Mozambique', 'Mauritania',\n",
       "       'Montserrat', 'Mauritius', 'Malawi', 'Malaysia', 'Namibia',\n",
       "       'New Caledonia', 'Niger', 'Nigeria', 'Nicaragua', 'Niue',\n",
       "       'Netherlands', 'Norway', 'Nepal', 'Nauru', 'New Zealand', 'Oman',\n",
       "       'Pakistan', 'Panama', 'Peru', 'Philippines', 'Palau',\n",
       "       'Papua New Guinea', 'Poland', 'North Korea', 'Portugal',\n",
       "       'Paraguay', 'Palestine', 'French Polynesia', 'Qatar', 'Romania',\n",
       "       'Russia', 'Rwanda', 'Saudi Arabia', 'Sudan', 'Senegal',\n",
       "       'Singapore', 'Saint Helena', 'Solomon Islands', 'Sierra Leone',\n",
       "       'El Salvador', 'San Marino', 'Somalia',\n",
       "       'Saint Pierre and Miquelon', 'Serbia', 'South Sudan',\n",
       "       'Sao Tome and Principe', 'Suriname', 'Slovakia', 'Slovenia',\n",
       "       'Sweden', 'Eswatini', 'Sint Maarten (Dutch part)', 'Seychelles',\n",
       "       'Syria', 'Turks and Caicos Islands', 'Chad', 'Togo', 'Thailand',\n",
       "       'Tajikistan', 'Turkmenistan', 'East Timor', 'Tonga',\n",
       "       'Trinidad and Tobago', 'Tunisia', 'Turkey', 'Tuvalu', 'Taiwan',\n",
       "       'Tanzania', 'Uganda', 'Ukraine', 'Uruguay', 'United States',\n",
       "       'Uzbekistan', 'Vatican', 'Saint Vincent and the Grenadines',\n",
       "       'Venezuela', 'British Virgin Islands', 'Vietnam', 'Vanuatu',\n",
       "       'Wallis and Futuna', 'Samoa', 'Yemen', 'South Africa', 'Zambia',\n",
       "       'Zimbabwe'], dtype=object)"
      ]
     },
     "execution_count": 5,
     "metadata": {},
     "output_type": "execute_result"
    }
   ],
   "source": [
    "# filtrer etter rader som har iso kode og et land\n",
    "country_query = \"\"\"\n",
    "SELECT DISTINCT iso_code, country, population, co2_growth_abs, year\n",
    "FROM data\n",
    "WHERE iso_code IS NOT NULL AND iso_code != \"\" AND LENGTH(iso_code) = 3\n",
    "GROUP BY iso_code, year\n",
    "\"\"\"\n",
    "country_result = sql.sqldf(country_query, locals())\n",
    "country_result['country'].unique()"
   ]
  },
  {
   "cell_type": "code",
   "execution_count": 6,
   "metadata": {},
   "outputs": [
    {
     "name": "stdout",
     "output_type": "stream",
     "text": [
      "      iso_code   country  population  co2_growth_abs  year\n",
      "0          ABW     Aruba         NaN             NaN  1851\n",
      "1          ABW     Aruba         NaN             NaN  1852\n",
      "2          ABW     Aruba         NaN             NaN  1853\n",
      "3          ABW     Aruba         NaN             NaN  1854\n",
      "4          ABW     Aruba         NaN             NaN  1855\n",
      "...        ...       ...         ...             ...   ...\n",
      "39543      ZWE  Zimbabwe  15052191.0           1.419  2018\n",
      "39544      ZWE  Zimbabwe  15354606.0          -0.939  2019\n",
      "39545      ZWE  Zimbabwe  15669663.0          -1.926  2020\n",
      "39546      ZWE  Zimbabwe  15993525.0           0.547  2021\n",
      "39547      ZWE  Zimbabwe  16320539.0           0.460  2022\n",
      "\n",
      "[39548 rows x 5 columns]\n"
     ]
    }
   ],
   "source": [
    "print(country_result)"
   ]
  },
  {
   "cell_type": "code",
   "execution_count": 7,
   "metadata": {},
   "outputs": [
    {
     "data": {
      "text/html": [
       "\n",
       "        <iframe\n",
       "            width=\"100%\"\n",
       "            height=\"650\"\n",
       "            src=\"http://127.0.0.1:8050/\"\n",
       "            frameborder=\"0\"\n",
       "            allowfullscreen\n",
       "            \n",
       "        ></iframe>\n",
       "        "
      ],
      "text/plain": [
       "<IPython.lib.display.IFrame at 0x278ad51dca0>"
      ]
     },
     "metadata": {},
     "output_type": "display_data"
    }
   ],
   "source": [
    "\"\"\" # filtrer etter rader som har iso kode og et land\n",
    "\n",
    "country_result = sql.sqldf(country_query, locals())\n",
    "\n",
    "# Initialize the Dash app\n",
    "app = Dash(__name__)\n",
    "\n",
    "# Define country options for the dropdown\n",
    "country_options = [{'label': country, 'value': country} for country in country_result['country'].unique()]\n",
    "\n",
    "# Define the layout\n",
    "app.layout = html.Div([\n",
    "    html.H1(\"CO₂ Growth Trend Over Years by Country\"),\n",
    "    dcc.Dropdown(\n",
    "        id='country-dropdown',\n",
    "        options=country_options,\n",
    "        value=country_options[0]['value'],  # Default to the first country in the list\n",
    "        clearable=False\n",
    "    ),\n",
    "    dcc.Graph(id='co2-trend-graph')\n",
    "])\n",
    "\n",
    "# Define the callback to update the graph\n",
    "@app.callback(\n",
    "    Output('co2-trend-graph', 'figure'),\n",
    "    Input('country-dropdown', 'value')\n",
    ")\n",
    "def update_graph(selected_country):\n",
    "    # Filter data for the selected country\n",
    "    filtered_df = country_result[country_result['country'] == selected_country]\n",
    "\n",
    "    # Create a line plot for CO₂ growth over the years\n",
    "    fig = px.line(\n",
    "        filtered_df,\n",
    "        x='year',\n",
    "        y='co2_growth_abs',\n",
    "        title=f\"CO₂ Growth Trend for {selected_country}\",\n",
    "        labels={'year': 'Year', 'co2_growth_abs': 'CO₂ Growth Absolute'}\n",
    "    )\n",
    "    return fig\n",
    "\n",
    "# Run the app\n",
    "if __name__ == '__main__':\n",
    "    app.run_server(debug=True) \"\"\""
   ]
  }
 ],
 "metadata": {
  "kernelspec": {
   "display_name": "Python 3",
   "language": "python",
   "name": "python3"
  },
  "language_info": {
   "codemirror_mode": {
    "name": "ipython",
    "version": 3
   },
   "file_extension": ".py",
   "mimetype": "text/x-python",
   "name": "python",
   "nbconvert_exporter": "python",
   "pygments_lexer": "ipython3",
   "version": "3.12.2"
  }
 },
 "nbformat": 4,
 "nbformat_minor": 2
}
