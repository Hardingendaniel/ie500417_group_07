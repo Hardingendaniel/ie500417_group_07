{
 "cells": [
  {
   "cell_type": "code",
   "execution_count": 33,
   "metadata": {},
   "outputs": [],
   "source": [
    "import pandas as pd\n",
    "import pandasql as sql\n",
    "from dash import Dash, dcc, html, Input, Output\n",
    "import plotly.express as px\n",
    "import dash_core_components as dcc\n",
    "import dash_html_components as html\n",
    "from dash.dependencies import Input, Output\n",
    "data = pd.read_csv('../data/total-ghg-emissions.csv')"
   ]
  },
  {
   "cell_type": "markdown",
   "metadata": {},
   "source": [
    "## Original Dataset didn't include 2021-2022 for total_ghg\n",
    "\n",
    "<p>Have used OWID as source again, where a dataset for Total greenhouse gas emissions\" was downloaded, which contains data from 2021 and 2022.</p>\n",
    "<p>\"Annual greenhouse gas emissions by world region, 1850 to 2022\n",
    "Greenhouse gas emissions include carbon dioxide, methane and nitrous oxide from all sources, including land-use\n",
    "change. They are measured in tonnes of carbon dioxide-equivalents over a 100-year timescale.\"</p>\n",
    "\n",
    "<p>Hannah Ritchie, Pablo Rosado and Max Roser (2020) - “Greenhouse gas emissions” Published online at OurWorldinData.org. Retrieved from: 'https://ourworldindata.org/greenhouse-gas-emissions' [Online Resource]</p>\n"
   ]
  },
  {
   "cell_type": "code",
   "execution_count": 34,
   "metadata": {},
   "outputs": [],
   "source": [
    "import pandasql as sql\n",
    "\n",
    "# Query with the total_ghg from all countries, setting aliases to be similar to the other dataset.\n",
    "country_query = \"\"\"\n",
    "SELECT DISTINCT Code AS iso_code, Entity AS country, Year AS year,\n",
    "                \"Annual greenhouse gas emissions in CO₂ equivalents\" AS total_ghg\n",
    "FROM data\n",
    "WHERE Code IS NOT NULL AND Code != \"\" AND LENGTH(Code) = 3\n",
    "GROUP BY Code, Year\n",
    "\"\"\"\n",
    "\n",
    "country_result = sql.sqldf(country_query, locals())\n"
   ]
  },
  {
   "cell_type": "code",
   "execution_count": 35,
   "metadata": {},
   "outputs": [],
   "source": [
    "# Map europe into north & south countries\n",
    "northern_europe = [\n",
    "    'NOR', 'SWE', 'FIN', 'DNK', 'ISL', 'GBR', 'IRL', 'DEU', 'NLD', 'POL', \n",
    "    'EST', 'LVA', 'LTU', 'RUS', 'BLR', 'CZE', 'SVK', 'FRA', 'UKR', \n",
    "    'CHE', 'AUT', 'HUN', 'BEL', 'LUX', 'MDA'\n",
    "]\n",
    "\n",
    "# Southern Europe with added countries: MCO (Monaco), SMR (San Marino), VAT (Vatican City), AND (Andorra), SRB (Serbia), MKD (North Macedonia)\n",
    "southern_europe = [\n",
    "    'ITA', 'ESP', 'PRT', 'GRC', 'MLT', 'CYP', 'HRV', 'SVN', 'BGR', \n",
    "    'ROU', 'ALB', 'BIH', 'MNE', 'MKD', 'MCO', 'SMR', 'VAT', 'AND', 'SRB'\n",
    "]\n",
    "\n",
    "\n",
    "# Add a 'north_or_south' column based on the north & south mapping.\n",
    "country_result['north_or_south'] = country_result['iso_code'].apply(lambda x: 'Northern' if x in northern_europe else ('Southern' if x in southern_europe else None))\n",
    "\n",
    "# Filter out to only grab countries with a north_or_south column.\n",
    "europe_result = country_result[country_result['north_or_south'].notnull()]"
   ]
  },
  {
   "cell_type": "code",
   "execution_count": 36,
   "metadata": {},
   "outputs": [
    {
     "name": "stdout",
     "output_type": "stream",
     "text": [
      "      iso_code  country  year    total_ghg north_or_south\n",
      "346        ALB  Albania  1850    1392864.4       Southern\n",
      "347        ALB  Albania  1851    1403336.1       Southern\n",
      "348        ALB  Albania  1852    1420242.0       Southern\n",
      "349        ALB  Albania  1853    1432543.5       Southern\n",
      "350        ALB  Albania  1854    1437972.4       Southern\n",
      "...        ...      ...   ...          ...            ...\n",
      "31827      UKR  Ukraine  2018  315419140.0       Northern\n",
      "31828      UKR  Ukraine  2019  304761280.0       Northern\n",
      "31829      UKR  Ukraine  2020  289791000.0       Northern\n",
      "31830      UKR  Ukraine  2021  289413000.0       Northern\n",
      "31831      UKR  Ukraine  2022  216495890.0       Northern\n",
      "\n",
      "[7093 rows x 5 columns]\n"
     ]
    }
   ],
   "source": [
    "print(europe_result)"
   ]
  },
  {
   "cell_type": "code",
   "execution_count": 37,
   "metadata": {},
   "outputs": [
    {
     "data": {
      "text/html": [
       "\n",
       "        <iframe\n",
       "            width=\"100%\"\n",
       "            height=\"650\"\n",
       "            src=\"http://127.0.0.1:8089/\"\n",
       "            frameborder=\"0\"\n",
       "            allowfullscreen\n",
       "            \n",
       "        ></iframe>\n",
       "        "
      ],
      "text/plain": [
       "<IPython.lib.display.IFrame at 0x1ca619a1c40>"
      ]
     },
     "metadata": {},
     "output_type": "display_data"
    }
   ],
   "source": [
    "app = Dash(__name__)\n",
    "\n",
    "# Dropdown country options\n",
    "country_options = [{'label': country, 'value': country} for country in country_result['country'].unique()]\n",
    "\n",
    "# Layout\n",
    "app.layout = html.Div([\n",
    "    html.H1(\"GHG Emissions Analysis by Country and Region\"),\n",
    "    \n",
    "    html.Div([\n",
    "        html.H2(\"Annual Greenhouse Gas Emissions Over Years by Country\"),\n",
    "        dcc.Dropdown(\n",
    "            id='country-dropdown',\n",
    "            options=country_options,\n",
    "            value=country_options[0]['value'],\n",
    "            clearable=False\n",
    "        ),\n",
    "        dcc.Graph(id='ghg-emission-trend-graph')\n",
    "    ]),\n",
    "    \n",
    "    html.Div([\n",
    "        html.H2(\"Total GHG Emissions by Country: Northern vs Southern Europe\"),\n",
    "        dcc.Graph(id='ghg-north-south-trend-graph')\n",
    "    ])\n",
    "])\n",
    "\n",
    "@app.callback(\n",
    "    Output('ghg-emission-trend-graph', 'figure'),\n",
    "    Input('country-dropdown', 'value')\n",
    ")\n",
    "def update_annual_ghg_graph(selected_country):\n",
    "    # Filter for selected country\n",
    "    filtered_df = country_result[country_result['country'] == selected_country]\n",
    "\n",
    "    fig = px.line(\n",
    "        filtered_df,\n",
    "        x='year',\n",
    "        y='total_ghg',\n",
    "        title=f\"Total Greenhouse Gas Emissions for {selected_country}\",\n",
    "        labels={'year': 'Year', 'total_ghg': 'Total GHG Emissions (CO₂e)'}\n",
    "    )\n",
    "    return fig\n",
    "\n",
    "@app.callback(\n",
    "    Output('ghg-north-south-trend-graph', 'figure'),\n",
    "    Input('ghg-north-south-trend-graph', 'id')\n",
    ")\n",
    "def update_north_south_ghg_graph(dummy_input):\n",
    "    fig1 = px.line(\n",
    "        europe_result,\n",
    "        x='year',\n",
    "        y='total_ghg',\n",
    "        color='north_or_south',\n",
    "        line_group='country',\n",
    "        title=\"Total GHG Emissions by Country: Northern- vs Southern Europe\",\n",
    "        labels={'year': 'Year', 'total_ghg': 'Total GHG Emissions (CO₂e)'},\n",
    "        color_discrete_map={'Northern': 'blue', 'Southern': 'red'}\n",
    "    )\n",
    "    fig1.update_traces(mode='lines', line=dict(width=1))\n",
    "    fig1.update_xaxes(range=[1990, europe_result['year'].max()])\n",
    "\n",
    "    return fig1\n",
    "\n",
    "if __name__ == '__main__':\n",
    "    app.run_server(debug=True, port=8089)\n",
    "\n",
    "\n"
   ]
  },
  {
   "cell_type": "code",
   "execution_count": null,
   "metadata": {},
   "outputs": [
    {
     "data": {
      "text/html": [
       "\n",
       "        <iframe\n",
       "            width=\"100%\"\n",
       "            height=\"650\"\n",
       "            src=\"http://127.0.0.1:7211/\"\n",
       "            frameborder=\"0\"\n",
       "            allowfullscreen\n",
       "            \n",
       "        ></iframe>\n",
       "        "
      ],
      "text/plain": [
       "<IPython.lib.display.IFrame at 0x1ca62c82870>"
      ]
     },
     "metadata": {},
     "output_type": "display_data"
    }
   ],
   "source": [
    "app = Dash(__name__)\n",
    "\n",
    "# Add a layout that has a year slider (from 1990 to 2023), subject to change.\n",
    "app.layout = html.Div([\n",
    "    dcc.Graph(id='choropleth-map'),\n",
    "    dcc.Slider(\n",
    "        id='year-slider',\n",
    "        min=1990,\n",
    "        max=2022,\n",
    "        value=1990,\n",
    "        marks={str(year): str(year) for year in range(1990, 2023)},\n",
    "        step=1\n",
    "    ),\n",
    "    html.Div(id='selected-data')\n",
    "])\n",
    "\n",
    "@app.callback(\n",
    "    Output('choropleth-map', 'figure'),\n",
    "    Input('year-slider', 'value'))\n",
    "def update_map(selected_year):\n",
    "    # Filter the data to only show European countries.\n",
    "    filtered_df = europe_result[europe_result['year'] == selected_year].copy()\n",
    "    \n",
    "    # Rename the columns to be more human-reading friendly.\n",
    "    filtered_df = filtered_df.rename(columns={\n",
    "        \"total_ghg\": \"Total Greenhouse Gas Emission\"\n",
    "    })\n",
    "\n",
    "    # Create the choropleth map with a custom color scale (gradient)\n",
    "    fig = px.choropleth(\n",
    "        filtered_df,\n",
    "        locations=\"iso_code\",\n",
    "        color=\"Total Greenhouse Gas Emission\",\n",
    "        hover_name=\"country\",\n",
    "        color_continuous_scale=[\n",
    "            # Start at a light yellow for the lowest emission, going to dark red for the highest. Should adjust the threshold.\n",
    "            (0.0, \"#ffffe0\"),  # light yellow\n",
    "            (0.2, \"#ffd59b\"),  # light orange\n",
    "            (0.4, \"#fdae61\"),  # orange\n",
    "            (0.6, \"#f46d43\"),  # red-orange\n",
    "            (0.8, \"#d73027\"),  # red\n",
    "            (1.0, \"#a50026\")   # dark red\n",
    "        ],\n",
    "        scope=\"world\" # world map via plotly.\n",
    "    )\n",
    "\n",
    "    # Allow zoom, and center upon Europe on startup. Uses \"natural earth\" from Plotly.\n",
    "    fig.update_geos(\n",
    "        projection_type=\"natural earth\",\n",
    "        center={\"lat\": 50, \"lon\": 10},\n",
    "        showcoastlines=True,\n",
    "        coastlinecolor=\"Gray\",\n",
    "        showland=True,\n",
    "        landcolor=\"lightgrey\",\n",
    "        showcountries=True\n",
    "    )\n",
    "\n",
    "    # Adds year, country name and title to the tooltip (cursor)\n",
    "    fig.update_traces(\n",
    "        hovertemplate=(\n",
    "            \"<b>%{hovertext}</b><br>\"\n",
    "            \"Year: \" + str(selected_year) + \"<br>\"\n",
    "            \"Total Greenhouse Gas Emission\"\n",
    "        )\n",
    "    )\n",
    "    fig.update_layout(\n",
    "        coloraxis_colorbar=dict(\n",
    "            title=f\"Total Greenhouse Gas Emission in Year {selected_year}\"\n",
    "        )\n",
    "    )\n",
    "\n",
    "    return fig\n",
    "\n",
    "if __name__ == '__main__':\n",
    "    app.run_server(debug=True, port=7211)\n",
    "\n"
   ]
  }
 ],
 "metadata": {
  "kernelspec": {
   "display_name": "Python 3",
   "language": "python",
   "name": "python3"
  },
  "language_info": {
   "codemirror_mode": {
    "name": "ipython",
    "version": 3
   },
   "file_extension": ".py",
   "mimetype": "text/x-python",
   "name": "python",
   "nbconvert_exporter": "python",
   "pygments_lexer": "ipython3",
   "version": "3.12.2"
  }
 },
 "nbformat": 4,
 "nbformat_minor": 2
}
