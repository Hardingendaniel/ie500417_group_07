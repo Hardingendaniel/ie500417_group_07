{
 "cells": [
  {
   "cell_type": "code",
   "execution_count": null,
   "metadata": {
    "ExecuteTime": {
     "end_time": "2024-11-02T11:07:08.868711Z",
     "start_time": "2024-11-02T11:07:07.208615800Z"
    }
   },
   "outputs": [],
   "source": [
    "import pandas as pd\n",
    "import pandasql as sql\n",
    "data = pd.read_csv('../data/owid-co2-data.csv')\n",
    "from dash import Dash, dcc, html, Input, Output\n",
    "import plotly.express as px"
   ]
  },
  {
   "cell_type": "code",
   "execution_count": 2,
   "metadata": {
    "ExecuteTime": {
     "end_time": "2024-11-02T11:07:08.876766200Z",
     "start_time": "2024-11-02T11:07:08.876221200Z"
    }
   },
   "outputs": [],
   "source": [
    "# filtrer etter rader som har iso kode og et land\n",
    "country_query = \"\"\"\n",
    "SELECT DISTINCT iso_code, country, population, co2_growth_abs, year\n",
    "FROM data\n",
    "WHERE iso_code IS NOT NULL AND iso_code != \"\" AND LENGTH(iso_code) = 3\n",
    "GROUP BY iso_code, year\n",
    "\"\"\"\n",
    "country_result = sql.sqldf(country_query, locals())\n",
    "# country_result['country'].unique()"
   ]
  },
  {
   "cell_type": "code",
   "execution_count": 3,
   "metadata": {},
   "outputs": [],
   "source": [
    "# To find the iso_codes. Used to filter out European countries, and then into north- or south.\n",
    "iso_query = \"\"\"\n",
    "SELECT DISTINCT iso_code, country\n",
    "FROM data\n",
    "WHERE iso_code IS NOT NULL AND iso_code != \"\" AND LENGTH(iso_code) = 3\n",
    "\"\"\"\n",
    "country_result = sql.sqldf(iso_query, locals())\n",
    "iso_codes = country_result['iso_code'].unique()\n",
    "# print(iso_codes)"
   ]
  },
  {
   "cell_type": "code",
   "execution_count": null,
   "metadata": {},
   "outputs": [],
   "source": [
    "# Create a mapping of north & south.\n",
    "northern_europe = ['NOR', 'SWE', 'FIN', 'DNK', 'ISL', 'GBR', 'IRL', 'DEU', 'NLD', 'POL', 'EST', 'LVA', 'LTU', 'RUS', 'BLR', 'CZE', 'SVK']\n",
    "southern_europe = ['ITA', 'ESP', 'PRT', 'GRC', 'MLT', 'CYP', 'HRV', 'SVN', 'BGR', 'ROU', 'ALB', 'BIH', 'MNE', 'MKD']\n",
    "\n",
    "# Add a 'north_or_south' column based on the north & south mapping.\n",
    "country_result['north_or_south'] = country_result['iso_code'].apply(lambda x: 'Northern' if x in northern_europe else ('Southern' if x in southern_europe else None))\n",
    "\n",
    "# Filter out to only grab countries with a north_or_south column.\n",
    "europe_result = country_result[country_result['north_or_south'].notnull()]\n"
   ]
  },
  {
   "cell_type": "code",
   "execution_count": 5,
   "metadata": {},
   "outputs": [],
   "source": [
    "# print(europe_result)"
   ]
  },
  {
   "cell_type": "code",
   "execution_count": null,
   "metadata": {},
   "outputs": [],
   "source": [
    "# Query the \"ghg_per_capita\" - Total greenhouse gas emissions per capita including land-use change and forestry - Emissions are measured in tonnes of carbon dioxide-equivalents per person.\n",
    "ghg_query = \"\"\"\n",
    "SELECT DISTINCT iso_code, country, year, population, ghg_per_capita\n",
    "FROM data\n",
    "WHERE iso_code IS NOT NULL AND iso_code != \"\" AND LENGTH(iso_code) = 3\n",
    "GROUP BY iso_code, year\n",
    "\"\"\"\n",
    "ghg_result = sql.sqldf(ghg_query, locals())\n",
    "\n",
    "# Add the 'north_or_south' column based on your mapping\n",
    "ghg_result['north_or_south'] = ghg_result['iso_code'].apply(lambda x: 'Northern' if x in northern_europe else ('Southern' if x in southern_europe else None))\n",
    "\n",
    "# Filter for European countries that have a north_or_south column.\n",
    "ghg_result = ghg_result[ghg_result['north_or_south'].notnull()]\n",
    "\n"
   ]
  },
  {
   "cell_type": "code",
   "execution_count": 7,
   "metadata": {
    "ExecuteTime": {
     "start_time": "2024-11-02T11:07:08.877355900Z"
    }
   },
   "outputs": [
    {
     "data": {
      "text/plain": [
       "' first_entries = first_ghg_data.head(10)\\nprint(first_entries) '"
      ]
     },
     "execution_count": 7,
     "metadata": {},
     "output_type": "execute_result"
    }
   ],
   "source": [
    "# print(country_result)# Filter rows where 'ghg_per_capita' is not null and sort by year\n",
    "first_ghg_data = ghg_result[ghg_result['ghg_per_capita'].notnull()].sort_values(by='year')\n",
    "\n",
    "# Display the first rows to see the earliest entries\n",
    "\"\"\" first_entries = first_ghg_data.head(10)\n",
    "print(first_entries) \"\"\"\n"
   ]
  },
  {
   "cell_type": "markdown",
   "metadata": {},
   "source": [
    "# To look at ghg_per_capita\n",
    "\"Total greenhouse gas emissions per capita, including land-use change and forestry, measured in tonnes of CO2-equivalents per person.\"\n",
    "\n",
    "- We can compare greenhouse gas emissions on a per-person basis, across different countries in Europe. Where we can see how the emissions scale with population. We can look at whether certain countries emit more GHG per person. "
   ]
  },
  {
   "cell_type": "code",
   "execution_count": null,
   "metadata": {},
   "outputs": [
    {
     "data": {
      "text/plain": [
       "' app = Dash(__name__)\\n\\n# Layout\\napp.layout = html.Div([\\n    html.H1(\"GHG Emissions per Capita by Country: Northern vs Southern Europe\"),\\n    dcc.Graph(id=\\'ghg-trends-graph\\')\\n])\\n\\n# Callback to plot all countries as individual lines, colored by north/south location.\\n@app.callback(\\n    Output(\\'ghg-trends-graph\\', \\'figure\\'),\\n    # Dash wouldn\\'t work without initial dummy data.\\n    Input(\\'ghg-trends-graph\\', \\'id\\')\\n)\\ndef update_ghg_graph(dummy_input):\\n    # Create a plot line for each country, with color being red or blue depending on location.\\n    fig1 = px.line(\\n        ghg_result,\\n        x=\\'year\\',\\n        y=\\'ghg_per_capita\\',\\n        color=\\'north_or_south\\',  # Ensure this matches the column in your DataFrame\\n        line_group=\\'country\\',\\n        title=\"GHG Emissions per Capita by Country: Northern vs Southern Europe (1990 Onwards)\",\\n        labels={\\'year\\': \\'Year\\', \\'ghg_per_capita\\': \\'GHG per Capita (tons)\\'},\\n        color_discrete_map={\\'Northern\\': \\'blue\\', \\'Southern\\': \\'red\\'}\\n    )\\n\\n    # Customize layout to better separate lines by country\\n    fig1.update_traces(mode=\\'lines\\', line=dict(width=1))\\n\\n    # Limit the x-axis year range to start from 1990, to not show a long empty graph.\\n    fig1.update_xaxes(range=[1990, ghg_result[\\'year\\'].max()])\\n\\n    return fig1\\n\\n# Run the app locally\\nif __name__ == \\'__main__\\':\\n    app.run_server(debug=True) '"
      ]
     },
     "execution_count": 8,
     "metadata": {},
     "output_type": "execute_result"
    }
   ],
   "source": [
    "# Keeping this initial graph until we figure out if we want two separate files, or the way I have done it below is ok.\n",
    "\"\"\" app = Dash(__name__)\n",
    "\n",
    "# Layout\n",
    "app.layout = html.Div([\n",
    "    html.H1(\"GHG Emissions per Capita by Country: Northern vs Southern Europe\"),\n",
    "    dcc.Graph(id='ghg-trends-graph')\n",
    "])\n",
    "\n",
    "# Callback to plot all countries as individual lines, colored by north/south location.\n",
    "@app.callback(\n",
    "    Output('ghg-trends-graph', 'figure'),\n",
    "    # Dash wouldn't work without initial dummy data.\n",
    "    Input('ghg-trends-graph', 'id')\n",
    ")\n",
    "def update_ghg_graph(dummy_input):\n",
    "    # Create a plot line for each country, with color being red or blue depending on location.\n",
    "    fig1 = px.line(\n",
    "        ghg_result,\n",
    "        x='year',\n",
    "        y='ghg_per_capita',\n",
    "        color='north_or_south',\n",
    "        line_group='country',\n",
    "        title=\"GHG Emissions per Capita by Country: Northern vs Southern Europe (1990 Onwards)\",\n",
    "        labels={'year': 'Year', 'ghg_per_capita': 'GHG per Capita (tons)'},\n",
    "        color_discrete_map={'Northern': 'blue', 'Southern': 'red'}\n",
    "    )\n",
    "\n",
    "    # Customize layout to better separate lines by country\n",
    "    fig1.update_traces(mode='lines', line=dict(width=1))\n",
    "\n",
    "    # Limit the x-axis year range to start from 1990, to not show a long empty graph.\n",
    "    fig1.update_xaxes(range=[1990, ghg_result['year'].max()])\n",
    "\n",
    "    return fig1\n",
    "\n",
    "# Run the app locally\n",
    "if __name__ == '__main__':\n",
    "    app.run_server(debug=True) \"\"\"\n"
   ]
  },
  {
   "cell_type": "markdown",
   "metadata": {},
   "source": [
    "# total_ghg from 1990 (first recorded values)\n",
    "\"total greenhouse gas emissions, including land-use change and forestry, measured in million tonnes of CO2-equivalents.\"\n",
    "- If we want to look at the total emissions produced by a country as a whole (or region). We can find the countries who produce the absolute most ghg."
   ]
  },
  {
   "cell_type": "code",
   "execution_count": 9,
   "metadata": {},
   "outputs": [],
   "source": [
    "# Query the \"total_ghg\"\n",
    "total_ghg_query = \"\"\"\n",
    "SELECT DISTINCT iso_code, country, year, population, total_ghg\n",
    "FROM data\n",
    "WHERE iso_code IS NOT NULL AND iso_code != \"\" AND LENGTH(iso_code) = 3\n",
    "GROUP BY iso_code, year\n",
    "\"\"\"\n",
    "total_ghg_result = sql.sqldf(total_ghg_query, locals())\n",
    "\n",
    "# Add the 'north_or_south' column based on your mapping\n",
    "total_ghg_result['north_or_south'] = total_ghg_result['iso_code'].apply(lambda x: 'Northern' if x in northern_europe else ('Southern' if x in southern_europe else None))\n",
    "\n",
    "# Filter for European countries that have a \"north_or_south\" column.\n",
    "total_ghg_result = total_ghg_result[total_ghg_result['north_or_south'].notnull()]\n"
   ]
  },
  {
   "cell_type": "markdown",
   "metadata": {},
   "source": [
    "# Graphs for total_ghg and ghg_per_capita inside the app\n",
    "In order for them to not override each other, I added both \"apps\" into one layout."
   ]
  },
  {
   "cell_type": "code",
   "execution_count": 10,
   "metadata": {},
   "outputs": [
    {
     "data": {
      "text/html": [
       "\n",
       "        <iframe\n",
       "            width=\"100%\"\n",
       "            height=\"650\"\n",
       "            src=\"http://127.0.0.1:8050/\"\n",
       "            frameborder=\"0\"\n",
       "            allowfullscreen\n",
       "            \n",
       "        ></iframe>\n",
       "        "
      ],
      "text/plain": [
       "<IPython.lib.display.IFrame at 0x220e09254f0>"
      ]
     },
     "metadata": {},
     "output_type": "display_data"
    }
   ],
   "source": [
    "app = Dash(__name__)\n",
    "\n",
    "# Layout with two graphs, as I had problems with the two separate layouts overriding each other.\n",
    "app.layout = html.Div([\n",
    "    html.H1(\"GHG Emissions Analysis for Northern vs Southern Europe\"),\n",
    "\n",
    "    # ghg_per_capita\n",
    "    html.H2(\"GHG Emissions per Capita by Country\"),\n",
    "    dcc.Graph(id='ghg-trends-graph'),\n",
    "\n",
    "    # total_ghg emissions.\n",
    "    html.H2(\"Total GHG Emissions by Country\"),\n",
    "    dcc.Graph(id='total-ghg-trends-graph')\n",
    "])\n",
    "\n",
    "# Callback to plot GHG Emissions per Capita for all countries\n",
    "@app.callback(\n",
    "    Output('ghg-trends-graph', 'figure'),\n",
    "    # Dash wouldn't work without initial dummy data.\n",
    "    Input('ghg-trends-graph', 'id')\n",
    ")\n",
    "def update_ghg_graph(dummy_input):\n",
    "    # Create a line plot with each country represented as a line, with color being red or blue depending on location.\n",
    "    fig1 = px.line(\n",
    "        ghg_result,\n",
    "        x='year',\n",
    "        y='ghg_per_capita',\n",
    "        color='north_or_south',  # Ensure this matches the column in your DataFrame\n",
    "        line_group='country',\n",
    "        title=\"GHG Emissions per Capita by Country: Northern vs Southern Europe (1990 Onwards)\",\n",
    "        labels={'year': 'Year', 'ghg_per_capita': 'GHG per Capita (tons)'},\n",
    "        color_discrete_map={'Northern': 'blue', 'Southern': 'red'}\n",
    "    )\n",
    "\n",
    "    # Customize line width and opacity for better readability\n",
    "    fig1.update_traces(mode='lines', line=dict(width=1))\n",
    "\n",
    "    # Limit the x-axis year range to start from 1990, to not show a long empty graph.\n",
    "    fig1.update_xaxes(range=[1990, ghg_result['year'].max()])\n",
    "\n",
    "    return fig1\n",
    "\n",
    "# Callback to plot Total GHG Emissions for all countries\n",
    "@app.callback(\n",
    "    Output('total-ghg-trends-graph', 'figure'),\n",
    "    # Dash wouldn't work without initial dummy data.\n",
    "    Input('total-ghg-trends-graph', 'id')\n",
    ")\n",
    "def update_total_ghg_graph(dummy_input):\n",
    "    # Create a line plot with each country represented as a line, with color being red or blue depending on location\n",
    "    fig2 = px.line(\n",
    "        total_ghg_result,\n",
    "        x='year',\n",
    "        y='total_ghg',\n",
    "        color='north_or_south',\n",
    "        line_group='country',\n",
    "        title=\"Total GHG Emissions by Country: Northern vs Southern Europe (1990 Onwards)\",\n",
    "        labels={'year': 'Year', 'total_ghg': 'Total GHG Emissions (million tonnes)'},\n",
    "        color_discrete_map={'Northern': 'blue', 'Southern': 'red'}\n",
    "    )\n",
    "\n",
    "    # Customize line width and opacity for better readability\n",
    "    fig2.update_traces(mode='lines', line=dict(width=1))\n",
    "\n",
    "    # Limit the x-axis year range to start from 1990, to not show a long empty graph.\n",
    "    fig2.update_xaxes(range=[1990, total_ghg_result['year'].max()])\n",
    "\n",
    "    return fig2\n",
    "\n",
    "# Run the app locally for now, will change to web later after our development phase.\n",
    "if __name__ == '__main__':\n",
    "    app.run_server(debug=True)\n",
    "\n"
   ]
  },
  {
   "cell_type": "code",
   "execution_count": 11,
   "metadata": {},
   "outputs": [
    {
     "data": {
      "text/html": [
       "<div>\n",
       "<style scoped>\n",
       "    .dataframe tbody tr th:only-of-type {\n",
       "        vertical-align: middle;\n",
       "    }\n",
       "\n",
       "    .dataframe tbody tr th {\n",
       "        vertical-align: top;\n",
       "    }\n",
       "\n",
       "    .dataframe thead th {\n",
       "        text-align: right;\n",
       "    }\n",
       "</style>\n",
       "<table border=\"1\" class=\"dataframe\">\n",
       "  <thead>\n",
       "    <tr style=\"text-align: right;\">\n",
       "      <th></th>\n",
       "      <th>year</th>\n",
       "      <th>population</th>\n",
       "      <th>ghg_per_capita</th>\n",
       "    </tr>\n",
       "  </thead>\n",
       "  <tbody>\n",
       "    <tr>\n",
       "      <th>count</th>\n",
       "      <td>5652.000000</td>\n",
       "      <td>5.599000e+03</td>\n",
       "      <td>961.000000</td>\n",
       "    </tr>\n",
       "    <tr>\n",
       "      <th>mean</th>\n",
       "      <td>1930.025124</td>\n",
       "      <td>1.324497e+07</td>\n",
       "      <td>8.382130</td>\n",
       "    </tr>\n",
       "    <tr>\n",
       "      <th>std</th>\n",
       "      <td>55.339023</td>\n",
       "      <td>2.265421e+07</td>\n",
       "      <td>4.174069</td>\n",
       "    </tr>\n",
       "    <tr>\n",
       "      <th>min</th>\n",
       "      <td>1750.000000</td>\n",
       "      <td>5.933300e+04</td>\n",
       "      <td>-9.335000</td>\n",
       "    </tr>\n",
       "    <tr>\n",
       "      <th>25%</th>\n",
       "      <td>1886.000000</td>\n",
       "      <td>1.695598e+06</td>\n",
       "      <td>5.963000</td>\n",
       "    </tr>\n",
       "    <tr>\n",
       "      <th>50%</th>\n",
       "      <td>1931.000000</td>\n",
       "      <td>4.208238e+06</td>\n",
       "      <td>7.800000</td>\n",
       "    </tr>\n",
       "    <tr>\n",
       "      <th>75%</th>\n",
       "      <td>1977.000000</td>\n",
       "      <td>1.088300e+07</td>\n",
       "      <td>11.059000</td>\n",
       "    </tr>\n",
       "    <tr>\n",
       "      <th>max</th>\n",
       "      <td>2022.000000</td>\n",
       "      <td>1.488973e+08</td>\n",
       "      <td>25.078000</td>\n",
       "    </tr>\n",
       "  </tbody>\n",
       "</table>\n",
       "</div>"
      ],
      "text/plain": [
       "              year    population  ghg_per_capita\n",
       "count  5652.000000  5.599000e+03      961.000000\n",
       "mean   1930.025124  1.324497e+07        8.382130\n",
       "std      55.339023  2.265421e+07        4.174069\n",
       "min    1750.000000  5.933300e+04       -9.335000\n",
       "25%    1886.000000  1.695598e+06        5.963000\n",
       "50%    1931.000000  4.208238e+06        7.800000\n",
       "75%    1977.000000  1.088300e+07       11.059000\n",
       "max    2022.000000  1.488973e+08       25.078000"
      ]
     },
     "execution_count": 11,
     "metadata": {},
     "output_type": "execute_result"
    }
   ],
   "source": [
    "# fix the min year 1750\n",
    "ghg_result.describe()"
   ]
  },
  {
   "cell_type": "code",
   "execution_count": 12,
   "metadata": {
    "ExecuteTime": {
     "start_time": "2024-11-02T11:07:08.878233800Z"
    }
   },
   "outputs": [
    {
     "data": {
      "text/plain": [
       "' \\ncountry_result = sql.sqldf(country_query, locals())\\n\\n# Initialize the Dash app\\napp = Dash(__name__)\\n\\n# Define country options for the dropdown\\ncountry_options = [{\\'label\\': country, \\'value\\': country} for country in country_result[\\'country\\'].unique()]\\n\\n# Define the layout\\napp.layout = html.Div([\\n    html.H1(\"CO₂ Growth Trend Over Years by Country\"),\\n    dcc.Dropdown(\\n        id=\\'country-dropdown\\',\\n        options=country_options,\\n        value=country_options[0][\\'value\\'],  # Default to the first country in the list\\n        clearable=False\\n    ),\\n    dcc.Graph(id=\\'co2-trend-graph\\')\\n])\\n\\n# Define the callback to update the graph\\n@app.callback(\\n    Output(\\'co2-trend-graph\\', \\'figure\\'),\\n    Input(\\'country-dropdown\\', \\'value\\')\\n)\\ndef update_graph(selected_country):\\n    # Filter data for the selected country\\n    filtered_df = country_result[country_result[\\'country\\'] == selected_country]\\n\\n    # Create a line plot for CO₂ growth over the years\\n    fig = px.line(\\n        filtered_df,\\n        x=\\'year\\',\\n        y=\\'co2_growth_abs\\',\\n        title=f\"CO₂ Growth Trend for {selected_country}\",\\n        labels={\\'year\\': \\'Year\\', \\'co2_growth_abs\\': \\'CO₂ Growth Absolute\\'}\\n    )\\n    return fig\\n\\n# Run the app\\nif __name__ == \\'__main__\\':\\n    app.run_server(debug=True) '"
      ]
     },
     "execution_count": 12,
     "metadata": {},
     "output_type": "execute_result"
    }
   ],
   "source": [
    "# filtrer etter rader som har iso kode og et land\n",
    "\"\"\" \n",
    "country_result = sql.sqldf(country_query, locals())\n",
    "\n",
    "# Initialize the Dash app\n",
    "app = Dash(__name__)\n",
    "\n",
    "# Define country options for the dropdown\n",
    "country_options = [{'label': country, 'value': country} for country in country_result['country'].unique()]\n",
    "\n",
    "# Define the layout\n",
    "app.layout = html.Div([\n",
    "    html.H1(\"CO₂ Growth Trend Over Years by Country\"),\n",
    "    dcc.Dropdown(\n",
    "        id='country-dropdown',\n",
    "        options=country_options,\n",
    "        value=country_options[0]['value'],  # Default to the first country in the list\n",
    "        clearable=False\n",
    "    ),\n",
    "    dcc.Graph(id='co2-trend-graph')\n",
    "])\n",
    "\n",
    "# Define the callback to update the graph\n",
    "@app.callback(\n",
    "    Output('co2-trend-graph', 'figure'),\n",
    "    Input('country-dropdown', 'value')\n",
    ")\n",
    "def update_graph(selected_country):\n",
    "    # Filter data for the selected country\n",
    "    filtered_df = country_result[country_result['country'] == selected_country]\n",
    "\n",
    "    # Create a line plot for CO₂ growth over the years\n",
    "    fig = px.line(\n",
    "        filtered_df,\n",
    "        x='year',\n",
    "        y='co2_growth_abs',\n",
    "        title=f\"CO₂ Growth Trend for {selected_country}\",\n",
    "        labels={'year': 'Year', 'co2_growth_abs': 'CO₂ Growth Absolute'}\n",
    "    )\n",
    "    return fig\n",
    "\n",
    "# Run the app\n",
    "if __name__ == '__main__':\n",
    "    app.run_server(debug=True) \"\"\""
   ]
  }
 ],
 "metadata": {
  "kernelspec": {
   "display_name": "Python 3",
   "language": "python",
   "name": "python3"
  },
  "language_info": {
   "codemirror_mode": {
    "name": "ipython",
    "version": 3
   },
   "file_extension": ".py",
   "mimetype": "text/x-python",
   "name": "python",
   "nbconvert_exporter": "python",
   "pygments_lexer": "ipython3",
   "version": "3.12.2"
  }
 },
 "nbformat": 4,
 "nbformat_minor": 2
}
