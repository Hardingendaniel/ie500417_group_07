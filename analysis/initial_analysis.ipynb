{
 "cells": [
  {
   "cell_type": "code",
   "execution_count": 1,
   "metadata": {
    "ExecuteTime": {
     "end_time": "2024-11-02T11:07:08.868711Z",
     "start_time": "2024-11-02T11:07:07.208615800Z"
    }
   },
   "outputs": [],
   "source": [
    "import pandas as pd\n",
    "import pandasql as sql\n",
    "data = pd.read_csv('../data/owid-co2-data.csv')\n",
    "from dash import Dash, dcc, html, Input, Output\n",
    "import plotly.express as px"
   ]
  },
  {
   "cell_type": "code",
   "execution_count": 34,
   "metadata": {
    "ExecuteTime": {
     "end_time": "2024-11-02T11:07:08.876766200Z",
     "start_time": "2024-11-02T11:07:08.876221200Z"
    }
   },
   "outputs": [],
   "source": [
    "# filtrer etter rader som har iso kode og et land\n",
    "country_query = \"\"\"\n",
    "SELECT DISTINCT iso_code, country, population, co2_growth_abs, year\n",
    "FROM data\n",
    "WHERE iso_code IS NOT NULL AND iso_code != \"\" AND LENGTH(iso_code) = 3\n",
    "GROUP BY iso_code, year\n",
    "\"\"\"\n",
    "country_result = sql.sqldf(country_query, locals())\n",
    "# country_result['country'].unique()"
   ]
  },
  {
   "cell_type": "code",
   "execution_count": null,
   "metadata": {},
   "outputs": [],
   "source": [
    "# To find the iso_codes. Used to filter out European countries, and then into north- or south.\n",
    "iso_query = \"\"\"\n",
    "SELECT DISTINCT iso_code, country\n",
    "FROM data\n",
    "WHERE iso_code IS NOT NULL AND iso_code != \"\" AND LENGTH(iso_code) = 3\n",
    "\"\"\"\n",
    "country_result = sql.sqldf(iso_query, locals())\n",
    "iso_codes = country_result['iso_code'].unique()\n",
    "# print(iso_codes)"
   ]
  },
  {
   "cell_type": "code",
   "execution_count": 7,
   "metadata": {},
   "outputs": [],
   "source": [
    "# Create a mapping of north & south.\n",
    "northern_europe = ['NOR', 'SWE', 'FIN', 'DNK', 'ISL', 'GBR', 'IRL', 'DEU', 'NLD', 'POL', 'EST', 'LVA', 'LTU', 'RUS', 'BLR', 'CZE', 'SVK']\n",
    "southern_europe = ['ITA', 'ESP', 'PRT', 'GRC', 'MLT', 'CYP', 'HRV', 'SVN', 'BGR', 'ROU', 'ALB', 'BIH', 'MNE', 'MKD']\n",
    "\n",
    "# Add a 'hemisphere' column based on the north & south mapping.\n",
    "country_result['north_or_south'] = country_result['iso_code'].apply(lambda x: 'Northern' if x in northern_europe else ('Southern' if x in southern_europe else None))\n",
    "\n",
    "# Filter out to only grab countries with a hemisphere column.\n",
    "europe_result = country_result[country_result['north_or_south'].notnull()]\n"
   ]
  },
  {
   "cell_type": "code",
   "execution_count": 14,
   "metadata": {},
   "outputs": [],
   "source": [
    "# print(europe_result)"
   ]
  },
  {
   "cell_type": "code",
   "execution_count": 23,
   "metadata": {},
   "outputs": [],
   "source": [
    "# Query the \"ghg_per_capita\" - Total greenhouse gas emissions per capita including land-use change and forestry - Emissions are measured in tonnes of carbon dioxide-equivalents per person.\n",
    "ghg_query = \"\"\"\n",
    "SELECT DISTINCT iso_code, country, year, population, ghg_per_capita\n",
    "FROM data\n",
    "WHERE iso_code IS NOT NULL AND iso_code != \"\" AND LENGTH(iso_code) = 3\n",
    "GROUP BY iso_code, year\n",
    "\"\"\"\n",
    "ghg_result = sql.sqldf(ghg_query, locals())\n",
    "\n",
    "# Add the 'hemisphere' column based on your mapping\n",
    "ghg_result['north_or_south'] = ghg_result['iso_code'].apply(lambda x: 'Northern' if x in northern_europe else ('Southern' if x in southern_europe else None))\n",
    "\n",
    "# Filter for European countries that have a hemisphere column.\n",
    "ghg_result = ghg_result[ghg_result['north_or_south'].notnull()]\n",
    "\n"
   ]
  },
  {
   "cell_type": "code",
   "execution_count": null,
   "metadata": {
    "ExecuteTime": {
     "start_time": "2024-11-02T11:07:08.877355900Z"
    }
   },
   "outputs": [
    {
     "name": "stdout",
     "output_type": "stream",
     "text": [
      "      iso_code          country  year  population  total_ghg north_or_south\n",
      "830        ALB          Albania  1990   3295073.0      11.37       Southern\n",
      "4549       BLR          Belarus  1990  10428527.0     128.92       Northern\n",
      "21294      LVA           Latvia  1990   2689398.0      15.09       Northern\n",
      "32941      SVK         Slovakia  1990   5261310.0      57.28       Northern\n",
      "9409       CYP           Cyprus  1990    788501.0       5.37       Southern\n",
      "17472      ITA            Italy  1990  56756560.0     448.74       Southern\n",
      "22955      MKD  North Macedonia  1990   2044181.0      13.90       Southern\n",
      "20944      LTU        Lithuania  1990   3785851.0      51.82       Northern\n",
      "16607      IRL          Ireland  1990   3485370.0      64.56       Northern\n",
      "23647      MNE       Montenegro  1990    621450.0       4.15       Southern\n"
     ]
    }
   ],
   "source": [
    "# print(country_result)# Filter rows where 'ghg_per_capita' is not null and sort by year\n",
    "first_ghg_data = ghg_result[ghg_result['ghg_per_capita'].notnull()].sort_values(by='year')\n",
    "\n",
    "# Display the first rows to see the earliest entries\n",
    "\"\"\" first_entries = first_ghg_data.head(10)\n",
    "print(first_entries) \"\"\"\n"
   ]
  },
  {
   "cell_type": "markdown",
   "metadata": {},
   "source": [
    "# To look at ghg_per_capita\n",
    "\"Total greenhouse gas emissions per capita, including land-use change and forestry, measured in tonnes of CO2-equivalents per person.\"\n",
    "\n",
    "- We can compare greenhouse gas emissions on a per-person basis, across different countries in Europe. Where we can see how the emissions scale with population. We can look at whether certain countries emit more GHG per person. "
   ]
  },
  {
   "cell_type": "code",
   "execution_count": 33,
   "metadata": {},
   "outputs": [
    {
     "data": {
      "text/plain": [
       "' app = Dash(__name__)\\n\\n# Layout\\napp.layout = html.Div([\\n    html.H1(\"GHG Emissions per Capita by Country: Northern vs Southern Europe\"),\\n    dcc.Graph(id=\\'ghg-trends-graph\\')\\n])\\n\\n# Callback to plot all countries as individual lines, colored by north/south location.\\n@app.callback(\\n    Output(\\'ghg-trends-graph\\', \\'figure\\'),\\n    # Dash wouldn\\'t work without initial dummy data.\\n    Input(\\'ghg-trends-graph\\', \\'id\\')\\n)\\ndef update_ghg_graph(dummy_input):\\n    # Create a plot line for each country, with color being red or blue depending on location.\\n    fig1 = px.line(\\n        ghg_result,\\n        x=\\'year\\',\\n        y=\\'ghg_per_capita\\',\\n        color=\\'north_or_south\\',  # Ensure this matches the column in your DataFrame\\n        line_group=\\'country\\',\\n        title=\"GHG Emissions per Capita by Country: Northern vs Southern Europe (1990 Onwards)\",\\n        labels={\\'year\\': \\'Year\\', \\'ghg_per_capita\\': \\'GHG per Capita (tons)\\'},\\n        color_discrete_map={\\'Northern\\': \\'blue\\', \\'Southern\\': \\'red\\'}\\n    )\\n\\n    # Customize layout to better separate lines by country\\n    fig1.update_traces(mode=\\'lines\\', line=dict(width=1))\\n\\n    # Limit the x-axis year range to start from 1990, to not show a long empty graph.\\n    fig1.update_xaxes(range=[1990, ghg_result[\\'year\\'].max()])\\n\\n    return fig1\\n\\n# Run the app locally\\nif __name__ == \\'__main__\\':\\n    app.run_server(debug=True) '"
      ]
     },
     "execution_count": 33,
     "metadata": {},
     "output_type": "execute_result"
    }
   ],
   "source": [
    "# Keeping this initial graph until we figure out if we want two separate files, or the way I have done it below is ok.\n",
    "\"\"\" app = Dash(__name__)\n",
    "\n",
    "# Layout\n",
    "app.layout = html.Div([\n",
    "    html.H1(\"GHG Emissions per Capita by Country: Northern vs Southern Europe\"),\n",
    "    dcc.Graph(id='ghg-trends-graph')\n",
    "])\n",
    "\n",
    "# Callback to plot all countries as individual lines, colored by north/south location.\n",
    "@app.callback(\n",
    "    Output('ghg-trends-graph', 'figure'),\n",
    "    # Dash wouldn't work without initial dummy data.\n",
    "    Input('ghg-trends-graph', 'id')\n",
    ")\n",
    "def update_ghg_graph(dummy_input):\n",
    "    # Create a plot line for each country, with color being red or blue depending on location.\n",
    "    fig1 = px.line(\n",
    "        ghg_result,\n",
    "        x='year',\n",
    "        y='ghg_per_capita',\n",
    "        color='north_or_south',  # Ensure this matches the column in your DataFrame\n",
    "        line_group='country',\n",
    "        title=\"GHG Emissions per Capita by Country: Northern vs Southern Europe (1990 Onwards)\",\n",
    "        labels={'year': 'Year', 'ghg_per_capita': 'GHG per Capita (tons)'},\n",
    "        color_discrete_map={'Northern': 'blue', 'Southern': 'red'}\n",
    "    )\n",
    "\n",
    "    # Customize layout to better separate lines by country\n",
    "    fig1.update_traces(mode='lines', line=dict(width=1))\n",
    "\n",
    "    # Limit the x-axis year range to start from 1990, to not show a long empty graph.\n",
    "    fig1.update_xaxes(range=[1990, ghg_result['year'].max()])\n",
    "\n",
    "    return fig1\n",
    "\n",
    "# Run the app locally\n",
    "if __name__ == '__main__':\n",
    "    app.run_server(debug=True) \"\"\"\n"
   ]
  },
  {
   "cell_type": "markdown",
   "metadata": {},
   "source": [
    "# total_ghg from 1990 (first recorded values)\n",
    "\"total greenhouse gas emissions, including land-use change and forestry, measured in million tonnes of CO2-equivalents.\"\n",
    "- If we want to look at the total emissions produced by a country as a whole (or region). We can find the countries who produce the absolute most ghg."
   ]
  },
  {
   "cell_type": "code",
   "execution_count": null,
   "metadata": {},
   "outputs": [],
   "source": [
    "# Query the \"total_ghg\"\n",
    "total_ghg_query = \"\"\"\n",
    "SELECT DISTINCT iso_code, country, year, population, total_ghg\n",
    "FROM data\n",
    "WHERE iso_code IS NOT NULL AND iso_code != \"\" AND LENGTH(iso_code) = 3\n",
    "GROUP BY iso_code, year\n",
    "\"\"\"\n",
    "total_ghg_result = sql.sqldf(total_ghg_query, locals())\n",
    "\n",
    "# Add the 'north_or_south' column based on your mapping\n",
    "total_ghg_result['north_or_south'] = total_ghg_result['iso_code'].apply(lambda x: 'Northern' if x in northern_europe else ('Southern' if x in southern_europe else None))\n",
    "\n",
    "# Filter for European countries that have a \"north_or_south\" column.\n",
    "total_ghg_result = total_ghg_result[total_ghg_result['north_or_south'].notnull()]\n"
   ]
  },
  {
   "cell_type": "markdown",
   "metadata": {},
   "source": [
    "# Graphs for total_ghg and ghg_per_capita inside the app\n",
    "In order for them to not override each other, I added both \"apps\" into one layout."
   ]
  },
  {
   "cell_type": "code",
   "execution_count": null,
   "metadata": {},
   "outputs": [
    {
     "data": {
      "text/html": [
       "\n",
       "        <iframe\n",
       "            width=\"100%\"\n",
       "            height=\"650\"\n",
       "            src=\"http://127.0.0.1:8050/\"\n",
       "            frameborder=\"0\"\n",
       "            allowfullscreen\n",
       "            \n",
       "        ></iframe>\n",
       "        "
      ],
      "text/plain": [
       "<IPython.lib.display.IFrame at 0x1e97e094f50>"
      ]
     },
     "metadata": {},
     "output_type": "display_data"
    }
   ],
   "source": [
    "app = Dash(__name__)\n",
    "\n",
    "# Layout with two graphs, as I had problems with the two separate layouts overriding each other.\n",
    "app.layout = html.Div([\n",
    "    html.H1(\"GHG Emissions Analysis for Northern vs Southern Europe\"),\n",
    "\n",
    "    # ghg_per_capita\n",
    "    html.H2(\"GHG Emissions per Capita by Country\"),\n",
    "    dcc.Graph(id='ghg-trends-graph'),\n",
    "\n",
    "    # total_ghg emissions.\n",
    "    html.H2(\"Total GHG Emissions by Country\"),\n",
    "    dcc.Graph(id='total-ghg-trends-graph')\n",
    "])\n",
    "\n",
    "# Callback to plot GHG Emissions per Capita for all countries\n",
    "@app.callback(\n",
    "    Output('ghg-trends-graph', 'figure'),\n",
    "    # Dash wouldn't work without initial dummy data.\n",
    "    Input('ghg-trends-graph', 'id')\n",
    ")\n",
    "def update_ghg_graph(dummy_input):\n",
    "    # Create a line plot with each country represented as a line, with color being red or blue depending on location.\n",
    "    fig1 = px.line(\n",
    "        ghg_result,\n",
    "        x='year',\n",
    "        y='ghg_per_capita',\n",
    "        color='north_or_south',  # Ensure this matches the column in your DataFrame\n",
    "        line_group='country',\n",
    "        title=\"GHG Emissions per Capita by Country: Northern vs Southern Europe (1990 Onwards)\",\n",
    "        labels={'year': 'Year', 'ghg_per_capita': 'GHG per Capita (tons)'},\n",
    "        color_discrete_map={'Northern': 'blue', 'Southern': 'red'}\n",
    "    )\n",
    "\n",
    "    # Customize line width and opacity for better readability\n",
    "    fig1.update_traces(mode='lines', line=dict(width=1))\n",
    "\n",
    "    # Limit the x-axis year range to start from 1990, to not show a long empty graph.\n",
    "    fig1.update_xaxes(range=[1990, ghg_result['year'].max()])\n",
    "\n",
    "    return fig1\n",
    "\n",
    "# Callback to plot Total GHG Emissions for all countries\n",
    "@app.callback(\n",
    "    Output('total-ghg-trends-graph', 'figure'),\n",
    "    # Dash wouldn't work without initial dummy data.\n",
    "    Input('total-ghg-trends-graph', 'id')\n",
    ")\n",
    "def update_total_ghg_graph(dummy_input):\n",
    "    # Create a line plot with each country represented as a line, with color being red or blue depending on location\n",
    "    fig2 = px.line(\n",
    "        total_ghg_result,\n",
    "        x='year',\n",
    "        y='total_ghg',\n",
    "        color='north_or_south',\n",
    "        line_group='country',\n",
    "        title=\"Total GHG Emissions by Country: Northern vs Southern Europe (1990 Onwards)\",\n",
    "        labels={'year': 'Year', 'total_ghg': 'Total GHG Emissions (million tonnes)'},\n",
    "        color_discrete_map={'Northern': 'blue', 'Southern': 'red'}\n",
    "    )\n",
    "\n",
    "    # Customize line width and opacity for better readability\n",
    "    fig2.update_traces(mode='lines', line=dict(width=1))\n",
    "\n",
    "    # Limit the x-axis year range to start from 1990, to not show a long empty graph.\n",
    "    fig2.update_xaxes(range=[1990, total_ghg_result['year'].max()])\n",
    "\n",
    "    return fig2\n",
    "\n",
    "# Run the app locally for now, will change to web later after our development phase.\n",
    "if __name__ == '__main__':\n",
    "    app.run_server(debug=True)\n",
    "\n"
   ]
  },
  {
   "cell_type": "code",
   "execution_count": null,
   "metadata": {
    "ExecuteTime": {
     "start_time": "2024-11-02T11:07:08.878233800Z"
    }
   },
   "outputs": [
    {
     "data": {
      "text/html": [
       "\n",
       "        <iframe\n",
       "            width=\"100%\"\n",
       "            height=\"650\"\n",
       "            src=\"http://127.0.0.1:8050/\"\n",
       "            frameborder=\"0\"\n",
       "            allowfullscreen\n",
       "            \n",
       "        ></iframe>\n",
       "        "
      ],
      "text/plain": [
       "<IPython.lib.display.IFrame at 0x1a1103647a0>"
      ]
     },
     "metadata": {},
     "output_type": "display_data"
    },
    {
     "name": "stdout",
     "output_type": "stream",
     "text": [
      "---------------------------------------------------------------------------\n",
      "ValueError                                Traceback (most recent call last)\n",
      "Cell In[4], line 33, in update_graph(selected_country='Aruba')\n",
      "     30 filtered_df = country_result[country_result['country'] == selected_country]\n",
      "     32 # Create a line plot for CO₂ growth over the years\n",
      "---> 33 fig = px.line(\n",
      "        px = <module 'plotly.express' from 'c:\\\\Python312\\\\Lib\\\\site-packages\\\\plotly\\\\express\\\\__init__.py'>\n",
      "        filtered_df =    iso_code country hemisphere\n",
      "10      ABW   Aruba       None\n",
      "        selected_country = 'Aruba'\n",
      "     34     filtered_df,\n",
      "     35     x='year',\n",
      "     36     y='co2_growth_abs',\n",
      "     37     title=f\"CO₂ Growth Trend for {selected_country}\",\n",
      "     38     labels={'year': 'Year', 'co2_growth_abs': 'CO₂ Growth Absolute'}\n",
      "     39 )\n",
      "     40 return fig\n",
      "\n",
      "File c:\\Python312\\Lib\\site-packages\\plotly\\express\\_chart_types.py:264, in line(\n",
      "    data_frame=   iso_code country hemisphere\n",
      "10      ABW   Aruba       None,\n",
      "    x='year',\n",
      "    y='co2_growth_abs',\n",
      "    line_group=None,\n",
      "    color=None,\n",
      "    line_dash=None,\n",
      "    symbol=None,\n",
      "    hover_name=None,\n",
      "    hover_data=None,\n",
      "    custom_data=None,\n",
      "    text=None,\n",
      "    facet_row=None,\n",
      "    facet_col=None,\n",
      "    facet_col_wrap=0,\n",
      "    facet_row_spacing=None,\n",
      "    facet_col_spacing=None,\n",
      "    error_x=None,\n",
      "    error_x_minus=None,\n",
      "    error_y=None,\n",
      "    error_y_minus=None,\n",
      "    animation_frame=None,\n",
      "    animation_group=None,\n",
      "    category_orders=None,\n",
      "    labels={'co2_growth_abs': 'CO₂ Growth Absolute', 'year': 'Year'},\n",
      "    orientation=None,\n",
      "    color_discrete_sequence=None,\n",
      "    color_discrete_map=None,\n",
      "    line_dash_sequence=None,\n",
      "    line_dash_map=None,\n",
      "    symbol_sequence=None,\n",
      "    symbol_map=None,\n",
      "    markers=False,\n",
      "    log_x=False,\n",
      "    log_y=False,\n",
      "    range_x=None,\n",
      "    range_y=None,\n",
      "    line_shape=None,\n",
      "    render_mode='auto',\n",
      "    title='CO₂ Growth Trend for Aruba',\n",
      "    template=None,\n",
      "    width=None,\n",
      "    height=None\n",
      ")\n",
      "    216 def line(\n",
      "    217     data_frame=None,\n",
      "    218     x=None,\n",
      "   (...)\n",
      "    258     height=None,\n",
      "    259 ) -> go.Figure:\n",
      "    260     \"\"\"\n",
      "    261     In a 2D line plot, each row of `data_frame` is represented as vertex of\n",
      "    262     a polyline mark in 2D space.\n",
      "    263     \"\"\"\n",
      "--> 264     return make_figure(args=locals(), constructor=go.Scatter)\n",
      "        go = <module 'plotly.graph_objs' from 'c:\\\\Python312\\\\Lib\\\\site-packages\\\\plotly\\\\graph_objs\\\\__init__.py'>\n",
      "\n",
      "File c:\\Python312\\Lib\\site-packages\\plotly\\express\\_core.py:2117, in make_figure(\n",
      "    args={'animation_frame': None, 'animation_group': None, 'category_orders': None, 'color': None, 'color_discrete_map': None, 'color_discrete_sequence': None, 'custom_data': None, 'data_frame':    iso_code country hemisphere\n",
      "10      ABW   Aruba       None, 'error_x': None, 'error_x_minus': None, ...},\n",
      "    constructor=<class 'plotly.graph_objs._scatter.Scatter'>,\n",
      "    trace_patch={},\n",
      "    layout_patch={}\n",
      ")\n",
      "   2114 layout_patch = layout_patch or {}\n",
      "   2115 apply_default_cascade(args)\n",
      "-> 2117 args = build_dataframe(args, constructor)\n",
      "        args = {'data_frame':    iso_code country hemisphere\n",
      "10      ABW   Aruba       None, 'x': 'year', 'y': 'co2_growth_abs', 'line_group': None, 'color': None, 'line_dash': None, 'symbol': None, 'hover_name': None, 'hover_data': None, 'custom_data': None, 'text': None, 'facet_row': None, 'facet_col': None, 'facet_col_wrap': 0, 'facet_row_spacing': None, 'facet_col_spacing': None, 'error_x': None, 'error_x_minus': None, 'error_y': None, 'error_y_minus': None, 'animation_frame': None, 'animation_group': None, 'category_orders': None, 'labels': {'year': 'Year', 'co2_growth_abs': 'CO₂ Growth Absolute'}, 'orientation': None, 'color_discrete_sequence': None, 'color_discrete_map': None, 'line_dash_sequence': None, 'line_dash_map': None, 'symbol_sequence': None, 'symbol_map': None, 'markers': False, 'log_x': False, 'log_y': False, 'range_x': None, 'range_y': None, 'line_shape': None, 'render_mode': 'auto', 'title': 'CO₂ Growth Trend for Aruba', 'template': None, 'width': None, 'height': None}\n",
      "        constructor = <class 'plotly.graph_objs._scatter.Scatter'>\n",
      "   2118 if constructor in [go.Treemap, go.Sunburst, go.Icicle] and args[\"path\"] is not None:\n",
      "   2119     args = process_dataframe_hierarchy(args)\n",
      "\n",
      "File c:\\Python312\\Lib\\site-packages\\plotly\\express\\_core.py:1513, in build_dataframe(\n",
      "    args={'animation_frame': None, 'animation_group': None, 'category_orders': None, 'color': None, 'color_discrete_map': None, 'color_discrete_sequence': None, 'custom_data': None, 'data_frame':    iso_code country hemisphere\n",
      "10      ABW   Aruba       None, 'error_x': None, 'error_x_minus': None, ...},\n",
      "    constructor=<class 'plotly.graph_objs._scatter.Scatter'>\n",
      ")\n",
      "   1510     args[\"color\"] = None\n",
      "   1511 # now that things have been prepped, we do the systematic rewriting of `args`\n",
      "-> 1513 df_output, wide_id_vars = process_args_into_dataframe(\n",
      "        args = {'data_frame':    iso_code country hemisphere\n",
      "10      ABW   Aruba       None, 'x': 'year', 'y': 'co2_growth_abs', 'line_group': None, 'color': None, 'line_dash': None, 'symbol': None, 'hover_name': None, 'hover_data': None, 'custom_data': None, 'text': None, 'facet_row': None, 'facet_col': None, 'facet_col_wrap': 0, 'facet_row_spacing': None, 'facet_col_spacing': None, 'error_x': None, 'error_x_minus': None, 'error_y': None, 'error_y_minus': None, 'animation_frame': None, 'animation_group': None, 'category_orders': None, 'labels': {'year': 'Year', 'co2_growth_abs': 'CO₂ Growth Absolute'}, 'orientation': None, 'color_discrete_sequence': None, 'color_discrete_map': None, 'line_dash_sequence': None, 'line_dash_map': None, 'symbol_sequence': None, 'symbol_map': None, 'markers': False, 'log_x': False, 'log_y': False, 'range_x': None, 'range_y': None, 'line_shape': None, 'render_mode': 'auto', 'title': 'CO₂ Growth Trend for Aruba', 'template': None, 'width': None, 'height': None}\n",
      "        wide_mode = False\n",
      "        var_name = None\n",
      "        value_name = None\n",
      "   1514     args, wide_mode, var_name, value_name\n",
      "   1515 )\n",
      "   1517 # now that `df_output` exists and `args` contains only references, we complete\n",
      "   1518 # the special-case and wide-mode handling by further rewriting args and/or mutating\n",
      "   1519 # df_output\n",
      "   1521 count_name = _escape_col_name(df_output, \"count\", [var_name, value_name])\n",
      "\n",
      "File c:\\Python312\\Lib\\site-packages\\plotly\\express\\_core.py:1234, in process_args_into_dataframe(\n",
      "    args={'animation_frame': None, 'animation_group': None, 'category_orders': None, 'color': None, 'color_discrete_map': None, 'color_discrete_sequence': None, 'custom_data': None, 'data_frame':    iso_code country hemisphere\n",
      "10      ABW   Aruba       None, 'error_x': None, 'error_x_minus': None, ...},\n",
      "    wide_mode=False,\n",
      "    var_name=None,\n",
      "    value_name=None\n",
      ")\n",
      "   1232         if argument == \"index\":\n",
      "   1233             err_msg += \"\\n To use the index, pass it in directly as `df.index`.\"\n",
      "-> 1234         raise ValueError(err_msg)\n",
      "        err_msg = \"Value of 'x' is not the name of a column in 'data_frame'. Expected one of ['iso_code', 'country', 'hemisphere'] but received: year\"\n",
      "   1235 elif length and len(df_input[argument]) != length:\n",
      "   1236     raise ValueError(\n",
      "   1237         \"All arguments should have the same length. \"\n",
      "   1238         \"The length of column argument `df[%s]` is %d, whereas the \"\n",
      "   (...)\n",
      "   1245         )\n",
      "   1246     )\n",
      "\n",
      "ValueError: Value of 'x' is not the name of a column in 'data_frame'. Expected one of ['iso_code', 'country', 'hemisphere'] but received: year\n",
      "\n"
     ]
    }
   ],
   "source": [
    "# filtrer etter rader som har iso kode og et land\n",
    "\"\"\" \n",
    "country_result = sql.sqldf(country_query, locals())\n",
    "\n",
    "# Initialize the Dash app\n",
    "app = Dash(__name__)\n",
    "\n",
    "# Define country options for the dropdown\n",
    "country_options = [{'label': country, 'value': country} for country in country_result['country'].unique()]\n",
    "\n",
    "# Define the layout\n",
    "app.layout = html.Div([\n",
    "    html.H1(\"CO₂ Growth Trend Over Years by Country\"),\n",
    "    dcc.Dropdown(\n",
    "        id='country-dropdown',\n",
    "        options=country_options,\n",
    "        value=country_options[0]['value'],  # Default to the first country in the list\n",
    "        clearable=False\n",
    "    ),\n",
    "    dcc.Graph(id='co2-trend-graph')\n",
    "])\n",
    "\n",
    "# Define the callback to update the graph\n",
    "@app.callback(\n",
    "    Output('co2-trend-graph', 'figure'),\n",
    "    Input('country-dropdown', 'value')\n",
    ")\n",
    "def update_graph(selected_country):\n",
    "    # Filter data for the selected country\n",
    "    filtered_df = country_result[country_result['country'] == selected_country]\n",
    "\n",
    "    # Create a line plot for CO₂ growth over the years\n",
    "    fig = px.line(\n",
    "        filtered_df,\n",
    "        x='year',\n",
    "        y='co2_growth_abs',\n",
    "        title=f\"CO₂ Growth Trend for {selected_country}\",\n",
    "        labels={'year': 'Year', 'co2_growth_abs': 'CO₂ Growth Absolute'}\n",
    "    )\n",
    "    return fig\n",
    "\n",
    "# Run the app\n",
    "if __name__ == '__main__':\n",
    "    app.run_server(debug=True) \"\"\""
   ]
  }
 ],
 "metadata": {
  "kernelspec": {
   "display_name": "Python 3",
   "language": "python",
   "name": "python3"
  },
  "language_info": {
   "codemirror_mode": {
    "name": "ipython",
    "version": 3
   },
   "file_extension": ".py",
   "mimetype": "text/x-python",
   "name": "python",
   "nbconvert_exporter": "python",
   "pygments_lexer": "ipython3",
   "version": "3.12.2"
  }
 },
 "nbformat": 4,
 "nbformat_minor": 2
}
