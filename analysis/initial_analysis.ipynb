{
 "cells": [
  {
   "cell_type": "code",
   "execution_count": 1,
   "metadata": {
    "ExecuteTime": {
     "end_time": "2024-11-02T11:07:08.868711Z",
     "start_time": "2024-11-02T11:07:07.208615800Z"
    }
   },
   "outputs": [
    {
     "ename": "ModuleNotFoundError",
     "evalue": "No module named 'pandasql'",
     "output_type": "error",
     "traceback": [
      "\u001B[1;31m---------------------------------------------------------------------------\u001B[0m",
      "\u001B[1;31mModuleNotFoundError\u001B[0m                       Traceback (most recent call last)",
      "Cell \u001B[1;32mIn[1], line 2\u001B[0m\n\u001B[0;32m      1\u001B[0m \u001B[38;5;28;01mimport\u001B[39;00m \u001B[38;5;21;01mpandas\u001B[39;00m \u001B[38;5;28;01mas\u001B[39;00m \u001B[38;5;21;01mpd\u001B[39;00m\n\u001B[1;32m----> 2\u001B[0m \u001B[38;5;28;01mimport\u001B[39;00m \u001B[38;5;21;01mpandasql\u001B[39;00m \u001B[38;5;28;01mas\u001B[39;00m \u001B[38;5;21;01msql\u001B[39;00m\n\u001B[0;32m      3\u001B[0m data \u001B[38;5;241m=\u001B[39m pd\u001B[38;5;241m.\u001B[39mread_csv(\u001B[38;5;124m'\u001B[39m\u001B[38;5;124m../data\u001B[39m\u001B[38;5;124m\\\u001B[39m\u001B[38;5;124mowid-co2-data.csv\u001B[39m\u001B[38;5;124m'\u001B[39m)\n\u001B[0;32m      4\u001B[0m \u001B[38;5;28;01mfrom\u001B[39;00m \u001B[38;5;21;01mdash\u001B[39;00m \u001B[38;5;28;01mimport\u001B[39;00m Dash, dcc, html, Input, Output\n",
      "\u001B[1;31mModuleNotFoundError\u001B[0m: No module named 'pandasql'"
     ]
    }
   ],
   "source": [
    "import pandas as pd\n",
    "import pandasql as sql\n",
    "data = pd.read_csv('../data\\owid-co2-data.csv')\n",
    "from dash import Dash, dcc, html, Input, Output\n",
    "import plotly.express as px"
   ]
  },
  {
   "cell_type": "code",
   "execution_count": null,
   "metadata": {
    "ExecuteTime": {
     "end_time": "2024-11-02T11:07:08.876766200Z",
     "start_time": "2024-11-02T11:07:08.876221200Z"
    }
   },
   "outputs": [],
   "source": [
    "# filtrer etter rader som har iso kode og et land\n",
    "country_query = \"\"\"\n",
    "SELECT DISTINCT iso_code, country, population, co2_growth_abs, year\n",
    "FROM data\n",
    "WHERE iso_code IS NOT NULL AND iso_code != \"\" AND LENGTH(iso_code) = 3\n",
    "GROUP BY iso_code, year\n",
    "\"\"\"\n",
    "country_result = sql.sqldf(country_query, locals())\n",
    "country_result['country'].unique()"
   ]
  },
  {
   "cell_type": "code",
   "execution_count": null,
   "metadata": {
    "ExecuteTime": {
     "start_time": "2024-11-02T11:07:08.877355900Z"
    }
   },
   "outputs": [],
   "source": [
    "print(country_result)"
   ]
  },
  {
   "cell_type": "code",
   "execution_count": null,
   "metadata": {
    "ExecuteTime": {
     "start_time": "2024-11-02T11:07:08.878233800Z"
    }
   },
   "outputs": [],
   "source": [
    "\"\"\" # filtrer etter rader som har iso kode og et land\n",
    "\n",
    "country_result = sql.sqldf(country_query, locals())\n",
    "\n",
    "# Initialize the Dash app\n",
    "app = Dash(__name__)\n",
    "\n",
    "# Define country options for the dropdown\n",
    "country_options = [{'label': country, 'value': country} for country in country_result['country'].unique()]\n",
    "\n",
    "# Define the layout\n",
    "app.layout = html.Div([\n",
    "    html.H1(\"CO₂ Growth Trend Over Years by Country\"),\n",
    "    dcc.Dropdown(\n",
    "        id='country-dropdown',\n",
    "        options=country_options,\n",
    "        value=country_options[0]['value'],  # Default to the first country in the list\n",
    "        clearable=False\n",
    "    ),\n",
    "    dcc.Graph(id='co2-trend-graph')\n",
    "])\n",
    "\n",
    "# Define the callback to update the graph\n",
    "@app.callback(\n",
    "    Output('co2-trend-graph', 'figure'),\n",
    "    Input('country-dropdown', 'value')\n",
    ")\n",
    "def update_graph(selected_country):\n",
    "    # Filter data for the selected country\n",
    "    filtered_df = country_result[country_result['country'] == selected_country]\n",
    "\n",
    "    # Create a line plot for CO₂ growth over the years\n",
    "    fig = px.line(\n",
    "        filtered_df,\n",
    "        x='year',\n",
    "        y='co2_growth_abs',\n",
    "        title=f\"CO₂ Growth Trend for {selected_country}\",\n",
    "        labels={'year': 'Year', 'co2_growth_abs': 'CO₂ Growth Absolute'}\n",
    "    )\n",
    "    return fig\n",
    "\n",
    "# Run the app\n",
    "if __name__ == '__main__':\n",
    "    app.run_server(debug=True) \"\"\""
   ]
  }
 ],
 "metadata": {
  "kernelspec": {
   "display_name": "Python 3",
   "language": "python",
   "name": "python3"
  },
  "language_info": {
   "codemirror_mode": {
    "name": "ipython",
    "version": 3
   },
   "file_extension": ".py",
   "mimetype": "text/x-python",
   "name": "python",
   "nbconvert_exporter": "python",
   "pygments_lexer": "ipython3",
   "version": "3.12.2"
  }
 },
 "nbformat": 4,
 "nbformat_minor": 2
}
