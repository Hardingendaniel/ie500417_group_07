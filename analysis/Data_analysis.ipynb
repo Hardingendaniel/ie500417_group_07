{
 "cells": [
  {
   "metadata": {},
   "cell_type": "markdown",
   "source": [
    "# Data Analysis"
   ],
   "id": "71d5dd0e786fdd28"
  },
  {
   "metadata": {
    "collapsed": true,
    "ExecuteTime": {
     "end_time": "2024-11-05T01:34:52.978451Z",
     "start_time": "2024-11-05T01:34:52.974879Z"
    }
   },
   "cell_type": "code",
   "source": [
    "# Imports \n",
    "import pandas as pd\n",
    "import matplotlib.pyplot as plt\n",
    "import plotly.express as px\n",
    "from statsmodels.tsa.arima.model import ARIMA\n",
    "from statsmodels.tsa.holtwinters import ExponentialSmoothing\n",
    "from sklearn.linear_model import LinearRegression\n",
    "import numpy as np\n",
    "from sklearn.preprocessing import PolynomialFeatures\n",
    "from sklearn.pipeline import make_pipeline\n",
    "from sklearn.linear_model import LinearRegression"
   ],
   "id": "initial_id",
   "outputs": [],
   "execution_count": 27
  },
  {
   "metadata": {
    "ExecuteTime": {
     "end_time": "2024-11-05T01:34:53.129570Z",
     "start_time": "2024-11-05T01:34:52.983464Z"
    }
   },
   "cell_type": "code",
   "source": [
    "# Load the data\n",
    "data = pd.read_csv('../data\\owid-co2-data.csv')\n",
    "data = data.dropna(subset=['co2'])"
   ],
   "id": "22860d1ad537266d",
   "outputs": [],
   "execution_count": 28
  },
  {
   "metadata": {
    "ExecuteTime": {
     "end_time": "2024-11-05T01:34:53.342368Z",
     "start_time": "2024-11-05T01:34:53.179979Z"
    }
   },
   "cell_type": "code",
   "source": [
    "# Find correlation between columns\n",
    "numeric_df = data.select_dtypes(include='number')\n",
    "correlation = numeric_df.corr()\n",
    "numeric_df.head()"
   ],
   "id": "4ba47a9f4f5ff50a",
   "outputs": [
    {
     "data": {
      "text/plain": [
       "     year  population           gdp  cement_co2  cement_co2_per_capita    co2  \\\n",
       "99   1949   7356890.0           NaN         0.0                    0.0  0.015   \n",
       "100  1950   7480464.0  9.421400e+09         0.0                    0.0  0.084   \n",
       "101  1951   7571542.0  9.692280e+09         0.0                    0.0  0.092   \n",
       "102  1952   7667534.0  1.001733e+10         0.0                    0.0  0.092   \n",
       "103  1953   7764549.0  1.063052e+10         0.0                    0.0  0.106   \n",
       "\n",
       "     co2_growth_abs  co2_growth_prct  co2_including_luc  \\\n",
       "99              NaN              NaN              6.268   \n",
       "100           0.070          475.000              7.370   \n",
       "101           0.007            8.696              8.232   \n",
       "102           0.000            0.000              9.183   \n",
       "103           0.015           16.000             10.256   \n",
       "\n",
       "     co2_including_luc_growth_abs  ...  share_global_other_co2  \\\n",
       "99                            NaN  ...                     NaN   \n",
       "100                         1.102  ...                     NaN   \n",
       "101                         0.861  ...                     NaN   \n",
       "102                         0.951  ...                     NaN   \n",
       "103                         1.073  ...                     NaN   \n",
       "\n",
       "     share_of_temperature_change_from_ghg  temperature_change_from_ch4  \\\n",
       "99                                  0.125                          0.0   \n",
       "100                                 0.125                          0.0   \n",
       "101                                 0.125                          0.0   \n",
       "102                                 0.125                          0.0   \n",
       "103                                 0.125                          0.0   \n",
       "\n",
       "     temperature_change_from_co2  temperature_change_from_ghg  \\\n",
       "99                           0.0                        0.000   \n",
       "100                          0.0                        0.001   \n",
       "101                          0.0                        0.001   \n",
       "102                          0.0                        0.001   \n",
       "103                          0.0                        0.001   \n",
       "\n",
       "     temperature_change_from_n2o  total_ghg  total_ghg_excluding_lucf  \\\n",
       "99                           0.0        NaN                       NaN   \n",
       "100                          0.0        NaN                       NaN   \n",
       "101                          0.0        NaN                       NaN   \n",
       "102                          0.0        NaN                       NaN   \n",
       "103                          0.0        NaN                       NaN   \n",
       "\n",
       "     trade_co2  trade_co2_share  \n",
       "99         NaN              NaN  \n",
       "100        NaN              NaN  \n",
       "101        NaN              NaN  \n",
       "102        NaN              NaN  \n",
       "103        NaN              NaN  \n",
       "\n",
       "[5 rows x 77 columns]"
      ],
      "text/html": [
       "<div>\n",
       "<style scoped>\n",
       "    .dataframe tbody tr th:only-of-type {\n",
       "        vertical-align: middle;\n",
       "    }\n",
       "\n",
       "    .dataframe tbody tr th {\n",
       "        vertical-align: top;\n",
       "    }\n",
       "\n",
       "    .dataframe thead th {\n",
       "        text-align: right;\n",
       "    }\n",
       "</style>\n",
       "<table border=\"1\" class=\"dataframe\">\n",
       "  <thead>\n",
       "    <tr style=\"text-align: right;\">\n",
       "      <th></th>\n",
       "      <th>year</th>\n",
       "      <th>population</th>\n",
       "      <th>gdp</th>\n",
       "      <th>cement_co2</th>\n",
       "      <th>cement_co2_per_capita</th>\n",
       "      <th>co2</th>\n",
       "      <th>co2_growth_abs</th>\n",
       "      <th>co2_growth_prct</th>\n",
       "      <th>co2_including_luc</th>\n",
       "      <th>co2_including_luc_growth_abs</th>\n",
       "      <th>...</th>\n",
       "      <th>share_global_other_co2</th>\n",
       "      <th>share_of_temperature_change_from_ghg</th>\n",
       "      <th>temperature_change_from_ch4</th>\n",
       "      <th>temperature_change_from_co2</th>\n",
       "      <th>temperature_change_from_ghg</th>\n",
       "      <th>temperature_change_from_n2o</th>\n",
       "      <th>total_ghg</th>\n",
       "      <th>total_ghg_excluding_lucf</th>\n",
       "      <th>trade_co2</th>\n",
       "      <th>trade_co2_share</th>\n",
       "    </tr>\n",
       "  </thead>\n",
       "  <tbody>\n",
       "    <tr>\n",
       "      <th>99</th>\n",
       "      <td>1949</td>\n",
       "      <td>7356890.0</td>\n",
       "      <td>NaN</td>\n",
       "      <td>0.0</td>\n",
       "      <td>0.0</td>\n",
       "      <td>0.015</td>\n",
       "      <td>NaN</td>\n",
       "      <td>NaN</td>\n",
       "      <td>6.268</td>\n",
       "      <td>NaN</td>\n",
       "      <td>...</td>\n",
       "      <td>NaN</td>\n",
       "      <td>0.125</td>\n",
       "      <td>0.0</td>\n",
       "      <td>0.0</td>\n",
       "      <td>0.000</td>\n",
       "      <td>0.0</td>\n",
       "      <td>NaN</td>\n",
       "      <td>NaN</td>\n",
       "      <td>NaN</td>\n",
       "      <td>NaN</td>\n",
       "    </tr>\n",
       "    <tr>\n",
       "      <th>100</th>\n",
       "      <td>1950</td>\n",
       "      <td>7480464.0</td>\n",
       "      <td>9.421400e+09</td>\n",
       "      <td>0.0</td>\n",
       "      <td>0.0</td>\n",
       "      <td>0.084</td>\n",
       "      <td>0.070</td>\n",
       "      <td>475.000</td>\n",
       "      <td>7.370</td>\n",
       "      <td>1.102</td>\n",
       "      <td>...</td>\n",
       "      <td>NaN</td>\n",
       "      <td>0.125</td>\n",
       "      <td>0.0</td>\n",
       "      <td>0.0</td>\n",
       "      <td>0.001</td>\n",
       "      <td>0.0</td>\n",
       "      <td>NaN</td>\n",
       "      <td>NaN</td>\n",
       "      <td>NaN</td>\n",
       "      <td>NaN</td>\n",
       "    </tr>\n",
       "    <tr>\n",
       "      <th>101</th>\n",
       "      <td>1951</td>\n",
       "      <td>7571542.0</td>\n",
       "      <td>9.692280e+09</td>\n",
       "      <td>0.0</td>\n",
       "      <td>0.0</td>\n",
       "      <td>0.092</td>\n",
       "      <td>0.007</td>\n",
       "      <td>8.696</td>\n",
       "      <td>8.232</td>\n",
       "      <td>0.861</td>\n",
       "      <td>...</td>\n",
       "      <td>NaN</td>\n",
       "      <td>0.125</td>\n",
       "      <td>0.0</td>\n",
       "      <td>0.0</td>\n",
       "      <td>0.001</td>\n",
       "      <td>0.0</td>\n",
       "      <td>NaN</td>\n",
       "      <td>NaN</td>\n",
       "      <td>NaN</td>\n",
       "      <td>NaN</td>\n",
       "    </tr>\n",
       "    <tr>\n",
       "      <th>102</th>\n",
       "      <td>1952</td>\n",
       "      <td>7667534.0</td>\n",
       "      <td>1.001733e+10</td>\n",
       "      <td>0.0</td>\n",
       "      <td>0.0</td>\n",
       "      <td>0.092</td>\n",
       "      <td>0.000</td>\n",
       "      <td>0.000</td>\n",
       "      <td>9.183</td>\n",
       "      <td>0.951</td>\n",
       "      <td>...</td>\n",
       "      <td>NaN</td>\n",
       "      <td>0.125</td>\n",
       "      <td>0.0</td>\n",
       "      <td>0.0</td>\n",
       "      <td>0.001</td>\n",
       "      <td>0.0</td>\n",
       "      <td>NaN</td>\n",
       "      <td>NaN</td>\n",
       "      <td>NaN</td>\n",
       "      <td>NaN</td>\n",
       "    </tr>\n",
       "    <tr>\n",
       "      <th>103</th>\n",
       "      <td>1953</td>\n",
       "      <td>7764549.0</td>\n",
       "      <td>1.063052e+10</td>\n",
       "      <td>0.0</td>\n",
       "      <td>0.0</td>\n",
       "      <td>0.106</td>\n",
       "      <td>0.015</td>\n",
       "      <td>16.000</td>\n",
       "      <td>10.256</td>\n",
       "      <td>1.073</td>\n",
       "      <td>...</td>\n",
       "      <td>NaN</td>\n",
       "      <td>0.125</td>\n",
       "      <td>0.0</td>\n",
       "      <td>0.0</td>\n",
       "      <td>0.001</td>\n",
       "      <td>0.0</td>\n",
       "      <td>NaN</td>\n",
       "      <td>NaN</td>\n",
       "      <td>NaN</td>\n",
       "      <td>NaN</td>\n",
       "    </tr>\n",
       "  </tbody>\n",
       "</table>\n",
       "<p>5 rows × 77 columns</p>\n",
       "</div>"
      ]
     },
     "execution_count": 29,
     "metadata": {},
     "output_type": "execute_result"
    }
   ],
   "execution_count": 29
  },
  {
   "metadata": {
    "ExecuteTime": {
     "end_time": "2024-11-05T01:34:53.610611Z",
     "start_time": "2024-11-05T01:34:53.425292Z"
    }
   },
   "cell_type": "code",
   "source": [
    "# Display the correlation matrix\n",
    "correlation_matrix = numeric_df.corr()\n",
    "\n",
    "columns_of_interest = ['co2', 'gdp', 'population', 'cumulative_co2']  \n",
    "correlation_matrix_filtered = numeric_df[columns_of_interest].corr()\n",
    "\n",
    "fig = px.imshow(correlation_matrix_filtered, text_auto=True, labels=dict(color='Correlation'))\n",
    "fig.update_layout(title='Filtered Correlation Matrix Heatmap', width=800, height=600)\n",
    "fig.update_xaxes(tickangle=45)\n",
    "fig.show()"
   ],
   "id": "95c25d934ff8fb50",
   "outputs": [
    {
     "data": {
      "application/vnd.plotly.v1+json": {
       "data": [
        {
         "coloraxis": "coloraxis",
         "name": "0",
         "texttemplate": "%{z}",
         "x": [
          "co2",
          "gdp",
          "population",
          "cumulative_co2"
         ],
         "y": [
          "co2",
          "gdp",
          "population",
          "cumulative_co2"
         ],
         "z": [
          [
           1.0,
           0.965254180688454,
           0.8423321951811774,
           0.946267239144833
          ],
          [
           0.965254180688454,
           1.0,
           0.9072111879714643,
           0.9724445196633802
          ],
          [
           0.8423321951811774,
           0.9072111879714643,
           1.0,
           0.7375268463279617
          ],
          [
           0.946267239144833,
           0.9724445196633802,
           0.7375268463279617,
           1.0
          ]
         ],
         "type": "heatmap",
         "xaxis": "x",
         "yaxis": "y",
         "hovertemplate": "x: %{x}<br>y: %{y}<br>Correlation: %{z}<extra></extra>"
        }
       ],
       "layout": {
        "template": {
         "data": {
          "histogram2dcontour": [
           {
            "type": "histogram2dcontour",
            "colorbar": {
             "outlinewidth": 0,
             "ticks": ""
            },
            "colorscale": [
             [
              0.0,
              "#0d0887"
             ],
             [
              0.1111111111111111,
              "#46039f"
             ],
             [
              0.2222222222222222,
              "#7201a8"
             ],
             [
              0.3333333333333333,
              "#9c179e"
             ],
             [
              0.4444444444444444,
              "#bd3786"
             ],
             [
              0.5555555555555556,
              "#d8576b"
             ],
             [
              0.6666666666666666,
              "#ed7953"
             ],
             [
              0.7777777777777778,
              "#fb9f3a"
             ],
             [
              0.8888888888888888,
              "#fdca26"
             ],
             [
              1.0,
              "#f0f921"
             ]
            ]
           }
          ],
          "choropleth": [
           {
            "type": "choropleth",
            "colorbar": {
             "outlinewidth": 0,
             "ticks": ""
            }
           }
          ],
          "histogram2d": [
           {
            "type": "histogram2d",
            "colorbar": {
             "outlinewidth": 0,
             "ticks": ""
            },
            "colorscale": [
             [
              0.0,
              "#0d0887"
             ],
             [
              0.1111111111111111,
              "#46039f"
             ],
             [
              0.2222222222222222,
              "#7201a8"
             ],
             [
              0.3333333333333333,
              "#9c179e"
             ],
             [
              0.4444444444444444,
              "#bd3786"
             ],
             [
              0.5555555555555556,
              "#d8576b"
             ],
             [
              0.6666666666666666,
              "#ed7953"
             ],
             [
              0.7777777777777778,
              "#fb9f3a"
             ],
             [
              0.8888888888888888,
              "#fdca26"
             ],
             [
              1.0,
              "#f0f921"
             ]
            ]
           }
          ],
          "heatmap": [
           {
            "type": "heatmap",
            "colorbar": {
             "outlinewidth": 0,
             "ticks": ""
            },
            "colorscale": [
             [
              0.0,
              "#0d0887"
             ],
             [
              0.1111111111111111,
              "#46039f"
             ],
             [
              0.2222222222222222,
              "#7201a8"
             ],
             [
              0.3333333333333333,
              "#9c179e"
             ],
             [
              0.4444444444444444,
              "#bd3786"
             ],
             [
              0.5555555555555556,
              "#d8576b"
             ],
             [
              0.6666666666666666,
              "#ed7953"
             ],
             [
              0.7777777777777778,
              "#fb9f3a"
             ],
             [
              0.8888888888888888,
              "#fdca26"
             ],
             [
              1.0,
              "#f0f921"
             ]
            ]
           }
          ],
          "heatmapgl": [
           {
            "type": "heatmapgl",
            "colorbar": {
             "outlinewidth": 0,
             "ticks": ""
            },
            "colorscale": [
             [
              0.0,
              "#0d0887"
             ],
             [
              0.1111111111111111,
              "#46039f"
             ],
             [
              0.2222222222222222,
              "#7201a8"
             ],
             [
              0.3333333333333333,
              "#9c179e"
             ],
             [
              0.4444444444444444,
              "#bd3786"
             ],
             [
              0.5555555555555556,
              "#d8576b"
             ],
             [
              0.6666666666666666,
              "#ed7953"
             ],
             [
              0.7777777777777778,
              "#fb9f3a"
             ],
             [
              0.8888888888888888,
              "#fdca26"
             ],
             [
              1.0,
              "#f0f921"
             ]
            ]
           }
          ],
          "contourcarpet": [
           {
            "type": "contourcarpet",
            "colorbar": {
             "outlinewidth": 0,
             "ticks": ""
            }
           }
          ],
          "contour": [
           {
            "type": "contour",
            "colorbar": {
             "outlinewidth": 0,
             "ticks": ""
            },
            "colorscale": [
             [
              0.0,
              "#0d0887"
             ],
             [
              0.1111111111111111,
              "#46039f"
             ],
             [
              0.2222222222222222,
              "#7201a8"
             ],
             [
              0.3333333333333333,
              "#9c179e"
             ],
             [
              0.4444444444444444,
              "#bd3786"
             ],
             [
              0.5555555555555556,
              "#d8576b"
             ],
             [
              0.6666666666666666,
              "#ed7953"
             ],
             [
              0.7777777777777778,
              "#fb9f3a"
             ],
             [
              0.8888888888888888,
              "#fdca26"
             ],
             [
              1.0,
              "#f0f921"
             ]
            ]
           }
          ],
          "surface": [
           {
            "type": "surface",
            "colorbar": {
             "outlinewidth": 0,
             "ticks": ""
            },
            "colorscale": [
             [
              0.0,
              "#0d0887"
             ],
             [
              0.1111111111111111,
              "#46039f"
             ],
             [
              0.2222222222222222,
              "#7201a8"
             ],
             [
              0.3333333333333333,
              "#9c179e"
             ],
             [
              0.4444444444444444,
              "#bd3786"
             ],
             [
              0.5555555555555556,
              "#d8576b"
             ],
             [
              0.6666666666666666,
              "#ed7953"
             ],
             [
              0.7777777777777778,
              "#fb9f3a"
             ],
             [
              0.8888888888888888,
              "#fdca26"
             ],
             [
              1.0,
              "#f0f921"
             ]
            ]
           }
          ],
          "mesh3d": [
           {
            "type": "mesh3d",
            "colorbar": {
             "outlinewidth": 0,
             "ticks": ""
            }
           }
          ],
          "scatter": [
           {
            "marker": {
             "line": {
              "color": "#283442"
             }
            },
            "type": "scatter"
           }
          ],
          "parcoords": [
           {
            "type": "parcoords",
            "line": {
             "colorbar": {
              "outlinewidth": 0,
              "ticks": ""
             }
            }
           }
          ],
          "scatterpolargl": [
           {
            "type": "scatterpolargl",
            "marker": {
             "colorbar": {
              "outlinewidth": 0,
              "ticks": ""
             }
            }
           }
          ],
          "bar": [
           {
            "error_x": {
             "color": "#f2f5fa"
            },
            "error_y": {
             "color": "#f2f5fa"
            },
            "marker": {
             "line": {
              "color": "rgb(17,17,17)",
              "width": 0.5
             },
             "pattern": {
              "fillmode": "overlay",
              "size": 10,
              "solidity": 0.2
             }
            },
            "type": "bar"
           }
          ],
          "scattergeo": [
           {
            "type": "scattergeo",
            "marker": {
             "colorbar": {
              "outlinewidth": 0,
              "ticks": ""
             }
            }
           }
          ],
          "scatterpolar": [
           {
            "type": "scatterpolar",
            "marker": {
             "colorbar": {
              "outlinewidth": 0,
              "ticks": ""
             }
            }
           }
          ],
          "histogram": [
           {
            "marker": {
             "pattern": {
              "fillmode": "overlay",
              "size": 10,
              "solidity": 0.2
             }
            },
            "type": "histogram"
           }
          ],
          "scattergl": [
           {
            "marker": {
             "line": {
              "color": "#283442"
             }
            },
            "type": "scattergl"
           }
          ],
          "scatter3d": [
           {
            "type": "scatter3d",
            "line": {
             "colorbar": {
              "outlinewidth": 0,
              "ticks": ""
             }
            },
            "marker": {
             "colorbar": {
              "outlinewidth": 0,
              "ticks": ""
             }
            }
           }
          ],
          "scattermapbox": [
           {
            "type": "scattermapbox",
            "marker": {
             "colorbar": {
              "outlinewidth": 0,
              "ticks": ""
             }
            }
           }
          ],
          "scatterternary": [
           {
            "type": "scatterternary",
            "marker": {
             "colorbar": {
              "outlinewidth": 0,
              "ticks": ""
             }
            }
           }
          ],
          "scattercarpet": [
           {
            "type": "scattercarpet",
            "marker": {
             "colorbar": {
              "outlinewidth": 0,
              "ticks": ""
             }
            }
           }
          ],
          "carpet": [
           {
            "aaxis": {
             "endlinecolor": "#A2B1C6",
             "gridcolor": "#506784",
             "linecolor": "#506784",
             "minorgridcolor": "#506784",
             "startlinecolor": "#A2B1C6"
            },
            "baxis": {
             "endlinecolor": "#A2B1C6",
             "gridcolor": "#506784",
             "linecolor": "#506784",
             "minorgridcolor": "#506784",
             "startlinecolor": "#A2B1C6"
            },
            "type": "carpet"
           }
          ],
          "table": [
           {
            "cells": {
             "fill": {
              "color": "#506784"
             },
             "line": {
              "color": "rgb(17,17,17)"
             }
            },
            "header": {
             "fill": {
              "color": "#2a3f5f"
             },
             "line": {
              "color": "rgb(17,17,17)"
             }
            },
            "type": "table"
           }
          ],
          "barpolar": [
           {
            "marker": {
             "line": {
              "color": "rgb(17,17,17)",
              "width": 0.5
             },
             "pattern": {
              "fillmode": "overlay",
              "size": 10,
              "solidity": 0.2
             }
            },
            "type": "barpolar"
           }
          ],
          "pie": [
           {
            "automargin": true,
            "type": "pie"
           }
          ]
         },
         "layout": {
          "autotypenumbers": "strict",
          "colorway": [
           "#636efa",
           "#EF553B",
           "#00cc96",
           "#ab63fa",
           "#FFA15A",
           "#19d3f3",
           "#FF6692",
           "#B6E880",
           "#FF97FF",
           "#FECB52"
          ],
          "font": {
           "color": "#f2f5fa"
          },
          "hovermode": "closest",
          "hoverlabel": {
           "align": "left"
          },
          "paper_bgcolor": "rgb(17,17,17)",
          "plot_bgcolor": "rgb(17,17,17)",
          "polar": {
           "bgcolor": "rgb(17,17,17)",
           "angularaxis": {
            "gridcolor": "#506784",
            "linecolor": "#506784",
            "ticks": ""
           },
           "radialaxis": {
            "gridcolor": "#506784",
            "linecolor": "#506784",
            "ticks": ""
           }
          },
          "ternary": {
           "bgcolor": "rgb(17,17,17)",
           "aaxis": {
            "gridcolor": "#506784",
            "linecolor": "#506784",
            "ticks": ""
           },
           "baxis": {
            "gridcolor": "#506784",
            "linecolor": "#506784",
            "ticks": ""
           },
           "caxis": {
            "gridcolor": "#506784",
            "linecolor": "#506784",
            "ticks": ""
           }
          },
          "coloraxis": {
           "colorbar": {
            "outlinewidth": 0,
            "ticks": ""
           }
          },
          "colorscale": {
           "sequential": [
            [
             0.0,
             "#0d0887"
            ],
            [
             0.1111111111111111,
             "#46039f"
            ],
            [
             0.2222222222222222,
             "#7201a8"
            ],
            [
             0.3333333333333333,
             "#9c179e"
            ],
            [
             0.4444444444444444,
             "#bd3786"
            ],
            [
             0.5555555555555556,
             "#d8576b"
            ],
            [
             0.6666666666666666,
             "#ed7953"
            ],
            [
             0.7777777777777778,
             "#fb9f3a"
            ],
            [
             0.8888888888888888,
             "#fdca26"
            ],
            [
             1.0,
             "#f0f921"
            ]
           ],
           "sequentialminus": [
            [
             0.0,
             "#0d0887"
            ],
            [
             0.1111111111111111,
             "#46039f"
            ],
            [
             0.2222222222222222,
             "#7201a8"
            ],
            [
             0.3333333333333333,
             "#9c179e"
            ],
            [
             0.4444444444444444,
             "#bd3786"
            ],
            [
             0.5555555555555556,
             "#d8576b"
            ],
            [
             0.6666666666666666,
             "#ed7953"
            ],
            [
             0.7777777777777778,
             "#fb9f3a"
            ],
            [
             0.8888888888888888,
             "#fdca26"
            ],
            [
             1.0,
             "#f0f921"
            ]
           ],
           "diverging": [
            [
             0,
             "#8e0152"
            ],
            [
             0.1,
             "#c51b7d"
            ],
            [
             0.2,
             "#de77ae"
            ],
            [
             0.3,
             "#f1b6da"
            ],
            [
             0.4,
             "#fde0ef"
            ],
            [
             0.5,
             "#f7f7f7"
            ],
            [
             0.6,
             "#e6f5d0"
            ],
            [
             0.7,
             "#b8e186"
            ],
            [
             0.8,
             "#7fbc41"
            ],
            [
             0.9,
             "#4d9221"
            ],
            [
             1,
             "#276419"
            ]
           ]
          },
          "xaxis": {
           "gridcolor": "#283442",
           "linecolor": "#506784",
           "ticks": "",
           "title": {
            "standoff": 15
           },
           "zerolinecolor": "#283442",
           "automargin": true,
           "zerolinewidth": 2
          },
          "yaxis": {
           "gridcolor": "#283442",
           "linecolor": "#506784",
           "ticks": "",
           "title": {
            "standoff": 15
           },
           "zerolinecolor": "#283442",
           "automargin": true,
           "zerolinewidth": 2
          },
          "scene": {
           "xaxis": {
            "backgroundcolor": "rgb(17,17,17)",
            "gridcolor": "#506784",
            "linecolor": "#506784",
            "showbackground": true,
            "ticks": "",
            "zerolinecolor": "#C8D4E3",
            "gridwidth": 2
           },
           "yaxis": {
            "backgroundcolor": "rgb(17,17,17)",
            "gridcolor": "#506784",
            "linecolor": "#506784",
            "showbackground": true,
            "ticks": "",
            "zerolinecolor": "#C8D4E3",
            "gridwidth": 2
           },
           "zaxis": {
            "backgroundcolor": "rgb(17,17,17)",
            "gridcolor": "#506784",
            "linecolor": "#506784",
            "showbackground": true,
            "ticks": "",
            "zerolinecolor": "#C8D4E3",
            "gridwidth": 2
           }
          },
          "shapedefaults": {
           "line": {
            "color": "#f2f5fa"
           }
          },
          "annotationdefaults": {
           "arrowcolor": "#f2f5fa",
           "arrowhead": 0,
           "arrowwidth": 1
          },
          "geo": {
           "bgcolor": "rgb(17,17,17)",
           "landcolor": "rgb(17,17,17)",
           "subunitcolor": "#506784",
           "showland": true,
           "showlakes": true,
           "lakecolor": "rgb(17,17,17)"
          },
          "title": {
           "x": 0.05
          },
          "updatemenudefaults": {
           "bgcolor": "#506784",
           "borderwidth": 0
          },
          "sliderdefaults": {
           "bgcolor": "#C8D4E3",
           "borderwidth": 1,
           "bordercolor": "rgb(17,17,17)",
           "tickwidth": 0
          },
          "mapbox": {
           "style": "dark"
          }
         }
        },
        "xaxis": {
         "anchor": "y",
         "domain": [
          0.0,
          1.0
         ],
         "scaleanchor": "y",
         "constrain": "domain",
         "tickangle": 45
        },
        "yaxis": {
         "anchor": "x",
         "domain": [
          0.0,
          1.0
         ],
         "autorange": "reversed",
         "constrain": "domain"
        },
        "coloraxis": {
         "colorbar": {
          "title": {
           "text": "Correlation"
          }
         },
         "colorscale": [
          [
           0.0,
           "#0d0887"
          ],
          [
           0.1111111111111111,
           "#46039f"
          ],
          [
           0.2222222222222222,
           "#7201a8"
          ],
          [
           0.3333333333333333,
           "#9c179e"
          ],
          [
           0.4444444444444444,
           "#bd3786"
          ],
          [
           0.5555555555555556,
           "#d8576b"
          ],
          [
           0.6666666666666666,
           "#ed7953"
          ],
          [
           0.7777777777777778,
           "#fb9f3a"
          ],
          [
           0.8888888888888888,
           "#fdca26"
          ],
          [
           1.0,
           "#f0f921"
          ]
         ]
        },
        "margin": {
         "t": 60
        },
        "title": {
         "text": "Filtered Correlation Matrix Heatmap"
        },
        "width": 800,
        "height": 600
       },
       "config": {
        "plotlyServerURL": "https://plot.ly"
       }
      },
      "text/html": [
       "<div>                            <div id=\"88735250-f8fb-40f1-8e83-9b64e7aecd2d\" class=\"plotly-graph-div\" style=\"height:600px; width:800px;\"></div>            <script type=\"text/javascript\">                require([\"plotly\"], function(Plotly) {                    window.PLOTLYENV=window.PLOTLYENV || {};                                    if (document.getElementById(\"88735250-f8fb-40f1-8e83-9b64e7aecd2d\")) {                    Plotly.newPlot(                        \"88735250-f8fb-40f1-8e83-9b64e7aecd2d\",                        [{\"coloraxis\":\"coloraxis\",\"name\":\"0\",\"texttemplate\":\"%{z}\",\"x\":[\"co2\",\"gdp\",\"population\",\"cumulative_co2\"],\"y\":[\"co2\",\"gdp\",\"population\",\"cumulative_co2\"],\"z\":[[1.0,0.965254180688454,0.8423321951811774,0.946267239144833],[0.965254180688454,1.0,0.9072111879714643,0.9724445196633802],[0.8423321951811774,0.9072111879714643,1.0,0.7375268463279617],[0.946267239144833,0.9724445196633802,0.7375268463279617,1.0]],\"type\":\"heatmap\",\"xaxis\":\"x\",\"yaxis\":\"y\",\"hovertemplate\":\"x: %{x}\\u003cbr\\u003ey: %{y}\\u003cbr\\u003eCorrelation: %{z}\\u003cextra\\u003e\\u003c\\u002fextra\\u003e\"}],                        {\"template\":{\"data\":{\"histogram2dcontour\":[{\"type\":\"histogram2dcontour\",\"colorbar\":{\"outlinewidth\":0,\"ticks\":\"\"},\"colorscale\":[[0.0,\"#0d0887\"],[0.1111111111111111,\"#46039f\"],[0.2222222222222222,\"#7201a8\"],[0.3333333333333333,\"#9c179e\"],[0.4444444444444444,\"#bd3786\"],[0.5555555555555556,\"#d8576b\"],[0.6666666666666666,\"#ed7953\"],[0.7777777777777778,\"#fb9f3a\"],[0.8888888888888888,\"#fdca26\"],[1.0,\"#f0f921\"]]}],\"choropleth\":[{\"type\":\"choropleth\",\"colorbar\":{\"outlinewidth\":0,\"ticks\":\"\"}}],\"histogram2d\":[{\"type\":\"histogram2d\",\"colorbar\":{\"outlinewidth\":0,\"ticks\":\"\"},\"colorscale\":[[0.0,\"#0d0887\"],[0.1111111111111111,\"#46039f\"],[0.2222222222222222,\"#7201a8\"],[0.3333333333333333,\"#9c179e\"],[0.4444444444444444,\"#bd3786\"],[0.5555555555555556,\"#d8576b\"],[0.6666666666666666,\"#ed7953\"],[0.7777777777777778,\"#fb9f3a\"],[0.8888888888888888,\"#fdca26\"],[1.0,\"#f0f921\"]]}],\"heatmap\":[{\"type\":\"heatmap\",\"colorbar\":{\"outlinewidth\":0,\"ticks\":\"\"},\"colorscale\":[[0.0,\"#0d0887\"],[0.1111111111111111,\"#46039f\"],[0.2222222222222222,\"#7201a8\"],[0.3333333333333333,\"#9c179e\"],[0.4444444444444444,\"#bd3786\"],[0.5555555555555556,\"#d8576b\"],[0.6666666666666666,\"#ed7953\"],[0.7777777777777778,\"#fb9f3a\"],[0.8888888888888888,\"#fdca26\"],[1.0,\"#f0f921\"]]}],\"heatmapgl\":[{\"type\":\"heatmapgl\",\"colorbar\":{\"outlinewidth\":0,\"ticks\":\"\"},\"colorscale\":[[0.0,\"#0d0887\"],[0.1111111111111111,\"#46039f\"],[0.2222222222222222,\"#7201a8\"],[0.3333333333333333,\"#9c179e\"],[0.4444444444444444,\"#bd3786\"],[0.5555555555555556,\"#d8576b\"],[0.6666666666666666,\"#ed7953\"],[0.7777777777777778,\"#fb9f3a\"],[0.8888888888888888,\"#fdca26\"],[1.0,\"#f0f921\"]]}],\"contourcarpet\":[{\"type\":\"contourcarpet\",\"colorbar\":{\"outlinewidth\":0,\"ticks\":\"\"}}],\"contour\":[{\"type\":\"contour\",\"colorbar\":{\"outlinewidth\":0,\"ticks\":\"\"},\"colorscale\":[[0.0,\"#0d0887\"],[0.1111111111111111,\"#46039f\"],[0.2222222222222222,\"#7201a8\"],[0.3333333333333333,\"#9c179e\"],[0.4444444444444444,\"#bd3786\"],[0.5555555555555556,\"#d8576b\"],[0.6666666666666666,\"#ed7953\"],[0.7777777777777778,\"#fb9f3a\"],[0.8888888888888888,\"#fdca26\"],[1.0,\"#f0f921\"]]}],\"surface\":[{\"type\":\"surface\",\"colorbar\":{\"outlinewidth\":0,\"ticks\":\"\"},\"colorscale\":[[0.0,\"#0d0887\"],[0.1111111111111111,\"#46039f\"],[0.2222222222222222,\"#7201a8\"],[0.3333333333333333,\"#9c179e\"],[0.4444444444444444,\"#bd3786\"],[0.5555555555555556,\"#d8576b\"],[0.6666666666666666,\"#ed7953\"],[0.7777777777777778,\"#fb9f3a\"],[0.8888888888888888,\"#fdca26\"],[1.0,\"#f0f921\"]]}],\"mesh3d\":[{\"type\":\"mesh3d\",\"colorbar\":{\"outlinewidth\":0,\"ticks\":\"\"}}],\"scatter\":[{\"marker\":{\"line\":{\"color\":\"#283442\"}},\"type\":\"scatter\"}],\"parcoords\":[{\"type\":\"parcoords\",\"line\":{\"colorbar\":{\"outlinewidth\":0,\"ticks\":\"\"}}}],\"scatterpolargl\":[{\"type\":\"scatterpolargl\",\"marker\":{\"colorbar\":{\"outlinewidth\":0,\"ticks\":\"\"}}}],\"bar\":[{\"error_x\":{\"color\":\"#f2f5fa\"},\"error_y\":{\"color\":\"#f2f5fa\"},\"marker\":{\"line\":{\"color\":\"rgb(17,17,17)\",\"width\":0.5},\"pattern\":{\"fillmode\":\"overlay\",\"size\":10,\"solidity\":0.2}},\"type\":\"bar\"}],\"scattergeo\":[{\"type\":\"scattergeo\",\"marker\":{\"colorbar\":{\"outlinewidth\":0,\"ticks\":\"\"}}}],\"scatterpolar\":[{\"type\":\"scatterpolar\",\"marker\":{\"colorbar\":{\"outlinewidth\":0,\"ticks\":\"\"}}}],\"histogram\":[{\"marker\":{\"pattern\":{\"fillmode\":\"overlay\",\"size\":10,\"solidity\":0.2}},\"type\":\"histogram\"}],\"scattergl\":[{\"marker\":{\"line\":{\"color\":\"#283442\"}},\"type\":\"scattergl\"}],\"scatter3d\":[{\"type\":\"scatter3d\",\"line\":{\"colorbar\":{\"outlinewidth\":0,\"ticks\":\"\"}},\"marker\":{\"colorbar\":{\"outlinewidth\":0,\"ticks\":\"\"}}}],\"scattermapbox\":[{\"type\":\"scattermapbox\",\"marker\":{\"colorbar\":{\"outlinewidth\":0,\"ticks\":\"\"}}}],\"scatterternary\":[{\"type\":\"scatterternary\",\"marker\":{\"colorbar\":{\"outlinewidth\":0,\"ticks\":\"\"}}}],\"scattercarpet\":[{\"type\":\"scattercarpet\",\"marker\":{\"colorbar\":{\"outlinewidth\":0,\"ticks\":\"\"}}}],\"carpet\":[{\"aaxis\":{\"endlinecolor\":\"#A2B1C6\",\"gridcolor\":\"#506784\",\"linecolor\":\"#506784\",\"minorgridcolor\":\"#506784\",\"startlinecolor\":\"#A2B1C6\"},\"baxis\":{\"endlinecolor\":\"#A2B1C6\",\"gridcolor\":\"#506784\",\"linecolor\":\"#506784\",\"minorgridcolor\":\"#506784\",\"startlinecolor\":\"#A2B1C6\"},\"type\":\"carpet\"}],\"table\":[{\"cells\":{\"fill\":{\"color\":\"#506784\"},\"line\":{\"color\":\"rgb(17,17,17)\"}},\"header\":{\"fill\":{\"color\":\"#2a3f5f\"},\"line\":{\"color\":\"rgb(17,17,17)\"}},\"type\":\"table\"}],\"barpolar\":[{\"marker\":{\"line\":{\"color\":\"rgb(17,17,17)\",\"width\":0.5},\"pattern\":{\"fillmode\":\"overlay\",\"size\":10,\"solidity\":0.2}},\"type\":\"barpolar\"}],\"pie\":[{\"automargin\":true,\"type\":\"pie\"}]},\"layout\":{\"autotypenumbers\":\"strict\",\"colorway\":[\"#636efa\",\"#EF553B\",\"#00cc96\",\"#ab63fa\",\"#FFA15A\",\"#19d3f3\",\"#FF6692\",\"#B6E880\",\"#FF97FF\",\"#FECB52\"],\"font\":{\"color\":\"#f2f5fa\"},\"hovermode\":\"closest\",\"hoverlabel\":{\"align\":\"left\"},\"paper_bgcolor\":\"rgb(17,17,17)\",\"plot_bgcolor\":\"rgb(17,17,17)\",\"polar\":{\"bgcolor\":\"rgb(17,17,17)\",\"angularaxis\":{\"gridcolor\":\"#506784\",\"linecolor\":\"#506784\",\"ticks\":\"\"},\"radialaxis\":{\"gridcolor\":\"#506784\",\"linecolor\":\"#506784\",\"ticks\":\"\"}},\"ternary\":{\"bgcolor\":\"rgb(17,17,17)\",\"aaxis\":{\"gridcolor\":\"#506784\",\"linecolor\":\"#506784\",\"ticks\":\"\"},\"baxis\":{\"gridcolor\":\"#506784\",\"linecolor\":\"#506784\",\"ticks\":\"\"},\"caxis\":{\"gridcolor\":\"#506784\",\"linecolor\":\"#506784\",\"ticks\":\"\"}},\"coloraxis\":{\"colorbar\":{\"outlinewidth\":0,\"ticks\":\"\"}},\"colorscale\":{\"sequential\":[[0.0,\"#0d0887\"],[0.1111111111111111,\"#46039f\"],[0.2222222222222222,\"#7201a8\"],[0.3333333333333333,\"#9c179e\"],[0.4444444444444444,\"#bd3786\"],[0.5555555555555556,\"#d8576b\"],[0.6666666666666666,\"#ed7953\"],[0.7777777777777778,\"#fb9f3a\"],[0.8888888888888888,\"#fdca26\"],[1.0,\"#f0f921\"]],\"sequentialminus\":[[0.0,\"#0d0887\"],[0.1111111111111111,\"#46039f\"],[0.2222222222222222,\"#7201a8\"],[0.3333333333333333,\"#9c179e\"],[0.4444444444444444,\"#bd3786\"],[0.5555555555555556,\"#d8576b\"],[0.6666666666666666,\"#ed7953\"],[0.7777777777777778,\"#fb9f3a\"],[0.8888888888888888,\"#fdca26\"],[1.0,\"#f0f921\"]],\"diverging\":[[0,\"#8e0152\"],[0.1,\"#c51b7d\"],[0.2,\"#de77ae\"],[0.3,\"#f1b6da\"],[0.4,\"#fde0ef\"],[0.5,\"#f7f7f7\"],[0.6,\"#e6f5d0\"],[0.7,\"#b8e186\"],[0.8,\"#7fbc41\"],[0.9,\"#4d9221\"],[1,\"#276419\"]]},\"xaxis\":{\"gridcolor\":\"#283442\",\"linecolor\":\"#506784\",\"ticks\":\"\",\"title\":{\"standoff\":15},\"zerolinecolor\":\"#283442\",\"automargin\":true,\"zerolinewidth\":2},\"yaxis\":{\"gridcolor\":\"#283442\",\"linecolor\":\"#506784\",\"ticks\":\"\",\"title\":{\"standoff\":15},\"zerolinecolor\":\"#283442\",\"automargin\":true,\"zerolinewidth\":2},\"scene\":{\"xaxis\":{\"backgroundcolor\":\"rgb(17,17,17)\",\"gridcolor\":\"#506784\",\"linecolor\":\"#506784\",\"showbackground\":true,\"ticks\":\"\",\"zerolinecolor\":\"#C8D4E3\",\"gridwidth\":2},\"yaxis\":{\"backgroundcolor\":\"rgb(17,17,17)\",\"gridcolor\":\"#506784\",\"linecolor\":\"#506784\",\"showbackground\":true,\"ticks\":\"\",\"zerolinecolor\":\"#C8D4E3\",\"gridwidth\":2},\"zaxis\":{\"backgroundcolor\":\"rgb(17,17,17)\",\"gridcolor\":\"#506784\",\"linecolor\":\"#506784\",\"showbackground\":true,\"ticks\":\"\",\"zerolinecolor\":\"#C8D4E3\",\"gridwidth\":2}},\"shapedefaults\":{\"line\":{\"color\":\"#f2f5fa\"}},\"annotationdefaults\":{\"arrowcolor\":\"#f2f5fa\",\"arrowhead\":0,\"arrowwidth\":1},\"geo\":{\"bgcolor\":\"rgb(17,17,17)\",\"landcolor\":\"rgb(17,17,17)\",\"subunitcolor\":\"#506784\",\"showland\":true,\"showlakes\":true,\"lakecolor\":\"rgb(17,17,17)\"},\"title\":{\"x\":0.05},\"updatemenudefaults\":{\"bgcolor\":\"#506784\",\"borderwidth\":0},\"sliderdefaults\":{\"bgcolor\":\"#C8D4E3\",\"borderwidth\":1,\"bordercolor\":\"rgb(17,17,17)\",\"tickwidth\":0},\"mapbox\":{\"style\":\"dark\"}}},\"xaxis\":{\"anchor\":\"y\",\"domain\":[0.0,1.0],\"scaleanchor\":\"y\",\"constrain\":\"domain\",\"tickangle\":45},\"yaxis\":{\"anchor\":\"x\",\"domain\":[0.0,1.0],\"autorange\":\"reversed\",\"constrain\":\"domain\"},\"coloraxis\":{\"colorbar\":{\"title\":{\"text\":\"Correlation\"}},\"colorscale\":[[0.0,\"#0d0887\"],[0.1111111111111111,\"#46039f\"],[0.2222222222222222,\"#7201a8\"],[0.3333333333333333,\"#9c179e\"],[0.4444444444444444,\"#bd3786\"],[0.5555555555555556,\"#d8576b\"],[0.6666666666666666,\"#ed7953\"],[0.7777777777777778,\"#fb9f3a\"],[0.8888888888888888,\"#fdca26\"],[1.0,\"#f0f921\"]]},\"margin\":{\"t\":60},\"title\":{\"text\":\"Filtered Correlation Matrix Heatmap\"},\"width\":800,\"height\":600},                        {\"responsive\": true}                    ).then(function(){\n",
       "                            \n",
       "var gd = document.getElementById('88735250-f8fb-40f1-8e83-9b64e7aecd2d');\n",
       "var x = new MutationObserver(function (mutations, observer) {{\n",
       "        var display = window.getComputedStyle(gd).display;\n",
       "        if (!display || display === 'none') {{\n",
       "            console.log([gd, 'removed!']);\n",
       "            Plotly.purge(gd);\n",
       "            observer.disconnect();\n",
       "        }}\n",
       "}});\n",
       "\n",
       "// Listen for the removal of the full notebook cells\n",
       "var notebookContainer = gd.closest('#notebook-container');\n",
       "if (notebookContainer) {{\n",
       "    x.observe(notebookContainer, {childList: true});\n",
       "}}\n",
       "\n",
       "// Listen for the clearing of the current output cell\n",
       "var outputEl = gd.closest('.output');\n",
       "if (outputEl) {{\n",
       "    x.observe(outputEl, {childList: true});\n",
       "}}\n",
       "\n",
       "                        })                };                });            </script>        </div>"
      ]
     },
     "metadata": {},
     "output_type": "display_data"
    }
   ],
   "execution_count": 30
  },
  {
   "metadata": {
    "ExecuteTime": {
     "end_time": "2024-11-05T01:34:53.660495Z",
     "start_time": "2024-11-05T01:34:53.652229Z"
    }
   },
   "cell_type": "code",
   "source": [
    "# Select relevant columns for correlation\n",
    "correlation_data = data[['gdp', 'population', 'co2', 'cumulative_co2', \"total_ghg\"]]\n",
    "correlation_data = correlation_data.dropna()\n",
    "correlation_matrix = correlation_data.corr()\n",
    "correlation_matrix"
   ],
   "id": "c9509a2478778f31",
   "outputs": [
    {
     "data": {
      "text/plain": [
       "                     gdp  population       co2  cumulative_co2  total_ghg\n",
       "gdp             1.000000    0.938576  0.977784        0.977087   0.981821\n",
       "population      0.938576    1.000000  0.942418        0.887566   0.959142\n",
       "co2             0.977784    0.942418  1.000000        0.964965   0.994183\n",
       "cumulative_co2  0.977087    0.887566  0.964965        1.000000   0.961094\n",
       "total_ghg       0.981821    0.959142  0.994183        0.961094   1.000000"
      ],
      "text/html": [
       "<div>\n",
       "<style scoped>\n",
       "    .dataframe tbody tr th:only-of-type {\n",
       "        vertical-align: middle;\n",
       "    }\n",
       "\n",
       "    .dataframe tbody tr th {\n",
       "        vertical-align: top;\n",
       "    }\n",
       "\n",
       "    .dataframe thead th {\n",
       "        text-align: right;\n",
       "    }\n",
       "</style>\n",
       "<table border=\"1\" class=\"dataframe\">\n",
       "  <thead>\n",
       "    <tr style=\"text-align: right;\">\n",
       "      <th></th>\n",
       "      <th>gdp</th>\n",
       "      <th>population</th>\n",
       "      <th>co2</th>\n",
       "      <th>cumulative_co2</th>\n",
       "      <th>total_ghg</th>\n",
       "    </tr>\n",
       "  </thead>\n",
       "  <tbody>\n",
       "    <tr>\n",
       "      <th>gdp</th>\n",
       "      <td>1.000000</td>\n",
       "      <td>0.938576</td>\n",
       "      <td>0.977784</td>\n",
       "      <td>0.977087</td>\n",
       "      <td>0.981821</td>\n",
       "    </tr>\n",
       "    <tr>\n",
       "      <th>population</th>\n",
       "      <td>0.938576</td>\n",
       "      <td>1.000000</td>\n",
       "      <td>0.942418</td>\n",
       "      <td>0.887566</td>\n",
       "      <td>0.959142</td>\n",
       "    </tr>\n",
       "    <tr>\n",
       "      <th>co2</th>\n",
       "      <td>0.977784</td>\n",
       "      <td>0.942418</td>\n",
       "      <td>1.000000</td>\n",
       "      <td>0.964965</td>\n",
       "      <td>0.994183</td>\n",
       "    </tr>\n",
       "    <tr>\n",
       "      <th>cumulative_co2</th>\n",
       "      <td>0.977087</td>\n",
       "      <td>0.887566</td>\n",
       "      <td>0.964965</td>\n",
       "      <td>1.000000</td>\n",
       "      <td>0.961094</td>\n",
       "    </tr>\n",
       "    <tr>\n",
       "      <th>total_ghg</th>\n",
       "      <td>0.981821</td>\n",
       "      <td>0.959142</td>\n",
       "      <td>0.994183</td>\n",
       "      <td>0.961094</td>\n",
       "      <td>1.000000</td>\n",
       "    </tr>\n",
       "  </tbody>\n",
       "</table>\n",
       "</div>"
      ]
     },
     "execution_count": 31,
     "metadata": {},
     "output_type": "execute_result"
    }
   ],
   "execution_count": 31
  },
  {
   "metadata": {
    "ExecuteTime": {
     "end_time": "2024-11-05T01:34:53.919378Z",
     "start_time": "2024-11-05T01:34:53.744790Z"
    }
   },
   "cell_type": "code",
   "source": [
    "# Select only numerical columns for correlation calculation\n",
    "numerical_data = data.select_dtypes(include=['number'])\n",
    "correlation_matrix_all_numeric = numerical_data.corr()\n",
    "correlation_matrix_all_numeric"
   ],
   "id": "e3f19ee95389dfa6",
   "outputs": [
    {
     "data": {
      "text/plain": [
       "                                 year  population       gdp  cement_co2  \\\n",
       "year                         1.000000    0.016694  0.077085    0.102981   \n",
       "population                   0.016694    1.000000  0.907211    0.802239   \n",
       "gdp                          0.077085    0.907211  1.000000    0.912824   \n",
       "cement_co2                   0.102981    0.802239  0.912824    1.000000   \n",
       "cement_co2_per_capita        0.312224    0.037464  0.077386    0.150730   \n",
       "...                               ...         ...       ...         ...   \n",
       "temperature_change_from_n2o  0.124432    0.887376  0.976299    0.830563   \n",
       "total_ghg                    0.029292    0.945264  0.981821    0.917280   \n",
       "total_ghg_excluding_lucf     0.031849    0.934036  0.980726    0.921456   \n",
       "trade_co2                    0.006132   -0.314998 -0.070153   -0.394426   \n",
       "trade_co2_share              0.065105   -0.124726 -0.056733   -0.107764   \n",
       "\n",
       "                             cement_co2_per_capita       co2  co2_growth_abs  \\\n",
       "year                                      0.312224  0.142780        0.046398   \n",
       "population                                0.037464  0.842332        0.502810   \n",
       "gdp                                       0.077386  0.965254        0.311429   \n",
       "cement_co2                                0.150730  0.890979        0.482679   \n",
       "cement_co2_per_capita                     1.000000  0.141605        0.064110   \n",
       "...                                            ...       ...             ...   \n",
       "temperature_change_from_n2o               0.097290  0.962422        0.426666   \n",
       "total_ghg                                 0.091824  0.990723        0.465489   \n",
       "total_ghg_excluding_lucf                  0.100188  0.996811        0.461929   \n",
       "trade_co2                                -0.030735 -0.130611       -0.357979   \n",
       "trade_co2_share                          -0.167459 -0.115351       -0.061456   \n",
       "\n",
       "                             co2_growth_prct  co2_including_luc  \\\n",
       "year                               -0.009721           0.076471   \n",
       "population                         -0.004865           0.908075   \n",
       "gdp                                -0.002278           0.948413   \n",
       "cement_co2                         -0.003283           0.853730   \n",
       "cement_co2_per_capita              -0.009446           0.096567   \n",
       "...                                      ...                ...   \n",
       "temperature_change_from_n2o        -0.005000           0.953415   \n",
       "total_ghg                          -0.012550           0.996540   \n",
       "total_ghg_excluding_lucf           -0.013050           0.996665   \n",
       "trade_co2                          -0.038052          -0.180992   \n",
       "trade_co2_share                    -0.011445          -0.122885   \n",
       "\n",
       "                             co2_including_luc_growth_abs  ...  \\\n",
       "year                                             0.010471  ...   \n",
       "population                                       0.348481  ...   \n",
       "gdp                                              0.171332  ...   \n",
       "cement_co2                                       0.313276  ...   \n",
       "cement_co2_per_capita                            0.033119  ...   \n",
       "...                                                   ...  ...   \n",
       "temperature_change_from_n2o                      0.271134  ...   \n",
       "total_ghg                                        0.295555  ...   \n",
       "total_ghg_excluding_lucf                         0.292195  ...   \n",
       "trade_co2                                       -0.227191  ...   \n",
       "trade_co2_share                                 -0.038287  ...   \n",
       "\n",
       "                             share_global_other_co2  \\\n",
       "year                                      -0.726284   \n",
       "population                                 0.590498   \n",
       "gdp                                        0.395960   \n",
       "cement_co2                                 0.405180   \n",
       "cement_co2_per_capita                     -0.296477   \n",
       "...                                             ...   \n",
       "temperature_change_from_n2o                0.502179   \n",
       "total_ghg                                  0.937712   \n",
       "total_ghg_excluding_lucf                   0.943873   \n",
       "trade_co2                                 -0.259807   \n",
       "trade_co2_share                           -0.168754   \n",
       "\n",
       "                             share_of_temperature_change_from_ghg  \\\n",
       "year                                                    -0.144622   \n",
       "population                                               0.733955   \n",
       "gdp                                                      0.673518   \n",
       "cement_co2                                               0.461275   \n",
       "cement_co2_per_capita                                   -0.010834   \n",
       "...                                                           ...   \n",
       "temperature_change_from_n2o                              0.648452   \n",
       "total_ghg                                                0.972065   \n",
       "total_ghg_excluding_lucf                                 0.970249   \n",
       "trade_co2                                               -0.053840   \n",
       "trade_co2_share                                         -0.126851   \n",
       "\n",
       "                             temperature_change_from_ch4  \\\n",
       "year                                            0.114512   \n",
       "population                                      0.938947   \n",
       "gdp                                             0.958481   \n",
       "cement_co2                                      0.853453   \n",
       "cement_co2_per_capita                           0.089212   \n",
       "...                                                  ...   \n",
       "temperature_change_from_n2o                     0.970138   \n",
       "total_ghg                                       0.988881   \n",
       "total_ghg_excluding_lucf                        0.981426   \n",
       "trade_co2                                      -0.207706   \n",
       "trade_co2_share                                -0.135048   \n",
       "\n",
       "                             temperature_change_from_co2  \\\n",
       "year                                            0.104595   \n",
       "population                                      0.848382   \n",
       "gdp                                             0.959956   \n",
       "cement_co2                                      0.792499   \n",
       "cement_co2_per_capita                           0.101050   \n",
       "...                                                  ...   \n",
       "temperature_change_from_n2o                     0.979878   \n",
       "total_ghg                                       0.967910   \n",
       "total_ghg_excluding_lucf                        0.970729   \n",
       "trade_co2                                       0.000514   \n",
       "trade_co2_share                                -0.117649   \n",
       "\n",
       "                             temperature_change_from_ghg  \\\n",
       "year                                            0.107659   \n",
       "population                                      0.882347   \n",
       "gdp                                             0.966770   \n",
       "cement_co2                                      0.818248   \n",
       "cement_co2_per_capita                           0.099593   \n",
       "...                                                  ...   \n",
       "temperature_change_from_n2o                     0.987359   \n",
       "total_ghg                                       0.983109   \n",
       "total_ghg_excluding_lucf                        0.983015   \n",
       "trade_co2                                      -0.056494   \n",
       "trade_co2_share                                -0.123532   \n",
       "\n",
       "                             temperature_change_from_n2o  total_ghg  \\\n",
       "year                                            0.124432   0.029292   \n",
       "population                                      0.887376   0.945264   \n",
       "gdp                                             0.976299   0.981821   \n",
       "cement_co2                                      0.830563   0.917280   \n",
       "cement_co2_per_capita                           0.097290   0.091824   \n",
       "...                                                  ...        ...   \n",
       "temperature_change_from_n2o                     1.000000   0.977841   \n",
       "total_ghg                                       0.977841   1.000000   \n",
       "total_ghg_excluding_lucf                        0.976756   0.997862   \n",
       "trade_co2                                      -0.033170  -0.182024   \n",
       "trade_co2_share                                -0.125654  -0.117277   \n",
       "\n",
       "                             total_ghg_excluding_lucf  trade_co2  \\\n",
       "year                                         0.031849   0.006132   \n",
       "population                                   0.934036  -0.314998   \n",
       "gdp                                          0.980726  -0.070153   \n",
       "cement_co2                                   0.921456  -0.394426   \n",
       "cement_co2_per_capita                        0.100188  -0.030735   \n",
       "...                                               ...        ...   \n",
       "temperature_change_from_n2o                  0.976756  -0.033170   \n",
       "total_ghg                                    0.997862  -0.182024   \n",
       "total_ghg_excluding_lucf                     1.000000  -0.171555   \n",
       "trade_co2                                   -0.171555   1.000000   \n",
       "trade_co2_share                             -0.113502   0.143160   \n",
       "\n",
       "                             trade_co2_share  \n",
       "year                                0.065105  \n",
       "population                         -0.124726  \n",
       "gdp                                -0.056733  \n",
       "cement_co2                         -0.107764  \n",
       "cement_co2_per_capita              -0.167459  \n",
       "...                                      ...  \n",
       "temperature_change_from_n2o        -0.125654  \n",
       "total_ghg                          -0.117277  \n",
       "total_ghg_excluding_lucf           -0.113502  \n",
       "trade_co2                           0.143160  \n",
       "trade_co2_share                     1.000000  \n",
       "\n",
       "[77 rows x 77 columns]"
      ],
      "text/html": [
       "<div>\n",
       "<style scoped>\n",
       "    .dataframe tbody tr th:only-of-type {\n",
       "        vertical-align: middle;\n",
       "    }\n",
       "\n",
       "    .dataframe tbody tr th {\n",
       "        vertical-align: top;\n",
       "    }\n",
       "\n",
       "    .dataframe thead th {\n",
       "        text-align: right;\n",
       "    }\n",
       "</style>\n",
       "<table border=\"1\" class=\"dataframe\">\n",
       "  <thead>\n",
       "    <tr style=\"text-align: right;\">\n",
       "      <th></th>\n",
       "      <th>year</th>\n",
       "      <th>population</th>\n",
       "      <th>gdp</th>\n",
       "      <th>cement_co2</th>\n",
       "      <th>cement_co2_per_capita</th>\n",
       "      <th>co2</th>\n",
       "      <th>co2_growth_abs</th>\n",
       "      <th>co2_growth_prct</th>\n",
       "      <th>co2_including_luc</th>\n",
       "      <th>co2_including_luc_growth_abs</th>\n",
       "      <th>...</th>\n",
       "      <th>share_global_other_co2</th>\n",
       "      <th>share_of_temperature_change_from_ghg</th>\n",
       "      <th>temperature_change_from_ch4</th>\n",
       "      <th>temperature_change_from_co2</th>\n",
       "      <th>temperature_change_from_ghg</th>\n",
       "      <th>temperature_change_from_n2o</th>\n",
       "      <th>total_ghg</th>\n",
       "      <th>total_ghg_excluding_lucf</th>\n",
       "      <th>trade_co2</th>\n",
       "      <th>trade_co2_share</th>\n",
       "    </tr>\n",
       "  </thead>\n",
       "  <tbody>\n",
       "    <tr>\n",
       "      <th>year</th>\n",
       "      <td>1.000000</td>\n",
       "      <td>0.016694</td>\n",
       "      <td>0.077085</td>\n",
       "      <td>0.102981</td>\n",
       "      <td>0.312224</td>\n",
       "      <td>0.142780</td>\n",
       "      <td>0.046398</td>\n",
       "      <td>-0.009721</td>\n",
       "      <td>0.076471</td>\n",
       "      <td>0.010471</td>\n",
       "      <td>...</td>\n",
       "      <td>-0.726284</td>\n",
       "      <td>-0.144622</td>\n",
       "      <td>0.114512</td>\n",
       "      <td>0.104595</td>\n",
       "      <td>0.107659</td>\n",
       "      <td>0.124432</td>\n",
       "      <td>0.029292</td>\n",
       "      <td>0.031849</td>\n",
       "      <td>0.006132</td>\n",
       "      <td>0.065105</td>\n",
       "    </tr>\n",
       "    <tr>\n",
       "      <th>population</th>\n",
       "      <td>0.016694</td>\n",
       "      <td>1.000000</td>\n",
       "      <td>0.907211</td>\n",
       "      <td>0.802239</td>\n",
       "      <td>0.037464</td>\n",
       "      <td>0.842332</td>\n",
       "      <td>0.502810</td>\n",
       "      <td>-0.004865</td>\n",
       "      <td>0.908075</td>\n",
       "      <td>0.348481</td>\n",
       "      <td>...</td>\n",
       "      <td>0.590498</td>\n",
       "      <td>0.733955</td>\n",
       "      <td>0.938947</td>\n",
       "      <td>0.848382</td>\n",
       "      <td>0.882347</td>\n",
       "      <td>0.887376</td>\n",
       "      <td>0.945264</td>\n",
       "      <td>0.934036</td>\n",
       "      <td>-0.314998</td>\n",
       "      <td>-0.124726</td>\n",
       "    </tr>\n",
       "    <tr>\n",
       "      <th>gdp</th>\n",
       "      <td>0.077085</td>\n",
       "      <td>0.907211</td>\n",
       "      <td>1.000000</td>\n",
       "      <td>0.912824</td>\n",
       "      <td>0.077386</td>\n",
       "      <td>0.965254</td>\n",
       "      <td>0.311429</td>\n",
       "      <td>-0.002278</td>\n",
       "      <td>0.948413</td>\n",
       "      <td>0.171332</td>\n",
       "      <td>...</td>\n",
       "      <td>0.395960</td>\n",
       "      <td>0.673518</td>\n",
       "      <td>0.958481</td>\n",
       "      <td>0.959956</td>\n",
       "      <td>0.966770</td>\n",
       "      <td>0.976299</td>\n",
       "      <td>0.981821</td>\n",
       "      <td>0.980726</td>\n",
       "      <td>-0.070153</td>\n",
       "      <td>-0.056733</td>\n",
       "    </tr>\n",
       "    <tr>\n",
       "      <th>cement_co2</th>\n",
       "      <td>0.102981</td>\n",
       "      <td>0.802239</td>\n",
       "      <td>0.912824</td>\n",
       "      <td>1.000000</td>\n",
       "      <td>0.150730</td>\n",
       "      <td>0.890979</td>\n",
       "      <td>0.482679</td>\n",
       "      <td>-0.003283</td>\n",
       "      <td>0.853730</td>\n",
       "      <td>0.313276</td>\n",
       "      <td>...</td>\n",
       "      <td>0.405180</td>\n",
       "      <td>0.461275</td>\n",
       "      <td>0.853453</td>\n",
       "      <td>0.792499</td>\n",
       "      <td>0.818248</td>\n",
       "      <td>0.830563</td>\n",
       "      <td>0.917280</td>\n",
       "      <td>0.921456</td>\n",
       "      <td>-0.394426</td>\n",
       "      <td>-0.107764</td>\n",
       "    </tr>\n",
       "    <tr>\n",
       "      <th>cement_co2_per_capita</th>\n",
       "      <td>0.312224</td>\n",
       "      <td>0.037464</td>\n",
       "      <td>0.077386</td>\n",
       "      <td>0.150730</td>\n",
       "      <td>1.000000</td>\n",
       "      <td>0.141605</td>\n",
       "      <td>0.064110</td>\n",
       "      <td>-0.009446</td>\n",
       "      <td>0.096567</td>\n",
       "      <td>0.033119</td>\n",
       "      <td>...</td>\n",
       "      <td>-0.296477</td>\n",
       "      <td>-0.010834</td>\n",
       "      <td>0.089212</td>\n",
       "      <td>0.101050</td>\n",
       "      <td>0.099593</td>\n",
       "      <td>0.097290</td>\n",
       "      <td>0.091824</td>\n",
       "      <td>0.100188</td>\n",
       "      <td>-0.030735</td>\n",
       "      <td>-0.167459</td>\n",
       "    </tr>\n",
       "    <tr>\n",
       "      <th>...</th>\n",
       "      <td>...</td>\n",
       "      <td>...</td>\n",
       "      <td>...</td>\n",
       "      <td>...</td>\n",
       "      <td>...</td>\n",
       "      <td>...</td>\n",
       "      <td>...</td>\n",
       "      <td>...</td>\n",
       "      <td>...</td>\n",
       "      <td>...</td>\n",
       "      <td>...</td>\n",
       "      <td>...</td>\n",
       "      <td>...</td>\n",
       "      <td>...</td>\n",
       "      <td>...</td>\n",
       "      <td>...</td>\n",
       "      <td>...</td>\n",
       "      <td>...</td>\n",
       "      <td>...</td>\n",
       "      <td>...</td>\n",
       "      <td>...</td>\n",
       "    </tr>\n",
       "    <tr>\n",
       "      <th>temperature_change_from_n2o</th>\n",
       "      <td>0.124432</td>\n",
       "      <td>0.887376</td>\n",
       "      <td>0.976299</td>\n",
       "      <td>0.830563</td>\n",
       "      <td>0.097290</td>\n",
       "      <td>0.962422</td>\n",
       "      <td>0.426666</td>\n",
       "      <td>-0.005000</td>\n",
       "      <td>0.953415</td>\n",
       "      <td>0.271134</td>\n",
       "      <td>...</td>\n",
       "      <td>0.502179</td>\n",
       "      <td>0.648452</td>\n",
       "      <td>0.970138</td>\n",
       "      <td>0.979878</td>\n",
       "      <td>0.987359</td>\n",
       "      <td>1.000000</td>\n",
       "      <td>0.977841</td>\n",
       "      <td>0.976756</td>\n",
       "      <td>-0.033170</td>\n",
       "      <td>-0.125654</td>\n",
       "    </tr>\n",
       "    <tr>\n",
       "      <th>total_ghg</th>\n",
       "      <td>0.029292</td>\n",
       "      <td>0.945264</td>\n",
       "      <td>0.981821</td>\n",
       "      <td>0.917280</td>\n",
       "      <td>0.091824</td>\n",
       "      <td>0.990723</td>\n",
       "      <td>0.465489</td>\n",
       "      <td>-0.012550</td>\n",
       "      <td>0.996540</td>\n",
       "      <td>0.295555</td>\n",
       "      <td>...</td>\n",
       "      <td>0.937712</td>\n",
       "      <td>0.972065</td>\n",
       "      <td>0.988881</td>\n",
       "      <td>0.967910</td>\n",
       "      <td>0.983109</td>\n",
       "      <td>0.977841</td>\n",
       "      <td>1.000000</td>\n",
       "      <td>0.997862</td>\n",
       "      <td>-0.182024</td>\n",
       "      <td>-0.117277</td>\n",
       "    </tr>\n",
       "    <tr>\n",
       "      <th>total_ghg_excluding_lucf</th>\n",
       "      <td>0.031849</td>\n",
       "      <td>0.934036</td>\n",
       "      <td>0.980726</td>\n",
       "      <td>0.921456</td>\n",
       "      <td>0.100188</td>\n",
       "      <td>0.996811</td>\n",
       "      <td>0.461929</td>\n",
       "      <td>-0.013050</td>\n",
       "      <td>0.996665</td>\n",
       "      <td>0.292195</td>\n",
       "      <td>...</td>\n",
       "      <td>0.943873</td>\n",
       "      <td>0.970249</td>\n",
       "      <td>0.981426</td>\n",
       "      <td>0.970729</td>\n",
       "      <td>0.983015</td>\n",
       "      <td>0.976756</td>\n",
       "      <td>0.997862</td>\n",
       "      <td>1.000000</td>\n",
       "      <td>-0.171555</td>\n",
       "      <td>-0.113502</td>\n",
       "    </tr>\n",
       "    <tr>\n",
       "      <th>trade_co2</th>\n",
       "      <td>0.006132</td>\n",
       "      <td>-0.314998</td>\n",
       "      <td>-0.070153</td>\n",
       "      <td>-0.394426</td>\n",
       "      <td>-0.030735</td>\n",
       "      <td>-0.130611</td>\n",
       "      <td>-0.357979</td>\n",
       "      <td>-0.038052</td>\n",
       "      <td>-0.180992</td>\n",
       "      <td>-0.227191</td>\n",
       "      <td>...</td>\n",
       "      <td>-0.259807</td>\n",
       "      <td>-0.053840</td>\n",
       "      <td>-0.207706</td>\n",
       "      <td>0.000514</td>\n",
       "      <td>-0.056494</td>\n",
       "      <td>-0.033170</td>\n",
       "      <td>-0.182024</td>\n",
       "      <td>-0.171555</td>\n",
       "      <td>1.000000</td>\n",
       "      <td>0.143160</td>\n",
       "    </tr>\n",
       "    <tr>\n",
       "      <th>trade_co2_share</th>\n",
       "      <td>0.065105</td>\n",
       "      <td>-0.124726</td>\n",
       "      <td>-0.056733</td>\n",
       "      <td>-0.107764</td>\n",
       "      <td>-0.167459</td>\n",
       "      <td>-0.115351</td>\n",
       "      <td>-0.061456</td>\n",
       "      <td>-0.011445</td>\n",
       "      <td>-0.122885</td>\n",
       "      <td>-0.038287</td>\n",
       "      <td>...</td>\n",
       "      <td>-0.168754</td>\n",
       "      <td>-0.126851</td>\n",
       "      <td>-0.135048</td>\n",
       "      <td>-0.117649</td>\n",
       "      <td>-0.123532</td>\n",
       "      <td>-0.125654</td>\n",
       "      <td>-0.117277</td>\n",
       "      <td>-0.113502</td>\n",
       "      <td>0.143160</td>\n",
       "      <td>1.000000</td>\n",
       "    </tr>\n",
       "  </tbody>\n",
       "</table>\n",
       "<p>77 rows × 77 columns</p>\n",
       "</div>"
      ]
     },
     "execution_count": 32,
     "metadata": {},
     "output_type": "execute_result"
    }
   ],
   "execution_count": 32
  },
  {
   "metadata": {},
   "cell_type": "markdown",
   "source": "## Predicting greenhouse emissions in the next 3 months",
   "id": "79a6b1b2592bbae2"
  },
  {
   "metadata": {},
   "cell_type": "markdown",
   "source": "### Using ARIMA model",
   "id": "f37047543398c661"
  },
  {
   "metadata": {
    "ExecuteTime": {
     "end_time": "2024-11-05T01:34:54.192974Z",
     "start_time": "2024-11-05T01:34:53.966612Z"
    }
   },
   "cell_type": "code",
   "source": [
    "# Select the relevant columns and drop rows with missing 'total_ghg' values\n",
    "annual_data = data[['year', 'total_ghg']].dropna()\n",
    "\n",
    "# Generate a monthly date range covering the years in the dataset\n",
    "monthly_data = pd.DataFrame({\n",
    "    'date': pd.date_range(start=f\"{annual_data['year'].min()}-01-01\", \n",
    "                          end=f\"{annual_data['year'].max()}-12-01\", freq='MS')\n",
    "})\n",
    "monthly_data['year'] = monthly_data['date'].dt.year\n",
    "\n",
    "# Merge annual emissions data onto the monthly data\n",
    "monthly_data = monthly_data.merge(annual_data, on='year', how='left')\n",
    "monthly_data['monthly_emissions'] = monthly_data['total_ghg'] / 12\n",
    "\n",
    "duplicates = monthly_data[monthly_data.duplicated(subset=['date'], keep=False)]\n",
    "if not duplicates.empty:\n",
    "    print(\"Duplicates found in the date column:\")\n",
    "    print(duplicates)\n",
    "\n",
    "monthly_data = monthly_data.drop_duplicates(subset=['date'])\n",
    "\n",
    "# Set 'date' as the index for the time series and ensure it has a monthly frequency\n",
    "monthly_data.set_index('date', inplace=True)\n",
    "monthly_data = monthly_data.asfreq('MS')  # Set the frequency to monthly\n",
    "\n",
    "arima_model = ARIMA(monthly_data['monthly_emissions'], order=(1,1,1))\n",
    "arima_fitted = arima_model.fit()\n",
    "\n",
    "forecast_months = 3\n",
    "monthly_forecast = arima_fitted.forecast(steps=forecast_months)\n",
    "\n",
    "# Adjust the index of the forecast to reflect January, February, and March of 2023\n",
    "forecast_index = pd.date_range(start='2023-01-01', periods=forecast_months, freq='MS')\n",
    "monthly_forecast.index = forecast_index\n",
    "\n",
    "print(\"\\nARIMA Forecast for the Next 3 Months (Jan-Mar 2023):\")\n",
    "print(monthly_forecast)\n",
    "\n",
    "plt.figure(figsize=(12, 6))\n",
    "plt.plot(monthly_data['monthly_emissions'], label='Simulated Historical Monthly Emissions', color='blue')\n",
    "plt.plot(monthly_forecast.index, monthly_forecast, label='Forecasted Monthly Emissions (2023)', color='orange', marker='o')\n",
    "plt.xlabel('Date')\n",
    "plt.ylabel('Monthly GHG Emissions')\n",
    "plt.title('Monthly Greenhouse Gas Emissions Forecast')\n",
    "plt.legend()\n",
    "plt.show()"
   ],
   "id": "42da313479eb731a",
   "outputs": [
    {
     "name": "stdout",
     "output_type": "stream",
     "text": [
      "Duplicates found in the date column:\n",
      "            date  year  total_ghg  monthly_emissions\n",
      "0     1990-01-01  1990      9.240           0.770000\n",
      "1     1990-01-01  1990   2688.740         224.061667\n",
      "2     1990-01-01  1990     11.370           0.947500\n",
      "3     1990-01-01  1990    122.880          10.240000\n",
      "4     1990-01-01  1990      0.430           0.035833\n",
      "...          ...   ...        ...                ...\n",
      "76123 2020-12-01  2020    458.140          38.178333\n",
      "76124 2020-12-01  2020  47513.148        3959.429000\n",
      "76125 2020-12-01  2020     24.390           2.032500\n",
      "76126 2020-12-01  2020     91.190           7.599167\n",
      "76127 2020-12-01  2020    113.200           9.433333\n",
      "\n",
      "[76128 rows x 4 columns]\n",
      "\n",
      "ARIMA Forecast for the Next 3 Months (Jan-Mar 2023):\n",
      "2023-01-01    2.605833\n",
      "2023-02-01    2.605833\n",
      "2023-03-01    2.605833\n",
      "Freq: MS, Name: predicted_mean, dtype: float64\n"
     ]
    },
    {
     "data": {
      "text/plain": [
       "<Figure size 1200x600 with 1 Axes>"
      ],
      "image/png": "[encoded data removed]"
     },
     "metadata": {},
     "output_type": "display_data"
    }
   ],
   "execution_count": 33
  },
  {
   "metadata": {},
   "cell_type": "markdown",
   "source": "### Using Exponential Smoothing",
   "id": "333bf0a5168110e"
  },
  {
   "metadata": {
    "ExecuteTime": {
     "end_time": "2024-11-05T01:34:54.257238Z",
     "start_time": "2024-11-05T01:34:54.234874Z"
    }
   },
   "cell_type": "code",
   "source": [
    "ets_model = ExponentialSmoothing(monthly_data['monthly_emissions'], trend='add', seasonal=None)\n",
    "ets_fitted = ets_model.fit()\n",
    "\n",
    "# Forecast next 3 months\n",
    "forecast_months = 3\n",
    "ets_forecast = ets_fitted.forecast(steps=forecast_months)\n",
    "\n",
    "# Adjust the index of the forecast to reflect January, February, and March of 2023\n",
    "forecast_index = pd.date_range(start=monthly_data.index[-1] + pd.DateOffset(months=1), periods=forecast_months, freq='MS')\n",
    "ets_forecast.index = forecast_index\n",
    "\n",
    "print(\"\\nETS Forecast for the Next 3 Months (Jan-Mar 2023):\")\n",
    "print(ets_forecast)"
   ],
   "id": "afbb69feda9b6377",
   "outputs": [
    {
     "name": "stdout",
     "output_type": "stream",
     "text": [
      "\n",
      "ETS Forecast for the Next 3 Months (Jan-Mar 2023):\n",
      "2021-01-01    2.610880\n",
      "2021-02-01    2.615832\n",
      "2021-03-01    2.620784\n",
      "Freq: MS, dtype: float64\n"
     ]
    }
   ],
   "execution_count": 34
  },
  {
   "metadata": {},
   "cell_type": "markdown",
   "source": "### Using Machine Learning Polynomial Regression",
   "id": "97370d469ff074a"
  },
  {
   "metadata": {
    "ExecuteTime": {
     "end_time": "2024-11-05T01:34:54.347379Z",
     "start_time": "2024-11-05T01:34:54.340414Z"
    }
   },
   "cell_type": "code",
   "source": [
    "# Prepare the data for Linear Regression\n",
    "monthly_data['time'] = np.arange(len(monthly_data))\n",
    "X = monthly_data[['time']]\n",
    "y = monthly_data['monthly_emissions']\n",
    "\n",
    "poly_model = make_pipeline(PolynomialFeatures(degree=2), LinearRegression())\n",
    "poly_model.fit(X, y)\n",
    "future_times_poly = pd.DataFrame({'time': np.arange(len(monthly_data), len(monthly_data) + 3)})\n",
    "poly_forecast = poly_model.predict(future_times_poly)\n",
    "\n",
    "print(\"\\nPolynomial Regression Forecast for the Next 3 Months:\")\n",
    "print(poly_forecast)"
   ],
   "id": "b74a3bc266123951",
   "outputs": [
    {
     "name": "stdout",
     "output_type": "stream",
     "text": [
      "\n",
      "Polynomial Regression Forecast for the Next 3 Months:\n",
      "[3.07919296 3.08845811 3.09773673]\n"
     ]
    }
   ],
   "execution_count": 35
  },
  {
   "metadata": {},
   "cell_type": "markdown",
   "source": "## Evaluating the models using RMSE and MAE",
   "id": "bb811dac9d60f326"
  },
  {
   "metadata": {
    "ExecuteTime": {
     "end_time": "2024-11-05T01:34:54.463045Z",
     "start_time": "2024-11-05T01:34:54.456304Z"
    }
   },
   "cell_type": "code",
   "source": [
    "# Calculate RMSE and MAE for ARIMA, ETS, and Linear Regression models\n",
    "\n",
    "# ARIMA\n",
    "arima_rmse = np.sqrt(((monthly_data['monthly_emissions'] - arima_fitted.fittedvalues) ** 2).mean())\n",
    "arima_mae = np.abs(monthly_data['monthly_emissions'] - arima_fitted.fittedvalues).mean()\n",
    "\n",
    "# ETS\n",
    "ets_rmse = np.sqrt(((monthly_data['monthly_emissions'] - ets_fitted.fittedvalues) ** 2).mean())\n",
    "ets_mae = np.abs(monthly_data['monthly_emissions'] - ets_fitted.fittedvalues).mean()\n",
    "\n",
    "# Poly Regression\n",
    "lr_rmse = np.sqrt(((monthly_data['monthly_emissions'] - poly_model.predict(X)) ** 2).mean())\n",
    "lr_mae = np.abs(monthly_data['monthly_emissions'] - poly_model.predict(X)).mean()\n",
    "\n",
    "print(\"\\nModel Evaluation Metrics:\")\n",
    "print(f\"ARIMA RMSE: {arima_rmse:.2f}, MAE: {arima_mae:.2f}\")\n",
    "print(f\"ETS RMSE: {ets_rmse:.2f}, MAE: {ets_mae:.2f}\")\n",
    "print(f\"Linear Regression RMSE: {lr_rmse:.2f}, MAE: {lr_mae:.2f}\")"
   ],
   "id": "cc9660c6610e2547",
   "outputs": [
    {
     "name": "stdout",
     "output_type": "stream",
     "text": [
      "\n",
      "Model Evaluation Metrics:\n",
      "ARIMA RMSE: 0.05, MAE: 0.01\n",
      "ETS RMSE: 0.04, MAE: 0.01\n",
      "Linear Regression RMSE: 0.20, MAE: 0.15\n"
     ]
    }
   ],
   "execution_count": 36
  },
  {
   "metadata": {},
   "cell_type": "markdown",
   "source": "## Comparing the predictions",
   "id": "e1465390fc5427ba"
  },
  {
   "metadata": {
    "ExecuteTime": {
     "end_time": "2024-11-05T01:34:54.616817Z",
     "start_time": "2024-11-05T01:34:54.510643Z"
    }
   },
   "cell_type": "code",
   "source": [
    "# Compare the predictions from ARIMA, ETS, and Linear Regression models\n",
    "plt.figure(figsize=(12, 6))\n",
    "plt.plot(monthly_data['monthly_emissions'], label='Historical Monthly Emissions', color='blue')\n",
    "plt.plot(monthly_forecast.index, monthly_forecast, label='ARIMA Forecast', color='orange', marker='o')\n",
    "plt.plot(ets_forecast.index, ets_forecast, label='ETS Forecast', color='green', marker='o')\n",
    "plt.plot(future_times_poly, poly_forecast, label='Poly Regression Forecast', color='red', marker='o')\n",
    "plt.xlabel('Date')\n",
    "plt.ylabel('Monthly GHG Emissions')\n",
    "plt.title('Monthly Greenhouse Gas Emissions Forecast Comparison')\n",
    "plt.legend()\n",
    "plt.show()"
   ],
   "id": "ef61b041414d73eb",
   "outputs": [
    {
     "data": {
      "text/plain": [
       "<Figure size 1200x600 with 1 Axes>"
      ],
      "image/png": "[encoded data removed]"
     },
     "metadata": {},
     "output_type": "display_data"
    }
   ],
   "execution_count": 37
  },
  {
   "metadata": {},
   "cell_type": "markdown",
   "source": "## Annual forecast for greenhouse gas emissions ",
   "id": "ed7bb139395ea456"
  },
  {
   "metadata": {
    "ExecuteTime": {
     "end_time": "2024-11-05T01:34:54.898151Z",
     "start_time": "2024-11-05T01:34:54.663781Z"
    }
   },
   "cell_type": "code",
   "source": [
    "# Forecasting annual greenhouse gas emissions\n",
    "country_data = data[data['country'] == 'World']\n",
    "country_data = country_data[['year', 'total_ghg']].dropna()\n",
    "country_data.set_index('year', inplace=True)\n",
    "\n",
    "# Fit an ARIMA model on the filtered or aggregated annual data\n",
    "arima_model = ARIMA(country_data['total_ghg'], order=(1,1,1))\n",
    "arima_fitted = arima_model.fit()\n",
    "\n",
    "# Forecast the next year\n",
    "forecast_years = 1\n",
    "annual_forecast = arima_fitted.forecast(steps=forecast_years)\n",
    "\n",
    "# Plot the historical data and the forecast\n",
    "plt.figure(figsize=(10, 6))\n",
    "plt.plot(country_data, label='Historical Annual Emissions', color='blue')\n",
    "plt.plot([country_data.index[-1] + 1], annual_forecast, label='Forecasted Annual Emissions', color='orange', marker='o')\n",
    "plt.xlabel('Year')\n",
    "plt.ylabel('Total GHG Emissions')\n",
    "plt.title('Annual Greenhouse Gas Emissions Forecast')\n",
    "plt.legend()\n",
    "plt.show()\n",
    "\n",
    "print(\"Annual Forecast for the Next Year:\")\n",
    "print(annual_forecast)"
   ],
   "id": "5aea98fc04704fff",
   "outputs": [
    {
     "name": "stderr",
     "output_type": "stream",
     "text": [
      "C:\\5. Semester\\Maskinlæring\\Assignment 1\\.venv\\Lib\\site-packages\\statsmodels\\tsa\\base\\tsa_model.py:473: ValueWarning:\n",
      "\n",
      "An unsupported index was provided. As a result, forecasts cannot be generated. To use the model for forecasting, use one of the supported classes of index.\n",
      "\n",
      "C:\\5. Semester\\Maskinlæring\\Assignment 1\\.venv\\Lib\\site-packages\\statsmodels\\tsa\\base\\tsa_model.py:473: ValueWarning:\n",
      "\n",
      "An unsupported index was provided. As a result, forecasts cannot be generated. To use the model for forecasting, use one of the supported classes of index.\n",
      "\n",
      "C:\\5. Semester\\Maskinlæring\\Assignment 1\\.venv\\Lib\\site-packages\\statsmodels\\tsa\\base\\tsa_model.py:473: ValueWarning:\n",
      "\n",
      "An unsupported index was provided. As a result, forecasts cannot be generated. To use the model for forecasting, use one of the supported classes of index.\n",
      "\n",
      "C:\\5. Semester\\Maskinlæring\\Assignment 1\\.venv\\Lib\\site-packages\\statsmodels\\tsa\\base\\tsa_model.py:837: ValueWarning:\n",
      "\n",
      "No supported index is available. Prediction results will be given with an integer index beginning at `start`.\n",
      "\n",
      "C:\\5. Semester\\Maskinlæring\\Assignment 1\\.venv\\Lib\\site-packages\\statsmodels\\tsa\\base\\tsa_model.py:837: FutureWarning:\n",
      "\n",
      "No supported index is available. In the next version, calling this method in a model without a supported index will result in an exception.\n",
      "\n"
     ]
    },
    {
     "data": {
      "text/plain": [
       "<Figure size 1000x600 with 1 Axes>"
      ],
      "image/png": "[encoded data removed]"
     },
     "metadata": {},
     "output_type": "display_data"
    },
    {
     "name": "stdout",
     "output_type": "stream",
     "text": [
      "Annual Forecast for the Next Year:\n",
      "31    47925.484052\n",
      "dtype: float64\n"
     ]
    }
   ],
   "execution_count": 38
  }
 ],
 "metadata": {
  "kernelspec": {
   "display_name": "Python 3",
   "language": "python",
   "name": "python3"
  },
  "language_info": {
   "codemirror_mode": {
    "name": "ipython",
    "version": 2
   },
   "file_extension": ".py",
   "mimetype": "text/x-python",
   "name": "python",
   "nbconvert_exporter": "python",
   "pygments_lexer": "ipython2",
   "version": "2.7.6"
  }
 },
 "nbformat": 4,
 "nbformat_minor": 5
}
