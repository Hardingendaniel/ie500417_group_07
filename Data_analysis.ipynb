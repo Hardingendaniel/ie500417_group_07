{
 "cells": [
  {
   "metadata": {},
   "cell_type": "markdown",
   "source": "# Data Analysis",
   "id": "71d5dd0e786fdd28"
  },
  {
   "metadata": {
    "collapsed": true,
    "ExecuteTime": {
     "end_time": "2024-10-29T11:10:22.183395Z",
     "start_time": "2024-10-29T11:10:19.460680Z"
    }
   },
   "cell_type": "code",
   "source": [
    "# Imports \n",
    "# Imports\n",
    "import pandas as pd\n",
    "import numpy as np\n",
    "import matplotlib.pyplot as plt\n",
    "import plotly.express as px\n",
    "import plotly.graph_objects as go\n",
    "from dash import Dash, dcc, html, Input, Output\n",
    "from statsmodels.tsa.arima.model import ARIMA\n",
    "from sklearn.preprocessing import StandardScaler"
   ],
   "id": "initial_id",
   "outputs": [],
   "execution_count": 2
  },
  {
   "metadata": {
    "ExecuteTime": {
     "end_time": "2024-10-29T11:10:22.319652Z",
     "start_time": "2024-10-29T11:10:22.183395Z"
    }
   },
   "cell_type": "code",
   "source": [
    "# Load the data\n",
    "data = pd.read_csv('data\\owid-co2-data.csv')"
   ],
   "id": "22860d1ad537266d",
   "outputs": [],
   "execution_count": 3
  },
  {
   "metadata": {
    "ExecuteTime": {
     "end_time": "2024-10-29T11:10:22.362166Z",
     "start_time": "2024-10-29T11:10:22.344681Z"
    }
   },
   "cell_type": "code",
   "source": [
    "# Display the data\n",
    "data.head()"
   ],
   "id": "bdf07c79c0f7e58e",
   "outputs": [
    {
     "data": {
      "text/plain": [
       "       country  year iso_code  population  gdp  cement_co2  \\\n",
       "0  Afghanistan  1850      AFG   3752993.0  NaN         NaN   \n",
       "1  Afghanistan  1851      AFG   3767956.0  NaN         NaN   \n",
       "2  Afghanistan  1852      AFG   3783940.0  NaN         NaN   \n",
       "3  Afghanistan  1853      AFG   3800954.0  NaN         NaN   \n",
       "4  Afghanistan  1854      AFG   3818038.0  NaN         NaN   \n",
       "\n",
       "   cement_co2_per_capita  co2  co2_growth_abs  co2_growth_prct  ...  \\\n",
       "0                    NaN  NaN             NaN              NaN  ...   \n",
       "1                    NaN  NaN             NaN              NaN  ...   \n",
       "2                    NaN  NaN             NaN              NaN  ...   \n",
       "3                    NaN  NaN             NaN              NaN  ...   \n",
       "4                    NaN  NaN             NaN              NaN  ...   \n",
       "\n",
       "   share_global_other_co2  share_of_temperature_change_from_ghg  \\\n",
       "0                     NaN                                   NaN   \n",
       "1                     NaN                                 0.157   \n",
       "2                     NaN                                 0.156   \n",
       "3                     NaN                                 0.156   \n",
       "4                     NaN                                 0.155   \n",
       "\n",
       "   temperature_change_from_ch4  temperature_change_from_co2  \\\n",
       "0                          NaN                          NaN   \n",
       "1                          0.0                          0.0   \n",
       "2                          0.0                          0.0   \n",
       "3                          0.0                          0.0   \n",
       "4                          0.0                          0.0   \n",
       "\n",
       "   temperature_change_from_ghg  temperature_change_from_n2o  total_ghg  \\\n",
       "0                          NaN                          NaN        NaN   \n",
       "1                          0.0                          0.0        NaN   \n",
       "2                          0.0                          0.0        NaN   \n",
       "3                          0.0                          0.0        NaN   \n",
       "4                          0.0                          0.0        NaN   \n",
       "\n",
       "   total_ghg_excluding_lucf  trade_co2  trade_co2_share  \n",
       "0                       NaN        NaN              NaN  \n",
       "1                       NaN        NaN              NaN  \n",
       "2                       NaN        NaN              NaN  \n",
       "3                       NaN        NaN              NaN  \n",
       "4                       NaN        NaN              NaN  \n",
       "\n",
       "[5 rows x 79 columns]"
      ],
      "text/html": [
       "<div>\n",
       "<style scoped>\n",
       "    .dataframe tbody tr th:only-of-type {\n",
       "        vertical-align: middle;\n",
       "    }\n",
       "\n",
       "    .dataframe tbody tr th {\n",
       "        vertical-align: top;\n",
       "    }\n",
       "\n",
       "    .dataframe thead th {\n",
       "        text-align: right;\n",
       "    }\n",
       "</style>\n",
       "<table border=\"1\" class=\"dataframe\">\n",
       "  <thead>\n",
       "    <tr style=\"text-align: right;\">\n",
       "      <th></th>\n",
       "      <th>country</th>\n",
       "      <th>year</th>\n",
       "      <th>iso_code</th>\n",
       "      <th>population</th>\n",
       "      <th>gdp</th>\n",
       "      <th>cement_co2</th>\n",
       "      <th>cement_co2_per_capita</th>\n",
       "      <th>co2</th>\n",
       "      <th>co2_growth_abs</th>\n",
       "      <th>co2_growth_prct</th>\n",
       "      <th>...</th>\n",
       "      <th>share_global_other_co2</th>\n",
       "      <th>share_of_temperature_change_from_ghg</th>\n",
       "      <th>temperature_change_from_ch4</th>\n",
       "      <th>temperature_change_from_co2</th>\n",
       "      <th>temperature_change_from_ghg</th>\n",
       "      <th>temperature_change_from_n2o</th>\n",
       "      <th>total_ghg</th>\n",
       "      <th>total_ghg_excluding_lucf</th>\n",
       "      <th>trade_co2</th>\n",
       "      <th>trade_co2_share</th>\n",
       "    </tr>\n",
       "  </thead>\n",
       "  <tbody>\n",
       "    <tr>\n",
       "      <th>0</th>\n",
       "      <td>Afghanistan</td>\n",
       "      <td>1850</td>\n",
       "      <td>AFG</td>\n",
       "      <td>3752993.0</td>\n",
       "      <td>NaN</td>\n",
       "      <td>NaN</td>\n",
       "      <td>NaN</td>\n",
       "      <td>NaN</td>\n",
       "      <td>NaN</td>\n",
       "      <td>NaN</td>\n",
       "      <td>...</td>\n",
       "      <td>NaN</td>\n",
       "      <td>NaN</td>\n",
       "      <td>NaN</td>\n",
       "      <td>NaN</td>\n",
       "      <td>NaN</td>\n",
       "      <td>NaN</td>\n",
       "      <td>NaN</td>\n",
       "      <td>NaN</td>\n",
       "      <td>NaN</td>\n",
       "      <td>NaN</td>\n",
       "    </tr>\n",
       "    <tr>\n",
       "      <th>1</th>\n",
       "      <td>Afghanistan</td>\n",
       "      <td>1851</td>\n",
       "      <td>AFG</td>\n",
       "      <td>3767956.0</td>\n",
       "      <td>NaN</td>\n",
       "      <td>NaN</td>\n",
       "      <td>NaN</td>\n",
       "      <td>NaN</td>\n",
       "      <td>NaN</td>\n",
       "      <td>NaN</td>\n",
       "      <td>...</td>\n",
       "      <td>NaN</td>\n",
       "      <td>0.157</td>\n",
       "      <td>0.0</td>\n",
       "      <td>0.0</td>\n",
       "      <td>0.0</td>\n",
       "      <td>0.0</td>\n",
       "      <td>NaN</td>\n",
       "      <td>NaN</td>\n",
       "      <td>NaN</td>\n",
       "      <td>NaN</td>\n",
       "    </tr>\n",
       "    <tr>\n",
       "      <th>2</th>\n",
       "      <td>Afghanistan</td>\n",
       "      <td>1852</td>\n",
       "      <td>AFG</td>\n",
       "      <td>3783940.0</td>\n",
       "      <td>NaN</td>\n",
       "      <td>NaN</td>\n",
       "      <td>NaN</td>\n",
       "      <td>NaN</td>\n",
       "      <td>NaN</td>\n",
       "      <td>NaN</td>\n",
       "      <td>...</td>\n",
       "      <td>NaN</td>\n",
       "      <td>0.156</td>\n",
       "      <td>0.0</td>\n",
       "      <td>0.0</td>\n",
       "      <td>0.0</td>\n",
       "      <td>0.0</td>\n",
       "      <td>NaN</td>\n",
       "      <td>NaN</td>\n",
       "      <td>NaN</td>\n",
       "      <td>NaN</td>\n",
       "    </tr>\n",
       "    <tr>\n",
       "      <th>3</th>\n",
       "      <td>Afghanistan</td>\n",
       "      <td>1853</td>\n",
       "      <td>AFG</td>\n",
       "      <td>3800954.0</td>\n",
       "      <td>NaN</td>\n",
       "      <td>NaN</td>\n",
       "      <td>NaN</td>\n",
       "      <td>NaN</td>\n",
       "      <td>NaN</td>\n",
       "      <td>NaN</td>\n",
       "      <td>...</td>\n",
       "      <td>NaN</td>\n",
       "      <td>0.156</td>\n",
       "      <td>0.0</td>\n",
       "      <td>0.0</td>\n",
       "      <td>0.0</td>\n",
       "      <td>0.0</td>\n",
       "      <td>NaN</td>\n",
       "      <td>NaN</td>\n",
       "      <td>NaN</td>\n",
       "      <td>NaN</td>\n",
       "    </tr>\n",
       "    <tr>\n",
       "      <th>4</th>\n",
       "      <td>Afghanistan</td>\n",
       "      <td>1854</td>\n",
       "      <td>AFG</td>\n",
       "      <td>3818038.0</td>\n",
       "      <td>NaN</td>\n",
       "      <td>NaN</td>\n",
       "      <td>NaN</td>\n",
       "      <td>NaN</td>\n",
       "      <td>NaN</td>\n",
       "      <td>NaN</td>\n",
       "      <td>...</td>\n",
       "      <td>NaN</td>\n",
       "      <td>0.155</td>\n",
       "      <td>0.0</td>\n",
       "      <td>0.0</td>\n",
       "      <td>0.0</td>\n",
       "      <td>0.0</td>\n",
       "      <td>NaN</td>\n",
       "      <td>NaN</td>\n",
       "      <td>NaN</td>\n",
       "      <td>NaN</td>\n",
       "    </tr>\n",
       "  </tbody>\n",
       "</table>\n",
       "<p>5 rows × 79 columns</p>\n",
       "</div>"
      ]
     },
     "execution_count": 4,
     "metadata": {},
     "output_type": "execute_result"
    }
   ],
   "execution_count": 4
  },
  {
   "metadata": {
    "ExecuteTime": {
     "end_time": "2024-10-29T11:10:22.423401Z",
     "start_time": "2024-10-29T11:10:22.417521Z"
    }
   },
   "cell_type": "code",
   "source": [
    "# Display the data types\n",
    "data.dtypes"
   ],
   "id": "68e8cbc7f104f605",
   "outputs": [
    {
     "data": {
      "text/plain": [
       "country                         object\n",
       "year                             int64\n",
       "iso_code                        object\n",
       "population                     float64\n",
       "gdp                            float64\n",
       "                                ...   \n",
       "temperature_change_from_n2o    float64\n",
       "total_ghg                      float64\n",
       "total_ghg_excluding_lucf       float64\n",
       "trade_co2                      float64\n",
       "trade_co2_share                float64\n",
       "Length: 79, dtype: object"
      ]
     },
     "execution_count": 5,
     "metadata": {},
     "output_type": "execute_result"
    }
   ],
   "execution_count": 5
  },
  {
   "metadata": {},
   "cell_type": "markdown",
   "source": "### Data cleaning",
   "id": "97bb6e678a759e32"
  },
  {
   "metadata": {
    "ExecuteTime": {
     "end_time": "2024-10-29T11:10:22.502105Z",
     "start_time": "2024-10-29T11:10:22.481869Z"
    }
   },
   "cell_type": "code",
   "source": [
    "# Check for missing values\n",
    "data.isnull().sum()"
   ],
   "id": "c2e1477d54496857",
   "outputs": [
    {
     "data": {
      "text/plain": [
       "country                            0\n",
       "year                               0\n",
       "iso_code                        7867\n",
       "population                      8001\n",
       "gdp                            32204\n",
       "                               ...  \n",
       "temperature_change_from_n2o     9575\n",
       "total_ghg                      41061\n",
       "total_ghg_excluding_lucf       41061\n",
       "trade_co2                      43017\n",
       "trade_co2_share                43018\n",
       "Length: 79, dtype: int64"
      ]
     },
     "execution_count": 6,
     "metadata": {},
     "output_type": "execute_result"
    }
   ],
   "execution_count": 6
  },
  {
   "metadata": {
    "ExecuteTime": {
     "end_time": "2024-10-29T11:21:40.696018Z",
     "start_time": "2024-10-29T11:21:40.473914Z"
    }
   },
   "cell_type": "code",
   "source": [
    "# Load dataset\n",
    "df = pd.read_csv('data\\owid-co2-data.csv')\n",
    "\n",
    "\n",
    "# Start Dash app\n",
    "app = Dash(__name__)\n",
    "\n",
    "# Layout of the app\n",
    "app.layout = html.Div([\n",
    "    html.H1(\"Greenhouse Gas Emissions Analysis Platform\", style={'textAlign': 'center', 'marginBottom': 20}),\n",
    "\n",
    "    html.Div([\n",
    "        html.Label(\"Select Country:\"),\n",
    "        dcc.Dropdown(\n",
    "            id='country-dropdown',\n",
    "            options=[{'label': country, 'value': country} for country in df['country'].unique()],\n",
    "            value='World',\n",
    "            style={'width': '50%', 'marginBottom': 20}\n",
    "        )\n",
    "    ], style={'textAlign': 'center'}),\n",
    "\n",
    "    html.Div([\n",
    "        dcc.Graph(id='emission-trend'),\n",
    "    ], style={'marginBottom': 50}),\n",
    "\n",
    "\n",
    "    html.Div([\n",
    "        html.Label(\"Select Year:\"),\n",
    "        dcc.Dropdown(\n",
    "            id='year-dropdown',\n",
    "            options=[{'label': year, 'value': year} for year in df['year'].unique()],\n",
    "            value=df['year'].max(),\n",
    "            style={'width': '50%', 'marginBottom': 20}\n",
    "        ),\n",
    "        dcc.Graph(id='emission-map')\n",
    "    ], style={'textAlign': 'center', 'marginBottom': 50})\n",
    "])\n",
    "\n",
    "@app.callback(\n",
    "    Output('emission-trend', 'figure'),\n",
    "    Input('country-dropdown', 'value')\n",
    ")\n",
    "def update_emission_trend(selected_country):\n",
    "    country_data = df[df['country'] == selected_country]\n",
    "\n",
    "    if 'co2' in country_data.columns:\n",
    "        emissions_column = 'co2'\n",
    "    elif 'cumulative_co2' in country_data.columns:\n",
    "        emissions_column = 'cumulative_co2'\n",
    "    else:\n",
    "        return go.Figure().update_layout(title=f'No emissions data available for {selected_country}')\n",
    "\n",
    "    country_data = country_data.dropna(subset=[emissions_column])\n",
    "\n",
    "    if country_data.empty:\n",
    "        return go.Figure().update_layout(title=f'No Data Available for {selected_country}', xaxis_title='Year', yaxis_title='CO2 emissions')\n",
    "\n",
    "    fig = px.line(country_data, x='year', y=emissions_column, title=f'{selected_country} Greenhouse Gas Emissions Over Time')\n",
    "    return fig\n",
    "\n",
    "if __name__ == '__main__':\n",
    "    app.run_server(debug=True)"
   ],
   "id": "65453f63589d1f54",
   "outputs": [
    {
     "data": {
      "text/plain": [
       "<IPython.lib.display.IFrame at 0x26886f1e590>"
      ],
      "text/html": [
       "\n",
       "        <iframe\n",
       "            width=\"100%\"\n",
       "            height=\"650\"\n",
       "            src=\"http://127.0.0.1:8050/\"\n",
       "            frameborder=\"0\"\n",
       "            allowfullscreen\n",
       "            \n",
       "        ></iframe>\n",
       "        "
      ]
     },
     "metadata": {},
     "output_type": "display_data"
    }
   ],
   "execution_count": 19
  },
  {
   "metadata": {
    "ExecuteTime": {
     "end_time": "2024-10-29T11:25:54.249984Z",
     "start_time": "2024-10-29T11:25:54.026090Z"
    }
   },
   "cell_type": "code",
   "source": [
    "# Find correlation between columns\n",
    "numeric_df = df.select_dtypes(include='number')\n",
    "correlation = numeric_df.corr()\n",
    "numeric_df.head()"
   ],
   "id": "4ba47a9f4f5ff50a",
   "outputs": [
    {
     "data": {
      "text/plain": [
       "   year  population  gdp  cement_co2  cement_co2_per_capita  co2  \\\n",
       "0  1850   3752993.0  NaN         NaN                    NaN  NaN   \n",
       "1  1851   3767956.0  NaN         NaN                    NaN  NaN   \n",
       "2  1852   3783940.0  NaN         NaN                    NaN  NaN   \n",
       "3  1853   3800954.0  NaN         NaN                    NaN  NaN   \n",
       "4  1854   3818038.0  NaN         NaN                    NaN  NaN   \n",
       "\n",
       "   co2_growth_abs  co2_growth_prct  co2_including_luc  \\\n",
       "0             NaN              NaN                NaN   \n",
       "1             NaN              NaN                NaN   \n",
       "2             NaN              NaN                NaN   \n",
       "3             NaN              NaN                NaN   \n",
       "4             NaN              NaN                NaN   \n",
       "\n",
       "   co2_including_luc_growth_abs  ...  share_global_other_co2  \\\n",
       "0                           NaN  ...                     NaN   \n",
       "1                           NaN  ...                     NaN   \n",
       "2                           NaN  ...                     NaN   \n",
       "3                           NaN  ...                     NaN   \n",
       "4                           NaN  ...                     NaN   \n",
       "\n",
       "   share_of_temperature_change_from_ghg  temperature_change_from_ch4  \\\n",
       "0                                   NaN                          NaN   \n",
       "1                                 0.157                          0.0   \n",
       "2                                 0.156                          0.0   \n",
       "3                                 0.156                          0.0   \n",
       "4                                 0.155                          0.0   \n",
       "\n",
       "   temperature_change_from_co2  temperature_change_from_ghg  \\\n",
       "0                          NaN                          NaN   \n",
       "1                          0.0                          0.0   \n",
       "2                          0.0                          0.0   \n",
       "3                          0.0                          0.0   \n",
       "4                          0.0                          0.0   \n",
       "\n",
       "   temperature_change_from_n2o  total_ghg  total_ghg_excluding_lucf  \\\n",
       "0                          NaN        NaN                       NaN   \n",
       "1                          0.0        NaN                       NaN   \n",
       "2                          0.0        NaN                       NaN   \n",
       "3                          0.0        NaN                       NaN   \n",
       "4                          0.0        NaN                       NaN   \n",
       "\n",
       "   trade_co2  trade_co2_share  \n",
       "0        NaN              NaN  \n",
       "1        NaN              NaN  \n",
       "2        NaN              NaN  \n",
       "3        NaN              NaN  \n",
       "4        NaN              NaN  \n",
       "\n",
       "[5 rows x 77 columns]"
      ],
      "text/html": [
       "<div>\n",
       "<style scoped>\n",
       "    .dataframe tbody tr th:only-of-type {\n",
       "        vertical-align: middle;\n",
       "    }\n",
       "\n",
       "    .dataframe tbody tr th {\n",
       "        vertical-align: top;\n",
       "    }\n",
       "\n",
       "    .dataframe thead th {\n",
       "        text-align: right;\n",
       "    }\n",
       "</style>\n",
       "<table border=\"1\" class=\"dataframe\">\n",
       "  <thead>\n",
       "    <tr style=\"text-align: right;\">\n",
       "      <th></th>\n",
       "      <th>year</th>\n",
       "      <th>population</th>\n",
       "      <th>gdp</th>\n",
       "      <th>cement_co2</th>\n",
       "      <th>cement_co2_per_capita</th>\n",
       "      <th>co2</th>\n",
       "      <th>co2_growth_abs</th>\n",
       "      <th>co2_growth_prct</th>\n",
       "      <th>co2_including_luc</th>\n",
       "      <th>co2_including_luc_growth_abs</th>\n",
       "      <th>...</th>\n",
       "      <th>share_global_other_co2</th>\n",
       "      <th>share_of_temperature_change_from_ghg</th>\n",
       "      <th>temperature_change_from_ch4</th>\n",
       "      <th>temperature_change_from_co2</th>\n",
       "      <th>temperature_change_from_ghg</th>\n",
       "      <th>temperature_change_from_n2o</th>\n",
       "      <th>total_ghg</th>\n",
       "      <th>total_ghg_excluding_lucf</th>\n",
       "      <th>trade_co2</th>\n",
       "      <th>trade_co2_share</th>\n",
       "    </tr>\n",
       "  </thead>\n",
       "  <tbody>\n",
       "    <tr>\n",
       "      <th>0</th>\n",
       "      <td>1850</td>\n",
       "      <td>3752993.0</td>\n",
       "      <td>NaN</td>\n",
       "      <td>NaN</td>\n",
       "      <td>NaN</td>\n",
       "      <td>NaN</td>\n",
       "      <td>NaN</td>\n",
       "      <td>NaN</td>\n",
       "      <td>NaN</td>\n",
       "      <td>NaN</td>\n",
       "      <td>...</td>\n",
       "      <td>NaN</td>\n",
       "      <td>NaN</td>\n",
       "      <td>NaN</td>\n",
       "      <td>NaN</td>\n",
       "      <td>NaN</td>\n",
       "      <td>NaN</td>\n",
       "      <td>NaN</td>\n",
       "      <td>NaN</td>\n",
       "      <td>NaN</td>\n",
       "      <td>NaN</td>\n",
       "    </tr>\n",
       "    <tr>\n",
       "      <th>1</th>\n",
       "      <td>1851</td>\n",
       "      <td>3767956.0</td>\n",
       "      <td>NaN</td>\n",
       "      <td>NaN</td>\n",
       "      <td>NaN</td>\n",
       "      <td>NaN</td>\n",
       "      <td>NaN</td>\n",
       "      <td>NaN</td>\n",
       "      <td>NaN</td>\n",
       "      <td>NaN</td>\n",
       "      <td>...</td>\n",
       "      <td>NaN</td>\n",
       "      <td>0.157</td>\n",
       "      <td>0.0</td>\n",
       "      <td>0.0</td>\n",
       "      <td>0.0</td>\n",
       "      <td>0.0</td>\n",
       "      <td>NaN</td>\n",
       "      <td>NaN</td>\n",
       "      <td>NaN</td>\n",
       "      <td>NaN</td>\n",
       "    </tr>\n",
       "    <tr>\n",
       "      <th>2</th>\n",
       "      <td>1852</td>\n",
       "      <td>3783940.0</td>\n",
       "      <td>NaN</td>\n",
       "      <td>NaN</td>\n",
       "      <td>NaN</td>\n",
       "      <td>NaN</td>\n",
       "      <td>NaN</td>\n",
       "      <td>NaN</td>\n",
       "      <td>NaN</td>\n",
       "      <td>NaN</td>\n",
       "      <td>...</td>\n",
       "      <td>NaN</td>\n",
       "      <td>0.156</td>\n",
       "      <td>0.0</td>\n",
       "      <td>0.0</td>\n",
       "      <td>0.0</td>\n",
       "      <td>0.0</td>\n",
       "      <td>NaN</td>\n",
       "      <td>NaN</td>\n",
       "      <td>NaN</td>\n",
       "      <td>NaN</td>\n",
       "    </tr>\n",
       "    <tr>\n",
       "      <th>3</th>\n",
       "      <td>1853</td>\n",
       "      <td>3800954.0</td>\n",
       "      <td>NaN</td>\n",
       "      <td>NaN</td>\n",
       "      <td>NaN</td>\n",
       "      <td>NaN</td>\n",
       "      <td>NaN</td>\n",
       "      <td>NaN</td>\n",
       "      <td>NaN</td>\n",
       "      <td>NaN</td>\n",
       "      <td>...</td>\n",
       "      <td>NaN</td>\n",
       "      <td>0.156</td>\n",
       "      <td>0.0</td>\n",
       "      <td>0.0</td>\n",
       "      <td>0.0</td>\n",
       "      <td>0.0</td>\n",
       "      <td>NaN</td>\n",
       "      <td>NaN</td>\n",
       "      <td>NaN</td>\n",
       "      <td>NaN</td>\n",
       "    </tr>\n",
       "    <tr>\n",
       "      <th>4</th>\n",
       "      <td>1854</td>\n",
       "      <td>3818038.0</td>\n",
       "      <td>NaN</td>\n",
       "      <td>NaN</td>\n",
       "      <td>NaN</td>\n",
       "      <td>NaN</td>\n",
       "      <td>NaN</td>\n",
       "      <td>NaN</td>\n",
       "      <td>NaN</td>\n",
       "      <td>NaN</td>\n",
       "      <td>...</td>\n",
       "      <td>NaN</td>\n",
       "      <td>0.155</td>\n",
       "      <td>0.0</td>\n",
       "      <td>0.0</td>\n",
       "      <td>0.0</td>\n",
       "      <td>0.0</td>\n",
       "      <td>NaN</td>\n",
       "      <td>NaN</td>\n",
       "      <td>NaN</td>\n",
       "      <td>NaN</td>\n",
       "    </tr>\n",
       "  </tbody>\n",
       "</table>\n",
       "<p>5 rows × 77 columns</p>\n",
       "</div>"
      ]
     },
     "execution_count": 25,
     "metadata": {},
     "output_type": "execute_result"
    }
   ],
   "execution_count": 25
  },
  {
   "metadata": {
    "ExecuteTime": {
     "end_time": "2024-10-29T11:33:37.324921Z",
     "start_time": "2024-10-29T11:33:37.095605Z"
    }
   },
   "cell_type": "code",
   "source": [
    "# Display the correlation matrix\n",
    "correlation_matrix = numeric_df.corr()\n",
    "\n",
    "columns_of_interest = ['co2', 'gdp', 'population', 'cumulative_co2']  \n",
    "correlation_matrix_filtered = numeric_df[columns_of_interest].corr()\n",
    "\n",
    "fig = px.imshow(correlation_matrix_filtered, text_auto=True, labels=dict(color='Correlation'))\n",
    "fig.update_layout(title='Filtered Correlation Matrix Heatmap', width=800, height=600)\n",
    "fig.update_xaxes(tickangle=45)\n",
    "fig.show()"
   ],
   "id": "95c25d934ff8fb50",
   "outputs": [
    {
     "data": {
      "application/vnd.plotly.v1+json": {
       "data": [
        {
         "coloraxis": "coloraxis",
         "name": "0",
         "texttemplate": "%{z}",
         "x": [
          "co2",
          "gdp",
          "population",
          "cumulative_co2"
         ],
         "y": [
          "co2",
          "gdp",
          "population",
          "cumulative_co2"
         ],
         "z": [
          [
           1.0,
           0.965254180688454,
           0.8423321951811774,
           0.946267239144833
          ],
          [
           0.965254180688454,
           1.0,
           0.9068428250612668,
           0.9724445196633802
          ],
          [
           0.8423321951811774,
           0.9068428250612668,
           1.0,
           0.7375268463279617
          ],
          [
           0.946267239144833,
           0.9724445196633802,
           0.7375268463279617,
           1.0
          ]
         ],
         "type": "heatmap",
         "xaxis": "x",
         "yaxis": "y",
         "hovertemplate": "x: %{x}<br>y: %{y}<br>Correlation: %{z}<extra></extra>"
        }
       ],
       "layout": {
        "template": {
         "data": {
          "histogram2dcontour": [
           {
            "type": "histogram2dcontour",
            "colorbar": {
             "outlinewidth": 0,
             "ticks": ""
            },
            "colorscale": [
             [
              0.0,
              "#0d0887"
             ],
             [
              0.1111111111111111,
              "#46039f"
             ],
             [
              0.2222222222222222,
              "#7201a8"
             ],
             [
              0.3333333333333333,
              "#9c179e"
             ],
             [
              0.4444444444444444,
              "#bd3786"
             ],
             [
              0.5555555555555556,
              "#d8576b"
             ],
             [
              0.6666666666666666,
              "#ed7953"
             ],
             [
              0.7777777777777778,
              "#fb9f3a"
             ],
             [
              0.8888888888888888,
              "#fdca26"
             ],
             [
              1.0,
              "#f0f921"
             ]
            ]
           }
          ],
          "choropleth": [
           {
            "type": "choropleth",
            "colorbar": {
             "outlinewidth": 0,
             "ticks": ""
            }
           }
          ],
          "histogram2d": [
           {
            "type": "histogram2d",
            "colorbar": {
             "outlinewidth": 0,
             "ticks": ""
            },
            "colorscale": [
             [
              0.0,
              "#0d0887"
             ],
             [
              0.1111111111111111,
              "#46039f"
             ],
             [
              0.2222222222222222,
              "#7201a8"
             ],
             [
              0.3333333333333333,
              "#9c179e"
             ],
             [
              0.4444444444444444,
              "#bd3786"
             ],
             [
              0.5555555555555556,
              "#d8576b"
             ],
             [
              0.6666666666666666,
              "#ed7953"
             ],
             [
              0.7777777777777778,
              "#fb9f3a"
             ],
             [
              0.8888888888888888,
              "#fdca26"
             ],
             [
              1.0,
              "#f0f921"
             ]
            ]
           }
          ],
          "heatmap": [
           {
            "type": "heatmap",
            "colorbar": {
             "outlinewidth": 0,
             "ticks": ""
            },
            "colorscale": [
             [
              0.0,
              "#0d0887"
             ],
             [
              0.1111111111111111,
              "#46039f"
             ],
             [
              0.2222222222222222,
              "#7201a8"
             ],
             [
              0.3333333333333333,
              "#9c179e"
             ],
             [
              0.4444444444444444,
              "#bd3786"
             ],
             [
              0.5555555555555556,
              "#d8576b"
             ],
             [
              0.6666666666666666,
              "#ed7953"
             ],
             [
              0.7777777777777778,
              "#fb9f3a"
             ],
             [
              0.8888888888888888,
              "#fdca26"
             ],
             [
              1.0,
              "#f0f921"
             ]
            ]
           }
          ],
          "heatmapgl": [
           {
            "type": "heatmapgl",
            "colorbar": {
             "outlinewidth": 0,
             "ticks": ""
            },
            "colorscale": [
             [
              0.0,
              "#0d0887"
             ],
             [
              0.1111111111111111,
              "#46039f"
             ],
             [
              0.2222222222222222,
              "#7201a8"
             ],
             [
              0.3333333333333333,
              "#9c179e"
             ],
             [
              0.4444444444444444,
              "#bd3786"
             ],
             [
              0.5555555555555556,
              "#d8576b"
             ],
             [
              0.6666666666666666,
              "#ed7953"
             ],
             [
              0.7777777777777778,
              "#fb9f3a"
             ],
             [
              0.8888888888888888,
              "#fdca26"
             ],
             [
              1.0,
              "#f0f921"
             ]
            ]
           }
          ],
          "contourcarpet": [
           {
            "type": "contourcarpet",
            "colorbar": {
             "outlinewidth": 0,
             "ticks": ""
            }
           }
          ],
          "contour": [
           {
            "type": "contour",
            "colorbar": {
             "outlinewidth": 0,
             "ticks": ""
            },
            "colorscale": [
             [
              0.0,
              "#0d0887"
             ],
             [
              0.1111111111111111,
              "#46039f"
             ],
             [
              0.2222222222222222,
              "#7201a8"
             ],
             [
              0.3333333333333333,
              "#9c179e"
             ],
             [
              0.4444444444444444,
              "#bd3786"
             ],
             [
              0.5555555555555556,
              "#d8576b"
             ],
             [
              0.6666666666666666,
              "#ed7953"
             ],
             [
              0.7777777777777778,
              "#fb9f3a"
             ],
             [
              0.8888888888888888,
              "#fdca26"
             ],
             [
              1.0,
              "#f0f921"
             ]
            ]
           }
          ],
          "surface": [
           {
            "type": "surface",
            "colorbar": {
             "outlinewidth": 0,
             "ticks": ""
            },
            "colorscale": [
             [
              0.0,
              "#0d0887"
             ],
             [
              0.1111111111111111,
              "#46039f"
             ],
             [
              0.2222222222222222,
              "#7201a8"
             ],
             [
              0.3333333333333333,
              "#9c179e"
             ],
             [
              0.4444444444444444,
              "#bd3786"
             ],
             [
              0.5555555555555556,
              "#d8576b"
             ],
             [
              0.6666666666666666,
              "#ed7953"
             ],
             [
              0.7777777777777778,
              "#fb9f3a"
             ],
             [
              0.8888888888888888,
              "#fdca26"
             ],
             [
              1.0,
              "#f0f921"
             ]
            ]
           }
          ],
          "mesh3d": [
           {
            "type": "mesh3d",
            "colorbar": {
             "outlinewidth": 0,
             "ticks": ""
            }
           }
          ],
          "scatter": [
           {
            "marker": {
             "line": {
              "color": "#283442"
             }
            },
            "type": "scatter"
           }
          ],
          "parcoords": [
           {
            "type": "parcoords",
            "line": {
             "colorbar": {
              "outlinewidth": 0,
              "ticks": ""
             }
            }
           }
          ],
          "scatterpolargl": [
           {
            "type": "scatterpolargl",
            "marker": {
             "colorbar": {
              "outlinewidth": 0,
              "ticks": ""
             }
            }
           }
          ],
          "bar": [
           {
            "error_x": {
             "color": "#f2f5fa"
            },
            "error_y": {
             "color": "#f2f5fa"
            },
            "marker": {
             "line": {
              "color": "rgb(17,17,17)",
              "width": 0.5
             },
             "pattern": {
              "fillmode": "overlay",
              "size": 10,
              "solidity": 0.2
             }
            },
            "type": "bar"
           }
          ],
          "scattergeo": [
           {
            "type": "scattergeo",
            "marker": {
             "colorbar": {
              "outlinewidth": 0,
              "ticks": ""
             }
            }
           }
          ],
          "scatterpolar": [
           {
            "type": "scatterpolar",
            "marker": {
             "colorbar": {
              "outlinewidth": 0,
              "ticks": ""
             }
            }
           }
          ],
          "histogram": [
           {
            "marker": {
             "pattern": {
              "fillmode": "overlay",
              "size": 10,
              "solidity": 0.2
             }
            },
            "type": "histogram"
           }
          ],
          "scattergl": [
           {
            "marker": {
             "line": {
              "color": "#283442"
             }
            },
            "type": "scattergl"
           }
          ],
          "scatter3d": [
           {
            "type": "scatter3d",
            "line": {
             "colorbar": {
              "outlinewidth": 0,
              "ticks": ""
             }
            },
            "marker": {
             "colorbar": {
              "outlinewidth": 0,
              "ticks": ""
             }
            }
           }
          ],
          "scattermapbox": [
           {
            "type": "scattermapbox",
            "marker": {
             "colorbar": {
              "outlinewidth": 0,
              "ticks": ""
             }
            }
           }
          ],
          "scatterternary": [
           {
            "type": "scatterternary",
            "marker": {
             "colorbar": {
              "outlinewidth": 0,
              "ticks": ""
             }
            }
           }
          ],
          "scattercarpet": [
           {
            "type": "scattercarpet",
            "marker": {
             "colorbar": {
              "outlinewidth": 0,
              "ticks": ""
             }
            }
           }
          ],
          "carpet": [
           {
            "aaxis": {
             "endlinecolor": "#A2B1C6",
             "gridcolor": "#506784",
             "linecolor": "#506784",
             "minorgridcolor": "#506784",
             "startlinecolor": "#A2B1C6"
            },
            "baxis": {
             "endlinecolor": "#A2B1C6",
             "gridcolor": "#506784",
             "linecolor": "#506784",
             "minorgridcolor": "#506784",
             "startlinecolor": "#A2B1C6"
            },
            "type": "carpet"
           }
          ],
          "table": [
           {
            "cells": {
             "fill": {
              "color": "#506784"
             },
             "line": {
              "color": "rgb(17,17,17)"
             }
            },
            "header": {
             "fill": {
              "color": "#2a3f5f"
             },
             "line": {
              "color": "rgb(17,17,17)"
             }
            },
            "type": "table"
           }
          ],
          "barpolar": [
           {
            "marker": {
             "line": {
              "color": "rgb(17,17,17)",
              "width": 0.5
             },
             "pattern": {
              "fillmode": "overlay",
              "size": 10,
              "solidity": 0.2
             }
            },
            "type": "barpolar"
           }
          ],
          "pie": [
           {
            "automargin": true,
            "type": "pie"
           }
          ]
         },
         "layout": {
          "autotypenumbers": "strict",
          "colorway": [
           "#636efa",
           "#EF553B",
           "#00cc96",
           "#ab63fa",
           "#FFA15A",
           "#19d3f3",
           "#FF6692",
           "#B6E880",
           "#FF97FF",
           "#FECB52"
          ],
          "font": {
           "color": "#f2f5fa"
          },
          "hovermode": "closest",
          "hoverlabel": {
           "align": "left"
          },
          "paper_bgcolor": "rgb(17,17,17)",
          "plot_bgcolor": "rgb(17,17,17)",
          "polar": {
           "bgcolor": "rgb(17,17,17)",
           "angularaxis": {
            "gridcolor": "#506784",
            "linecolor": "#506784",
            "ticks": ""
           },
           "radialaxis": {
            "gridcolor": "#506784",
            "linecolor": "#506784",
            "ticks": ""
           }
          },
          "ternary": {
           "bgcolor": "rgb(17,17,17)",
           "aaxis": {
            "gridcolor": "#506784",
            "linecolor": "#506784",
            "ticks": ""
           },
           "baxis": {
            "gridcolor": "#506784",
            "linecolor": "#506784",
            "ticks": ""
           },
           "caxis": {
            "gridcolor": "#506784",
            "linecolor": "#506784",
            "ticks": ""
           }
          },
          "coloraxis": {
           "colorbar": {
            "outlinewidth": 0,
            "ticks": ""
           }
          },
          "colorscale": {
           "sequential": [
            [
             0.0,
             "#0d0887"
            ],
            [
             0.1111111111111111,
             "#46039f"
            ],
            [
             0.2222222222222222,
             "#7201a8"
            ],
            [
             0.3333333333333333,
             "#9c179e"
            ],
            [
             0.4444444444444444,
             "#bd3786"
            ],
            [
             0.5555555555555556,
             "#d8576b"
            ],
            [
             0.6666666666666666,
             "#ed7953"
            ],
            [
             0.7777777777777778,
             "#fb9f3a"
            ],
            [
             0.8888888888888888,
             "#fdca26"
            ],
            [
             1.0,
             "#f0f921"
            ]
           ],
           "sequentialminus": [
            [
             0.0,
             "#0d0887"
            ],
            [
             0.1111111111111111,
             "#46039f"
            ],
            [
             0.2222222222222222,
             "#7201a8"
            ],
            [
             0.3333333333333333,
             "#9c179e"
            ],
            [
             0.4444444444444444,
             "#bd3786"
            ],
            [
             0.5555555555555556,
             "#d8576b"
            ],
            [
             0.6666666666666666,
             "#ed7953"
            ],
            [
             0.7777777777777778,
             "#fb9f3a"
            ],
            [
             0.8888888888888888,
             "#fdca26"
            ],
            [
             1.0,
             "#f0f921"
            ]
           ],
           "diverging": [
            [
             0,
             "#8e0152"
            ],
            [
             0.1,
             "#c51b7d"
            ],
            [
             0.2,
             "#de77ae"
            ],
            [
             0.3,
             "#f1b6da"
            ],
            [
             0.4,
             "#fde0ef"
            ],
            [
             0.5,
             "#f7f7f7"
            ],
            [
             0.6,
             "#e6f5d0"
            ],
            [
             0.7,
             "#b8e186"
            ],
            [
             0.8,
             "#7fbc41"
            ],
            [
             0.9,
             "#4d9221"
            ],
            [
             1,
             "#276419"
            ]
           ]
          },
          "xaxis": {
           "gridcolor": "#283442",
           "linecolor": "#506784",
           "ticks": "",
           "title": {
            "standoff": 15
           },
           "zerolinecolor": "#283442",
           "automargin": true,
           "zerolinewidth": 2
          },
          "yaxis": {
           "gridcolor": "#283442",
           "linecolor": "#506784",
           "ticks": "",
           "title": {
            "standoff": 15
           },
           "zerolinecolor": "#283442",
           "automargin": true,
           "zerolinewidth": 2
          },
          "scene": {
           "xaxis": {
            "backgroundcolor": "rgb(17,17,17)",
            "gridcolor": "#506784",
            "linecolor": "#506784",
            "showbackground": true,
            "ticks": "",
            "zerolinecolor": "#C8D4E3",
            "gridwidth": 2
           },
           "yaxis": {
            "backgroundcolor": "rgb(17,17,17)",
            "gridcolor": "#506784",
            "linecolor": "#506784",
            "showbackground": true,
            "ticks": "",
            "zerolinecolor": "#C8D4E3",
            "gridwidth": 2
           },
           "zaxis": {
            "backgroundcolor": "rgb(17,17,17)",
            "gridcolor": "#506784",
            "linecolor": "#506784",
            "showbackground": true,
            "ticks": "",
            "zerolinecolor": "#C8D4E3",
            "gridwidth": 2
           }
          },
          "shapedefaults": {
           "line": {
            "color": "#f2f5fa"
           }
          },
          "annotationdefaults": {
           "arrowcolor": "#f2f5fa",
           "arrowhead": 0,
           "arrowwidth": 1
          },
          "geo": {
           "bgcolor": "rgb(17,17,17)",
           "landcolor": "rgb(17,17,17)",
           "subunitcolor": "#506784",
           "showland": true,
           "showlakes": true,
           "lakecolor": "rgb(17,17,17)"
          },
          "title": {
           "x": 0.05
          },
          "updatemenudefaults": {
           "bgcolor": "#506784",
           "borderwidth": 0
          },
          "sliderdefaults": {
           "bgcolor": "#C8D4E3",
           "borderwidth": 1,
           "bordercolor": "rgb(17,17,17)",
           "tickwidth": 0
          },
          "mapbox": {
           "style": "dark"
          }
         }
        },
        "xaxis": {
         "anchor": "y",
         "domain": [
          0.0,
          1.0
         ],
         "scaleanchor": "y",
         "constrain": "domain",
         "tickangle": 45
        },
        "yaxis": {
         "anchor": "x",
         "domain": [
          0.0,
          1.0
         ],
         "autorange": "reversed",
         "constrain": "domain"
        },
        "coloraxis": {
         "colorbar": {
          "title": {
           "text": "Correlation"
          }
         },
         "colorscale": [
          [
           0.0,
           "#0d0887"
          ],
          [
           0.1111111111111111,
           "#46039f"
          ],
          [
           0.2222222222222222,
           "#7201a8"
          ],
          [
           0.3333333333333333,
           "#9c179e"
          ],
          [
           0.4444444444444444,
           "#bd3786"
          ],
          [
           0.5555555555555556,
           "#d8576b"
          ],
          [
           0.6666666666666666,
           "#ed7953"
          ],
          [
           0.7777777777777778,
           "#fb9f3a"
          ],
          [
           0.8888888888888888,
           "#fdca26"
          ],
          [
           1.0,
           "#f0f921"
          ]
         ]
        },
        "margin": {
         "t": 60
        },
        "title": {
         "text": "Filtered Correlation Matrix Heatmap"
        },
        "width": 800,
        "height": 600
       },
       "config": {
        "plotlyServerURL": "https://plot.ly"
       }
      },
      "text/html": [
       "<div>                            <div id=\"b08a4c5a-45b1-4c73-8330-57c21f7e6870\" class=\"plotly-graph-div\" style=\"height:600px; width:800px;\"></div>            <script type=\"text/javascript\">                require([\"plotly\"], function(Plotly) {                    window.PLOTLYENV=window.PLOTLYENV || {};                                    if (document.getElementById(\"b08a4c5a-45b1-4c73-8330-57c21f7e6870\")) {                    Plotly.newPlot(                        \"b08a4c5a-45b1-4c73-8330-57c21f7e6870\",                        [{\"coloraxis\":\"coloraxis\",\"name\":\"0\",\"texttemplate\":\"%{z}\",\"x\":[\"co2\",\"gdp\",\"population\",\"cumulative_co2\"],\"y\":[\"co2\",\"gdp\",\"population\",\"cumulative_co2\"],\"z\":[[1.0,0.965254180688454,0.8423321951811774,0.946267239144833],[0.965254180688454,1.0,0.9068428250612668,0.9724445196633802],[0.8423321951811774,0.9068428250612668,1.0,0.7375268463279617],[0.946267239144833,0.9724445196633802,0.7375268463279617,1.0]],\"type\":\"heatmap\",\"xaxis\":\"x\",\"yaxis\":\"y\",\"hovertemplate\":\"x: %{x}\\u003cbr\\u003ey: %{y}\\u003cbr\\u003eCorrelation: %{z}\\u003cextra\\u003e\\u003c\\u002fextra\\u003e\"}],                        {\"template\":{\"data\":{\"histogram2dcontour\":[{\"type\":\"histogram2dcontour\",\"colorbar\":{\"outlinewidth\":0,\"ticks\":\"\"},\"colorscale\":[[0.0,\"#0d0887\"],[0.1111111111111111,\"#46039f\"],[0.2222222222222222,\"#7201a8\"],[0.3333333333333333,\"#9c179e\"],[0.4444444444444444,\"#bd3786\"],[0.5555555555555556,\"#d8576b\"],[0.6666666666666666,\"#ed7953\"],[0.7777777777777778,\"#fb9f3a\"],[0.8888888888888888,\"#fdca26\"],[1.0,\"#f0f921\"]]}],\"choropleth\":[{\"type\":\"choropleth\",\"colorbar\":{\"outlinewidth\":0,\"ticks\":\"\"}}],\"histogram2d\":[{\"type\":\"histogram2d\",\"colorbar\":{\"outlinewidth\":0,\"ticks\":\"\"},\"colorscale\":[[0.0,\"#0d0887\"],[0.1111111111111111,\"#46039f\"],[0.2222222222222222,\"#7201a8\"],[0.3333333333333333,\"#9c179e\"],[0.4444444444444444,\"#bd3786\"],[0.5555555555555556,\"#d8576b\"],[0.6666666666666666,\"#ed7953\"],[0.7777777777777778,\"#fb9f3a\"],[0.8888888888888888,\"#fdca26\"],[1.0,\"#f0f921\"]]}],\"heatmap\":[{\"type\":\"heatmap\",\"colorbar\":{\"outlinewidth\":0,\"ticks\":\"\"},\"colorscale\":[[0.0,\"#0d0887\"],[0.1111111111111111,\"#46039f\"],[0.2222222222222222,\"#7201a8\"],[0.3333333333333333,\"#9c179e\"],[0.4444444444444444,\"#bd3786\"],[0.5555555555555556,\"#d8576b\"],[0.6666666666666666,\"#ed7953\"],[0.7777777777777778,\"#fb9f3a\"],[0.8888888888888888,\"#fdca26\"],[1.0,\"#f0f921\"]]}],\"heatmapgl\":[{\"type\":\"heatmapgl\",\"colorbar\":{\"outlinewidth\":0,\"ticks\":\"\"},\"colorscale\":[[0.0,\"#0d0887\"],[0.1111111111111111,\"#46039f\"],[0.2222222222222222,\"#7201a8\"],[0.3333333333333333,\"#9c179e\"],[0.4444444444444444,\"#bd3786\"],[0.5555555555555556,\"#d8576b\"],[0.6666666666666666,\"#ed7953\"],[0.7777777777777778,\"#fb9f3a\"],[0.8888888888888888,\"#fdca26\"],[1.0,\"#f0f921\"]]}],\"contourcarpet\":[{\"type\":\"contourcarpet\",\"colorbar\":{\"outlinewidth\":0,\"ticks\":\"\"}}],\"contour\":[{\"type\":\"contour\",\"colorbar\":{\"outlinewidth\":0,\"ticks\":\"\"},\"colorscale\":[[0.0,\"#0d0887\"],[0.1111111111111111,\"#46039f\"],[0.2222222222222222,\"#7201a8\"],[0.3333333333333333,\"#9c179e\"],[0.4444444444444444,\"#bd3786\"],[0.5555555555555556,\"#d8576b\"],[0.6666666666666666,\"#ed7953\"],[0.7777777777777778,\"#fb9f3a\"],[0.8888888888888888,\"#fdca26\"],[1.0,\"#f0f921\"]]}],\"surface\":[{\"type\":\"surface\",\"colorbar\":{\"outlinewidth\":0,\"ticks\":\"\"},\"colorscale\":[[0.0,\"#0d0887\"],[0.1111111111111111,\"#46039f\"],[0.2222222222222222,\"#7201a8\"],[0.3333333333333333,\"#9c179e\"],[0.4444444444444444,\"#bd3786\"],[0.5555555555555556,\"#d8576b\"],[0.6666666666666666,\"#ed7953\"],[0.7777777777777778,\"#fb9f3a\"],[0.8888888888888888,\"#fdca26\"],[1.0,\"#f0f921\"]]}],\"mesh3d\":[{\"type\":\"mesh3d\",\"colorbar\":{\"outlinewidth\":0,\"ticks\":\"\"}}],\"scatter\":[{\"marker\":{\"line\":{\"color\":\"#283442\"}},\"type\":\"scatter\"}],\"parcoords\":[{\"type\":\"parcoords\",\"line\":{\"colorbar\":{\"outlinewidth\":0,\"ticks\":\"\"}}}],\"scatterpolargl\":[{\"type\":\"scatterpolargl\",\"marker\":{\"colorbar\":{\"outlinewidth\":0,\"ticks\":\"\"}}}],\"bar\":[{\"error_x\":{\"color\":\"#f2f5fa\"},\"error_y\":{\"color\":\"#f2f5fa\"},\"marker\":{\"line\":{\"color\":\"rgb(17,17,17)\",\"width\":0.5},\"pattern\":{\"fillmode\":\"overlay\",\"size\":10,\"solidity\":0.2}},\"type\":\"bar\"}],\"scattergeo\":[{\"type\":\"scattergeo\",\"marker\":{\"colorbar\":{\"outlinewidth\":0,\"ticks\":\"\"}}}],\"scatterpolar\":[{\"type\":\"scatterpolar\",\"marker\":{\"colorbar\":{\"outlinewidth\":0,\"ticks\":\"\"}}}],\"histogram\":[{\"marker\":{\"pattern\":{\"fillmode\":\"overlay\",\"size\":10,\"solidity\":0.2}},\"type\":\"histogram\"}],\"scattergl\":[{\"marker\":{\"line\":{\"color\":\"#283442\"}},\"type\":\"scattergl\"}],\"scatter3d\":[{\"type\":\"scatter3d\",\"line\":{\"colorbar\":{\"outlinewidth\":0,\"ticks\":\"\"}},\"marker\":{\"colorbar\":{\"outlinewidth\":0,\"ticks\":\"\"}}}],\"scattermapbox\":[{\"type\":\"scattermapbox\",\"marker\":{\"colorbar\":{\"outlinewidth\":0,\"ticks\":\"\"}}}],\"scatterternary\":[{\"type\":\"scatterternary\",\"marker\":{\"colorbar\":{\"outlinewidth\":0,\"ticks\":\"\"}}}],\"scattercarpet\":[{\"type\":\"scattercarpet\",\"marker\":{\"colorbar\":{\"outlinewidth\":0,\"ticks\":\"\"}}}],\"carpet\":[{\"aaxis\":{\"endlinecolor\":\"#A2B1C6\",\"gridcolor\":\"#506784\",\"linecolor\":\"#506784\",\"minorgridcolor\":\"#506784\",\"startlinecolor\":\"#A2B1C6\"},\"baxis\":{\"endlinecolor\":\"#A2B1C6\",\"gridcolor\":\"#506784\",\"linecolor\":\"#506784\",\"minorgridcolor\":\"#506784\",\"startlinecolor\":\"#A2B1C6\"},\"type\":\"carpet\"}],\"table\":[{\"cells\":{\"fill\":{\"color\":\"#506784\"},\"line\":{\"color\":\"rgb(17,17,17)\"}},\"header\":{\"fill\":{\"color\":\"#2a3f5f\"},\"line\":{\"color\":\"rgb(17,17,17)\"}},\"type\":\"table\"}],\"barpolar\":[{\"marker\":{\"line\":{\"color\":\"rgb(17,17,17)\",\"width\":0.5},\"pattern\":{\"fillmode\":\"overlay\",\"size\":10,\"solidity\":0.2}},\"type\":\"barpolar\"}],\"pie\":[{\"automargin\":true,\"type\":\"pie\"}]},\"layout\":{\"autotypenumbers\":\"strict\",\"colorway\":[\"#636efa\",\"#EF553B\",\"#00cc96\",\"#ab63fa\",\"#FFA15A\",\"#19d3f3\",\"#FF6692\",\"#B6E880\",\"#FF97FF\",\"#FECB52\"],\"font\":{\"color\":\"#f2f5fa\"},\"hovermode\":\"closest\",\"hoverlabel\":{\"align\":\"left\"},\"paper_bgcolor\":\"rgb(17,17,17)\",\"plot_bgcolor\":\"rgb(17,17,17)\",\"polar\":{\"bgcolor\":\"rgb(17,17,17)\",\"angularaxis\":{\"gridcolor\":\"#506784\",\"linecolor\":\"#506784\",\"ticks\":\"\"},\"radialaxis\":{\"gridcolor\":\"#506784\",\"linecolor\":\"#506784\",\"ticks\":\"\"}},\"ternary\":{\"bgcolor\":\"rgb(17,17,17)\",\"aaxis\":{\"gridcolor\":\"#506784\",\"linecolor\":\"#506784\",\"ticks\":\"\"},\"baxis\":{\"gridcolor\":\"#506784\",\"linecolor\":\"#506784\",\"ticks\":\"\"},\"caxis\":{\"gridcolor\":\"#506784\",\"linecolor\":\"#506784\",\"ticks\":\"\"}},\"coloraxis\":{\"colorbar\":{\"outlinewidth\":0,\"ticks\":\"\"}},\"colorscale\":{\"sequential\":[[0.0,\"#0d0887\"],[0.1111111111111111,\"#46039f\"],[0.2222222222222222,\"#7201a8\"],[0.3333333333333333,\"#9c179e\"],[0.4444444444444444,\"#bd3786\"],[0.5555555555555556,\"#d8576b\"],[0.6666666666666666,\"#ed7953\"],[0.7777777777777778,\"#fb9f3a\"],[0.8888888888888888,\"#fdca26\"],[1.0,\"#f0f921\"]],\"sequentialminus\":[[0.0,\"#0d0887\"],[0.1111111111111111,\"#46039f\"],[0.2222222222222222,\"#7201a8\"],[0.3333333333333333,\"#9c179e\"],[0.4444444444444444,\"#bd3786\"],[0.5555555555555556,\"#d8576b\"],[0.6666666666666666,\"#ed7953\"],[0.7777777777777778,\"#fb9f3a\"],[0.8888888888888888,\"#fdca26\"],[1.0,\"#f0f921\"]],\"diverging\":[[0,\"#8e0152\"],[0.1,\"#c51b7d\"],[0.2,\"#de77ae\"],[0.3,\"#f1b6da\"],[0.4,\"#fde0ef\"],[0.5,\"#f7f7f7\"],[0.6,\"#e6f5d0\"],[0.7,\"#b8e186\"],[0.8,\"#7fbc41\"],[0.9,\"#4d9221\"],[1,\"#276419\"]]},\"xaxis\":{\"gridcolor\":\"#283442\",\"linecolor\":\"#506784\",\"ticks\":\"\",\"title\":{\"standoff\":15},\"zerolinecolor\":\"#283442\",\"automargin\":true,\"zerolinewidth\":2},\"yaxis\":{\"gridcolor\":\"#283442\",\"linecolor\":\"#506784\",\"ticks\":\"\",\"title\":{\"standoff\":15},\"zerolinecolor\":\"#283442\",\"automargin\":true,\"zerolinewidth\":2},\"scene\":{\"xaxis\":{\"backgroundcolor\":\"rgb(17,17,17)\",\"gridcolor\":\"#506784\",\"linecolor\":\"#506784\",\"showbackground\":true,\"ticks\":\"\",\"zerolinecolor\":\"#C8D4E3\",\"gridwidth\":2},\"yaxis\":{\"backgroundcolor\":\"rgb(17,17,17)\",\"gridcolor\":\"#506784\",\"linecolor\":\"#506784\",\"showbackground\":true,\"ticks\":\"\",\"zerolinecolor\":\"#C8D4E3\",\"gridwidth\":2},\"zaxis\":{\"backgroundcolor\":\"rgb(17,17,17)\",\"gridcolor\":\"#506784\",\"linecolor\":\"#506784\",\"showbackground\":true,\"ticks\":\"\",\"zerolinecolor\":\"#C8D4E3\",\"gridwidth\":2}},\"shapedefaults\":{\"line\":{\"color\":\"#f2f5fa\"}},\"annotationdefaults\":{\"arrowcolor\":\"#f2f5fa\",\"arrowhead\":0,\"arrowwidth\":1},\"geo\":{\"bgcolor\":\"rgb(17,17,17)\",\"landcolor\":\"rgb(17,17,17)\",\"subunitcolor\":\"#506784\",\"showland\":true,\"showlakes\":true,\"lakecolor\":\"rgb(17,17,17)\"},\"title\":{\"x\":0.05},\"updatemenudefaults\":{\"bgcolor\":\"#506784\",\"borderwidth\":0},\"sliderdefaults\":{\"bgcolor\":\"#C8D4E3\",\"borderwidth\":1,\"bordercolor\":\"rgb(17,17,17)\",\"tickwidth\":0},\"mapbox\":{\"style\":\"dark\"}}},\"xaxis\":{\"anchor\":\"y\",\"domain\":[0.0,1.0],\"scaleanchor\":\"y\",\"constrain\":\"domain\",\"tickangle\":45},\"yaxis\":{\"anchor\":\"x\",\"domain\":[0.0,1.0],\"autorange\":\"reversed\",\"constrain\":\"domain\"},\"coloraxis\":{\"colorbar\":{\"title\":{\"text\":\"Correlation\"}},\"colorscale\":[[0.0,\"#0d0887\"],[0.1111111111111111,\"#46039f\"],[0.2222222222222222,\"#7201a8\"],[0.3333333333333333,\"#9c179e\"],[0.4444444444444444,\"#bd3786\"],[0.5555555555555556,\"#d8576b\"],[0.6666666666666666,\"#ed7953\"],[0.7777777777777778,\"#fb9f3a\"],[0.8888888888888888,\"#fdca26\"],[1.0,\"#f0f921\"]]},\"margin\":{\"t\":60},\"title\":{\"text\":\"Filtered Correlation Matrix Heatmap\"},\"width\":800,\"height\":600},                        {\"responsive\": true}                    ).then(function(){\n",
       "                            \n",
       "var gd = document.getElementById('b08a4c5a-45b1-4c73-8330-57c21f7e6870');\n",
       "var x = new MutationObserver(function (mutations, observer) {{\n",
       "        var display = window.getComputedStyle(gd).display;\n",
       "        if (!display || display === 'none') {{\n",
       "            console.log([gd, 'removed!']);\n",
       "            Plotly.purge(gd);\n",
       "            observer.disconnect();\n",
       "        }}\n",
       "}});\n",
       "\n",
       "// Listen for the removal of the full notebook cells\n",
       "var notebookContainer = gd.closest('#notebook-container');\n",
       "if (notebookContainer) {{\n",
       "    x.observe(notebookContainer, {childList: true});\n",
       "}}\n",
       "\n",
       "// Listen for the clearing of the current output cell\n",
       "var outputEl = gd.closest('.output');\n",
       "if (outputEl) {{\n",
       "    x.observe(outputEl, {childList: true});\n",
       "}}\n",
       "\n",
       "                        })                };                });            </script>        </div>"
      ]
     },
     "metadata": {},
     "output_type": "display_data"
    }
   ],
   "execution_count": 34
  },
  {
   "metadata": {
    "ExecuteTime": {
     "end_time": "2024-10-29T11:36:46.936024Z",
     "start_time": "2024-10-29T11:36:46.923468Z"
    }
   },
   "cell_type": "code",
   "source": [
    "# Select relevant columns for correlation\n",
    "correlation_data = data[['gdp', 'population', 'co2', 'cumulative_co2', \"total_ghg\"]]\n",
    "\n",
    "# Drop rows with missing values to avoid calculation errors\n",
    "correlation_data = correlation_data.dropna()\n",
    "\n",
    "# Calculate the correlation matrix\n",
    "correlation_matrix = correlation_data.corr()\n",
    "\n",
    "# Display the correlation matrix\n",
    "correlation_matrix"
   ],
   "id": "c9509a2478778f31",
   "outputs": [
    {
     "data": {
      "text/plain": [
       "                     gdp  population       co2  cumulative_co2  total_ghg\n",
       "gdp             1.000000    0.938576  0.977784        0.977087   0.981821\n",
       "population      0.938576    1.000000  0.942418        0.887566   0.959142\n",
       "co2             0.977784    0.942418  1.000000        0.964965   0.994183\n",
       "cumulative_co2  0.977087    0.887566  0.964965        1.000000   0.961094\n",
       "total_ghg       0.981821    0.959142  0.994183        0.961094   1.000000"
      ],
      "text/html": [
       "<div>\n",
       "<style scoped>\n",
       "    .dataframe tbody tr th:only-of-type {\n",
       "        vertical-align: middle;\n",
       "    }\n",
       "\n",
       "    .dataframe tbody tr th {\n",
       "        vertical-align: top;\n",
       "    }\n",
       "\n",
       "    .dataframe thead th {\n",
       "        text-align: right;\n",
       "    }\n",
       "</style>\n",
       "<table border=\"1\" class=\"dataframe\">\n",
       "  <thead>\n",
       "    <tr style=\"text-align: right;\">\n",
       "      <th></th>\n",
       "      <th>gdp</th>\n",
       "      <th>population</th>\n",
       "      <th>co2</th>\n",
       "      <th>cumulative_co2</th>\n",
       "      <th>total_ghg</th>\n",
       "    </tr>\n",
       "  </thead>\n",
       "  <tbody>\n",
       "    <tr>\n",
       "      <th>gdp</th>\n",
       "      <td>1.000000</td>\n",
       "      <td>0.938576</td>\n",
       "      <td>0.977784</td>\n",
       "      <td>0.977087</td>\n",
       "      <td>0.981821</td>\n",
       "    </tr>\n",
       "    <tr>\n",
       "      <th>population</th>\n",
       "      <td>0.938576</td>\n",
       "      <td>1.000000</td>\n",
       "      <td>0.942418</td>\n",
       "      <td>0.887566</td>\n",
       "      <td>0.959142</td>\n",
       "    </tr>\n",
       "    <tr>\n",
       "      <th>co2</th>\n",
       "      <td>0.977784</td>\n",
       "      <td>0.942418</td>\n",
       "      <td>1.000000</td>\n",
       "      <td>0.964965</td>\n",
       "      <td>0.994183</td>\n",
       "    </tr>\n",
       "    <tr>\n",
       "      <th>cumulative_co2</th>\n",
       "      <td>0.977087</td>\n",
       "      <td>0.887566</td>\n",
       "      <td>0.964965</td>\n",
       "      <td>1.000000</td>\n",
       "      <td>0.961094</td>\n",
       "    </tr>\n",
       "    <tr>\n",
       "      <th>total_ghg</th>\n",
       "      <td>0.981821</td>\n",
       "      <td>0.959142</td>\n",
       "      <td>0.994183</td>\n",
       "      <td>0.961094</td>\n",
       "      <td>1.000000</td>\n",
       "    </tr>\n",
       "  </tbody>\n",
       "</table>\n",
       "</div>"
      ]
     },
     "execution_count": 38,
     "metadata": {},
     "output_type": "execute_result"
    }
   ],
   "execution_count": 38
  },
  {
   "metadata": {
    "ExecuteTime": {
     "end_time": "2024-10-29T11:39:27.967764Z",
     "start_time": "2024-10-29T11:39:27.717403Z"
    }
   },
   "cell_type": "code",
   "source": [
    "# Select only numerical columns for correlation calculation\n",
    "numerical_data = data.select_dtypes(include=['number'])\n",
    "\n",
    "# Calculate the correlation matrix for all numerical columns\n",
    "correlation_matrix_all_numeric = numerical_data.corr()\n",
    "\n",
    "# Display the correlation matrix\n",
    "correlation_matrix_all_numeric"
   ],
   "id": "e3f19ee95389dfa6",
   "outputs": [
    {
     "data": {
      "text/plain": [
       "                                 year  population       gdp  cement_co2  \\\n",
       "year                         1.000000    0.069914  0.079754    0.102981   \n",
       "population                   0.069914    1.000000  0.906843    0.802239   \n",
       "gdp                          0.079754    0.906843  1.000000    0.912824   \n",
       "cement_co2                   0.102981    0.802239  0.912824    1.000000   \n",
       "cement_co2_per_capita        0.312224    0.037464  0.077386    0.150730   \n",
       "...                               ...         ...       ...         ...   \n",
       "temperature_change_from_n2o  0.167180    0.887780  0.976314    0.830563   \n",
       "total_ghg                    0.029770    0.945268  0.981821    0.917280   \n",
       "total_ghg_excluding_lucf     0.032313    0.934041  0.980726    0.921456   \n",
       "trade_co2                    0.006118   -0.314998 -0.070153   -0.394426   \n",
       "trade_co2_share              0.064661   -0.124726 -0.056733   -0.107764   \n",
       "\n",
       "                             cement_co2_per_capita       co2  co2_growth_abs  \\\n",
       "year                                      0.312224  0.142780        0.046398   \n",
       "population                                0.037464  0.842332        0.502810   \n",
       "gdp                                       0.077386  0.965254        0.311429   \n",
       "cement_co2                                0.150730  0.890979        0.482679   \n",
       "cement_co2_per_capita                     1.000000  0.141605        0.064110   \n",
       "...                                            ...       ...             ...   \n",
       "temperature_change_from_n2o               0.097290  0.962422        0.426666   \n",
       "total_ghg                                 0.091824  0.990723        0.465489   \n",
       "total_ghg_excluding_lucf                  0.100188  0.996811        0.461929   \n",
       "trade_co2                                -0.030735 -0.130611       -0.357979   \n",
       "trade_co2_share                          -0.167459 -0.115351       -0.061456   \n",
       "\n",
       "                             co2_growth_prct  co2_including_luc  \\\n",
       "year                               -0.009721           0.076471   \n",
       "population                         -0.004865           0.908075   \n",
       "gdp                                -0.002278           0.948413   \n",
       "cement_co2                         -0.003283           0.853730   \n",
       "cement_co2_per_capita              -0.009446           0.096567   \n",
       "...                                      ...                ...   \n",
       "temperature_change_from_n2o        -0.005000           0.953415   \n",
       "total_ghg                          -0.012550           0.996540   \n",
       "total_ghg_excluding_lucf           -0.013050           0.996665   \n",
       "trade_co2                          -0.038052          -0.180992   \n",
       "trade_co2_share                    -0.011445          -0.122885   \n",
       "\n",
       "                             co2_including_luc_growth_abs  ...  \\\n",
       "year                                             0.010471  ...   \n",
       "population                                       0.348481  ...   \n",
       "gdp                                              0.171332  ...   \n",
       "cement_co2                                       0.313276  ...   \n",
       "cement_co2_per_capita                            0.033119  ...   \n",
       "...                                                   ...  ...   \n",
       "temperature_change_from_n2o                      0.271134  ...   \n",
       "total_ghg                                        0.295555  ...   \n",
       "total_ghg_excluding_lucf                         0.292195  ...   \n",
       "trade_co2                                       -0.227191  ...   \n",
       "trade_co2_share                                 -0.038287  ...   \n",
       "\n",
       "                             share_global_other_co2  \\\n",
       "year                                      -0.726284   \n",
       "population                                 0.590498   \n",
       "gdp                                        0.395960   \n",
       "cement_co2                                 0.405180   \n",
       "cement_co2_per_capita                     -0.296477   \n",
       "...                                             ...   \n",
       "temperature_change_from_n2o                0.502179   \n",
       "total_ghg                                  0.937712   \n",
       "total_ghg_excluding_lucf                   0.943873   \n",
       "trade_co2                                 -0.259807   \n",
       "trade_co2_share                           -0.168754   \n",
       "\n",
       "                             share_of_temperature_change_from_ghg  \\\n",
       "year                                                    -0.003506   \n",
       "population                                               0.738238   \n",
       "gdp                                                      0.672933   \n",
       "cement_co2                                               0.461275   \n",
       "cement_co2_per_capita                                   -0.010834   \n",
       "...                                                           ...   \n",
       "temperature_change_from_n2o                              0.648758   \n",
       "total_ghg                                                0.972068   \n",
       "total_ghg_excluding_lucf                                 0.970251   \n",
       "trade_co2                                               -0.053840   \n",
       "trade_co2_share                                         -0.126851   \n",
       "\n",
       "                             temperature_change_from_ch4  \\\n",
       "year                                            0.165236   \n",
       "population                                      0.938839   \n",
       "gdp                                             0.958469   \n",
       "cement_co2                                      0.853453   \n",
       "cement_co2_per_capita                           0.089212   \n",
       "...                                                  ...   \n",
       "temperature_change_from_n2o                     0.966588   \n",
       "total_ghg                                       0.988882   \n",
       "total_ghg_excluding_lucf                        0.981427   \n",
       "trade_co2                                      -0.207706   \n",
       "trade_co2_share                                -0.135048   \n",
       "\n",
       "                             temperature_change_from_co2  \\\n",
       "year                                            0.154614   \n",
       "population                                      0.849670   \n",
       "gdp                                             0.959959   \n",
       "cement_co2                                      0.792499   \n",
       "cement_co2_per_capita                           0.101050   \n",
       "...                                                  ...   \n",
       "temperature_change_from_n2o                     0.980009   \n",
       "total_ghg                                       0.967913   \n",
       "total_ghg_excluding_lucf                        0.970731   \n",
       "trade_co2                                       0.000514   \n",
       "trade_co2_share                                -0.117649   \n",
       "\n",
       "                             temperature_change_from_ghg  \\\n",
       "year                                            0.157873   \n",
       "population                                      0.883132   \n",
       "gdp                                             0.966761   \n",
       "cement_co2                                      0.818248   \n",
       "cement_co2_per_capita                           0.099593   \n",
       "...                                                  ...   \n",
       "temperature_change_from_n2o                     0.987345   \n",
       "total_ghg                                       0.983110   \n",
       "total_ghg_excluding_lucf                        0.983016   \n",
       "trade_co2                                      -0.056494   \n",
       "trade_co2_share                                -0.123532   \n",
       "\n",
       "                             temperature_change_from_n2o  total_ghg  \\\n",
       "year                                            0.167180   0.029770   \n",
       "population                                      0.887780   0.945268   \n",
       "gdp                                             0.976314   0.981821   \n",
       "cement_co2                                      0.830563   0.917280   \n",
       "cement_co2_per_capita                           0.097290   0.091824   \n",
       "...                                                  ...        ...   \n",
       "temperature_change_from_n2o                     1.000000   0.977843   \n",
       "total_ghg                                       0.977843   1.000000   \n",
       "total_ghg_excluding_lucf                        0.976758   0.997862   \n",
       "trade_co2                                      -0.033170  -0.182024   \n",
       "trade_co2_share                                -0.125654  -0.117277   \n",
       "\n",
       "                             total_ghg_excluding_lucf  trade_co2  \\\n",
       "year                                         0.032313   0.006118   \n",
       "population                                   0.934041  -0.314998   \n",
       "gdp                                          0.980726  -0.070153   \n",
       "cement_co2                                   0.921456  -0.394426   \n",
       "cement_co2_per_capita                        0.100188  -0.030735   \n",
       "...                                               ...        ...   \n",
       "temperature_change_from_n2o                  0.976758  -0.033170   \n",
       "total_ghg                                    0.997862  -0.182024   \n",
       "total_ghg_excluding_lucf                     1.000000  -0.171555   \n",
       "trade_co2                                   -0.171555   1.000000   \n",
       "trade_co2_share                             -0.113502   0.143002   \n",
       "\n",
       "                             trade_co2_share  \n",
       "year                                0.064661  \n",
       "population                         -0.124726  \n",
       "gdp                                -0.056733  \n",
       "cement_co2                         -0.107764  \n",
       "cement_co2_per_capita              -0.167459  \n",
       "...                                      ...  \n",
       "temperature_change_from_n2o        -0.125654  \n",
       "total_ghg                          -0.117277  \n",
       "total_ghg_excluding_lucf           -0.113502  \n",
       "trade_co2                           0.143002  \n",
       "trade_co2_share                     1.000000  \n",
       "\n",
       "[77 rows x 77 columns]"
      ],
      "text/html": [
       "<div>\n",
       "<style scoped>\n",
       "    .dataframe tbody tr th:only-of-type {\n",
       "        vertical-align: middle;\n",
       "    }\n",
       "\n",
       "    .dataframe tbody tr th {\n",
       "        vertical-align: top;\n",
       "    }\n",
       "\n",
       "    .dataframe thead th {\n",
       "        text-align: right;\n",
       "    }\n",
       "</style>\n",
       "<table border=\"1\" class=\"dataframe\">\n",
       "  <thead>\n",
       "    <tr style=\"text-align: right;\">\n",
       "      <th></th>\n",
       "      <th>year</th>\n",
       "      <th>population</th>\n",
       "      <th>gdp</th>\n",
       "      <th>cement_co2</th>\n",
       "      <th>cement_co2_per_capita</th>\n",
       "      <th>co2</th>\n",
       "      <th>co2_growth_abs</th>\n",
       "      <th>co2_growth_prct</th>\n",
       "      <th>co2_including_luc</th>\n",
       "      <th>co2_including_luc_growth_abs</th>\n",
       "      <th>...</th>\n",
       "      <th>share_global_other_co2</th>\n",
       "      <th>share_of_temperature_change_from_ghg</th>\n",
       "      <th>temperature_change_from_ch4</th>\n",
       "      <th>temperature_change_from_co2</th>\n",
       "      <th>temperature_change_from_ghg</th>\n",
       "      <th>temperature_change_from_n2o</th>\n",
       "      <th>total_ghg</th>\n",
       "      <th>total_ghg_excluding_lucf</th>\n",
       "      <th>trade_co2</th>\n",
       "      <th>trade_co2_share</th>\n",
       "    </tr>\n",
       "  </thead>\n",
       "  <tbody>\n",
       "    <tr>\n",
       "      <th>year</th>\n",
       "      <td>1.000000</td>\n",
       "      <td>0.069914</td>\n",
       "      <td>0.079754</td>\n",
       "      <td>0.102981</td>\n",
       "      <td>0.312224</td>\n",
       "      <td>0.142780</td>\n",
       "      <td>0.046398</td>\n",
       "      <td>-0.009721</td>\n",
       "      <td>0.076471</td>\n",
       "      <td>0.010471</td>\n",
       "      <td>...</td>\n",
       "      <td>-0.726284</td>\n",
       "      <td>-0.003506</td>\n",
       "      <td>0.165236</td>\n",
       "      <td>0.154614</td>\n",
       "      <td>0.157873</td>\n",
       "      <td>0.167180</td>\n",
       "      <td>0.029770</td>\n",
       "      <td>0.032313</td>\n",
       "      <td>0.006118</td>\n",
       "      <td>0.064661</td>\n",
       "    </tr>\n",
       "    <tr>\n",
       "      <th>population</th>\n",
       "      <td>0.069914</td>\n",
       "      <td>1.000000</td>\n",
       "      <td>0.906843</td>\n",
       "      <td>0.802239</td>\n",
       "      <td>0.037464</td>\n",
       "      <td>0.842332</td>\n",
       "      <td>0.502810</td>\n",
       "      <td>-0.004865</td>\n",
       "      <td>0.908075</td>\n",
       "      <td>0.348481</td>\n",
       "      <td>...</td>\n",
       "      <td>0.590498</td>\n",
       "      <td>0.738238</td>\n",
       "      <td>0.938839</td>\n",
       "      <td>0.849670</td>\n",
       "      <td>0.883132</td>\n",
       "      <td>0.887780</td>\n",
       "      <td>0.945268</td>\n",
       "      <td>0.934041</td>\n",
       "      <td>-0.314998</td>\n",
       "      <td>-0.124726</td>\n",
       "    </tr>\n",
       "    <tr>\n",
       "      <th>gdp</th>\n",
       "      <td>0.079754</td>\n",
       "      <td>0.906843</td>\n",
       "      <td>1.000000</td>\n",
       "      <td>0.912824</td>\n",
       "      <td>0.077386</td>\n",
       "      <td>0.965254</td>\n",
       "      <td>0.311429</td>\n",
       "      <td>-0.002278</td>\n",
       "      <td>0.948413</td>\n",
       "      <td>0.171332</td>\n",
       "      <td>...</td>\n",
       "      <td>0.395960</td>\n",
       "      <td>0.672933</td>\n",
       "      <td>0.958469</td>\n",
       "      <td>0.959959</td>\n",
       "      <td>0.966761</td>\n",
       "      <td>0.976314</td>\n",
       "      <td>0.981821</td>\n",
       "      <td>0.980726</td>\n",
       "      <td>-0.070153</td>\n",
       "      <td>-0.056733</td>\n",
       "    </tr>\n",
       "    <tr>\n",
       "      <th>cement_co2</th>\n",
       "      <td>0.102981</td>\n",
       "      <td>0.802239</td>\n",
       "      <td>0.912824</td>\n",
       "      <td>1.000000</td>\n",
       "      <td>0.150730</td>\n",
       "      <td>0.890979</td>\n",
       "      <td>0.482679</td>\n",
       "      <td>-0.003283</td>\n",
       "      <td>0.853730</td>\n",
       "      <td>0.313276</td>\n",
       "      <td>...</td>\n",
       "      <td>0.405180</td>\n",
       "      <td>0.461275</td>\n",
       "      <td>0.853453</td>\n",
       "      <td>0.792499</td>\n",
       "      <td>0.818248</td>\n",
       "      <td>0.830563</td>\n",
       "      <td>0.917280</td>\n",
       "      <td>0.921456</td>\n",
       "      <td>-0.394426</td>\n",
       "      <td>-0.107764</td>\n",
       "    </tr>\n",
       "    <tr>\n",
       "      <th>cement_co2_per_capita</th>\n",
       "      <td>0.312224</td>\n",
       "      <td>0.037464</td>\n",
       "      <td>0.077386</td>\n",
       "      <td>0.150730</td>\n",
       "      <td>1.000000</td>\n",
       "      <td>0.141605</td>\n",
       "      <td>0.064110</td>\n",
       "      <td>-0.009446</td>\n",
       "      <td>0.096567</td>\n",
       "      <td>0.033119</td>\n",
       "      <td>...</td>\n",
       "      <td>-0.296477</td>\n",
       "      <td>-0.010834</td>\n",
       "      <td>0.089212</td>\n",
       "      <td>0.101050</td>\n",
       "      <td>0.099593</td>\n",
       "      <td>0.097290</td>\n",
       "      <td>0.091824</td>\n",
       "      <td>0.100188</td>\n",
       "      <td>-0.030735</td>\n",
       "      <td>-0.167459</td>\n",
       "    </tr>\n",
       "    <tr>\n",
       "      <th>...</th>\n",
       "      <td>...</td>\n",
       "      <td>...</td>\n",
       "      <td>...</td>\n",
       "      <td>...</td>\n",
       "      <td>...</td>\n",
       "      <td>...</td>\n",
       "      <td>...</td>\n",
       "      <td>...</td>\n",
       "      <td>...</td>\n",
       "      <td>...</td>\n",
       "      <td>...</td>\n",
       "      <td>...</td>\n",
       "      <td>...</td>\n",
       "      <td>...</td>\n",
       "      <td>...</td>\n",
       "      <td>...</td>\n",
       "      <td>...</td>\n",
       "      <td>...</td>\n",
       "      <td>...</td>\n",
       "      <td>...</td>\n",
       "      <td>...</td>\n",
       "    </tr>\n",
       "    <tr>\n",
       "      <th>temperature_change_from_n2o</th>\n",
       "      <td>0.167180</td>\n",
       "      <td>0.887780</td>\n",
       "      <td>0.976314</td>\n",
       "      <td>0.830563</td>\n",
       "      <td>0.097290</td>\n",
       "      <td>0.962422</td>\n",
       "      <td>0.426666</td>\n",
       "      <td>-0.005000</td>\n",
       "      <td>0.953415</td>\n",
       "      <td>0.271134</td>\n",
       "      <td>...</td>\n",
       "      <td>0.502179</td>\n",
       "      <td>0.648758</td>\n",
       "      <td>0.966588</td>\n",
       "      <td>0.980009</td>\n",
       "      <td>0.987345</td>\n",
       "      <td>1.000000</td>\n",
       "      <td>0.977843</td>\n",
       "      <td>0.976758</td>\n",
       "      <td>-0.033170</td>\n",
       "      <td>-0.125654</td>\n",
       "    </tr>\n",
       "    <tr>\n",
       "      <th>total_ghg</th>\n",
       "      <td>0.029770</td>\n",
       "      <td>0.945268</td>\n",
       "      <td>0.981821</td>\n",
       "      <td>0.917280</td>\n",
       "      <td>0.091824</td>\n",
       "      <td>0.990723</td>\n",
       "      <td>0.465489</td>\n",
       "      <td>-0.012550</td>\n",
       "      <td>0.996540</td>\n",
       "      <td>0.295555</td>\n",
       "      <td>...</td>\n",
       "      <td>0.937712</td>\n",
       "      <td>0.972068</td>\n",
       "      <td>0.988882</td>\n",
       "      <td>0.967913</td>\n",
       "      <td>0.983110</td>\n",
       "      <td>0.977843</td>\n",
       "      <td>1.000000</td>\n",
       "      <td>0.997862</td>\n",
       "      <td>-0.182024</td>\n",
       "      <td>-0.117277</td>\n",
       "    </tr>\n",
       "    <tr>\n",
       "      <th>total_ghg_excluding_lucf</th>\n",
       "      <td>0.032313</td>\n",
       "      <td>0.934041</td>\n",
       "      <td>0.980726</td>\n",
       "      <td>0.921456</td>\n",
       "      <td>0.100188</td>\n",
       "      <td>0.996811</td>\n",
       "      <td>0.461929</td>\n",
       "      <td>-0.013050</td>\n",
       "      <td>0.996665</td>\n",
       "      <td>0.292195</td>\n",
       "      <td>...</td>\n",
       "      <td>0.943873</td>\n",
       "      <td>0.970251</td>\n",
       "      <td>0.981427</td>\n",
       "      <td>0.970731</td>\n",
       "      <td>0.983016</td>\n",
       "      <td>0.976758</td>\n",
       "      <td>0.997862</td>\n",
       "      <td>1.000000</td>\n",
       "      <td>-0.171555</td>\n",
       "      <td>-0.113502</td>\n",
       "    </tr>\n",
       "    <tr>\n",
       "      <th>trade_co2</th>\n",
       "      <td>0.006118</td>\n",
       "      <td>-0.314998</td>\n",
       "      <td>-0.070153</td>\n",
       "      <td>-0.394426</td>\n",
       "      <td>-0.030735</td>\n",
       "      <td>-0.130611</td>\n",
       "      <td>-0.357979</td>\n",
       "      <td>-0.038052</td>\n",
       "      <td>-0.180992</td>\n",
       "      <td>-0.227191</td>\n",
       "      <td>...</td>\n",
       "      <td>-0.259807</td>\n",
       "      <td>-0.053840</td>\n",
       "      <td>-0.207706</td>\n",
       "      <td>0.000514</td>\n",
       "      <td>-0.056494</td>\n",
       "      <td>-0.033170</td>\n",
       "      <td>-0.182024</td>\n",
       "      <td>-0.171555</td>\n",
       "      <td>1.000000</td>\n",
       "      <td>0.143002</td>\n",
       "    </tr>\n",
       "    <tr>\n",
       "      <th>trade_co2_share</th>\n",
       "      <td>0.064661</td>\n",
       "      <td>-0.124726</td>\n",
       "      <td>-0.056733</td>\n",
       "      <td>-0.107764</td>\n",
       "      <td>-0.167459</td>\n",
       "      <td>-0.115351</td>\n",
       "      <td>-0.061456</td>\n",
       "      <td>-0.011445</td>\n",
       "      <td>-0.122885</td>\n",
       "      <td>-0.038287</td>\n",
       "      <td>...</td>\n",
       "      <td>-0.168754</td>\n",
       "      <td>-0.126851</td>\n",
       "      <td>-0.135048</td>\n",
       "      <td>-0.117649</td>\n",
       "      <td>-0.123532</td>\n",
       "      <td>-0.125654</td>\n",
       "      <td>-0.117277</td>\n",
       "      <td>-0.113502</td>\n",
       "      <td>0.143002</td>\n",
       "      <td>1.000000</td>\n",
       "    </tr>\n",
       "  </tbody>\n",
       "</table>\n",
       "<p>77 rows × 77 columns</p>\n",
       "</div>"
      ]
     },
     "execution_count": 41,
     "metadata": {},
     "output_type": "execute_result"
    }
   ],
   "execution_count": 41
  }
 ],
 "metadata": {
  "kernelspec": {
   "display_name": "Python 3",
   "language": "python",
   "name": "python3"
  },
  "language_info": {
   "codemirror_mode": {
    "name": "ipython",
    "version": 2
   },
   "file_extension": ".py",
   "mimetype": "text/x-python",
   "name": "python",
   "nbconvert_exporter": "python",
   "pygments_lexer": "ipython2",
   "version": "2.7.6"
  }
 },
 "nbformat": 4,
 "nbformat_minor": 5
}
